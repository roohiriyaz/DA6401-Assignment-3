{
 "cells": [
  {
   "cell_type": "code",
   "execution_count": 1,
   "metadata": {
    "execution": {
     "iopub.execute_input": "2025-05-20T10:12:49.036956Z",
     "iopub.status.busy": "2025-05-20T10:12:49.036239Z",
     "iopub.status.idle": "2025-05-20T10:12:53.589377Z",
     "shell.execute_reply": "2025-05-20T10:12:53.588828Z",
     "shell.execute_reply.started": "2025-05-20T10:12:49.036928Z"
    },
    "trusted": true
   },
   "outputs": [],
   "source": [
    "import os\n",
    "import torch\n",
    "import torch.nn as nn\n",
    "from torch.utils.data import Dataset, DataLoader\n",
    "from collections import Counter\n",
    "import pandas as pd\n",
    "import random\n",
    "from IPython.display import display, HTML"
   ]
  },
  {
   "cell_type": "code",
   "execution_count": 2,
   "metadata": {
    "execution": {
     "iopub.execute_input": "2025-05-20T10:13:02.406705Z",
     "iopub.status.busy": "2025-05-20T10:13:02.405876Z",
     "iopub.status.idle": "2025-05-20T10:13:11.452391Z",
     "shell.execute_reply": "2025-05-20T10:13:11.451787Z",
     "shell.execute_reply.started": "2025-05-20T10:13:02.406681Z"
    },
    "trusted": true
   },
   "outputs": [
    {
     "name": "stderr",
     "output_type": "stream",
     "text": [
      "\u001b[34m\u001b[1mwandb\u001b[0m: Using wandb-core as the SDK backend.  Please refer to https://wandb.me/wandb-core for more information.\n",
      "\u001b[34m\u001b[1mwandb\u001b[0m: \u001b[33mWARNING\u001b[0m If you're specifying your api key in code, ensure this code is not shared publicly.\n",
      "\u001b[34m\u001b[1mwandb\u001b[0m: \u001b[33mWARNING\u001b[0m Consider setting the WANDB_API_KEY environment variable, or running `wandb login` from the command line.\n",
      "\u001b[34m\u001b[1mwandb\u001b[0m: No netrc file found, creating one.\n",
      "\u001b[34m\u001b[1mwandb\u001b[0m: Appending key for api.wandb.ai to your netrc file: /root/.netrc\n",
      "\u001b[34m\u001b[1mwandb\u001b[0m: Currently logged in as: \u001b[33mroohmr1011\u001b[0m (\u001b[33mroohiparveen\u001b[0m) to \u001b[32mhttps://api.wandb.ai\u001b[0m. Use \u001b[1m`wandb login --relogin`\u001b[0m to force relogin\n"
     ]
    },
    {
     "data": {
      "text/plain": [
       "True"
      ]
     },
     "execution_count": 2,
     "metadata": {},
     "output_type": "execute_result"
    }
   ],
   "source": [
    "import wandb\n",
    "wandb.login(key=\"8b9afebd4705d9e357dd7b2fa957f97e19705bf1\")"
   ]
  },
  {
   "cell_type": "code",
   "execution_count": 3,
   "metadata": {
    "execution": {
     "iopub.execute_input": "2025-05-20T10:02:56.711788Z",
     "iopub.status.busy": "2025-05-20T10:02:56.710894Z",
     "iopub.status.idle": "2025-05-20T10:02:57.613470Z",
     "shell.execute_reply": "2025-05-20T10:02:57.612717Z",
     "shell.execute_reply.started": "2025-05-20T10:02:56.711763Z"
    },
    "trusted": true
   },
   "outputs": [],
   "source": [
    "# ---------------------------\n",
    "# Vocab Utilities\n",
    "# ---------------------------\n",
    "def build_vocab_from_data(path, column=0):\n",
    "    counter = Counter()\n",
    "    with open(path, encoding='utf-8') as f:\n",
    "        for line in f:\n",
    "            parts = line.strip().split('\\t')\n",
    "            if len(parts) < 2:\n",
    "                continue\n",
    "            text = parts[column]\n",
    "            counter.update(list(text))\n",
    "    chars = sorted(counter.keys())\n",
    "    vocab = {'<pad>': 0, '<unk>': 1, '<sos>': 2, '<eos>': 3}\n",
    "    for i, char in enumerate(chars, start=4):\n",
    "        vocab[char] = i\n",
    "    return vocab\n",
    "\n",
    "def inverse_vocab(vocab):\n",
    "    return {idx: char for char, idx in vocab.items()}\n",
    "\n",
    "# ---------------------------\n",
    "# Dataset & Collate\n",
    "# ---------------------------\n",
    "class TransliterationDataset(Dataset):\n",
    "    def __init__(self, path, input_vocab, output_vocab):\n",
    "        self.data = []\n",
    "        with open(path, encoding='utf-8') as f:\n",
    "            for line in f:\n",
    "                parts = line.strip().split('\\t')\n",
    "                if len(parts) < 2:\n",
    "                    continue\n",
    "                tgt, src = parts[0], parts[1]\n",
    "                src_ids = [input_vocab['<sos>']] + [input_vocab.get(c, input_vocab['<unk>']) for c in src] + [input_vocab['<eos>']]\n",
    "                tgt_ids = [output_vocab['<sos>']] + [output_vocab.get(c, output_vocab['<unk>']) for c in tgt] + [output_vocab['<eos>']]\n",
    "                self.data.append((src_ids, tgt_ids))\n",
    "\n",
    "    def __len__(self):\n",
    "        return len(self.data)\n",
    "\n",
    "    def __getitem__(self, idx):\n",
    "        return self.data[idx]\n",
    "\n",
    "def pad_collate_fn(batch):\n",
    "    src_batch, tgt_batch = zip(*batch)\n",
    "    max_src_len = max(len(seq) for seq in src_batch)\n",
    "    max_tgt_len = max(len(seq) for seq in tgt_batch)\n",
    "    padded_src = [seq + [input_vocab['<pad>']] * (max_src_len - len(seq)) for seq in src_batch]\n",
    "    padded_tgt = [seq + [output_vocab['<pad>']] * (max_tgt_len - len(seq)) for seq in tgt_batch]\n",
    "    return torch.tensor(padded_src), torch.tensor(padded_tgt)\n",
    "# ---------------------------\n",
    "# Setup Paths and Build Vocab\n",
    "# ---------------------------\n",
    "data_path = \"/kaggle/input/dakshina-dataset/dakshina_dataset_v1.0/ta/lexicons\"\n",
    "train_file = os.path.join(data_path, \"/kaggle/input/dakshina-dataset/dakshina_dataset_v1.0/ta/lexicons/ta.translit.sampled.train.tsv\")\n",
    "dev_file = os.path.join(data_path, \"/kaggle/input/dakshina-dataset/dakshina_dataset_v1.0/ta/lexicons/ta.translit.sampled.dev.tsv\")\n",
    "\n",
    "input_vocab = build_vocab_from_data(train_file, column=1)   # Latin script\n",
    "output_vocab = build_vocab_from_data(train_file, column=0)  # Native script\n",
    "\n",
    "inv_input_vocab = inverse_vocab(input_vocab)\n",
    "inv_output_vocab = inverse_vocab(output_vocab)\n",
    "\n",
    "PAD_IDX = output_vocab['<pad>']\n",
    "\n",
    "# ---------------------------\n",
    "# Create Datasets and Loaders\n",
    "# ---------------------------\n",
    "train_dataset = TransliterationDataset(train_file, input_vocab, output_vocab)\n",
    "val_dataset = TransliterationDataset(dev_file, input_vocab, output_vocab)\n",
    "\n",
    "train_loader = DataLoader(train_dataset, batch_size=64, shuffle=True, collate_fn=pad_collate_fn)\n",
    "val_loader = DataLoader(val_dataset, batch_size=64, shuffle=False, collate_fn=pad_collate_fn)\n",
    "\n",
    "# ---------------------------\n",
    "# Attention Model\n",
    "# ---------------------------\n",
    "class Attention(nn.Module):\n",
    "    def __init__(self, enc_hidden_dim, dec_hidden_dim):\n",
    "        super().__init__()\n",
    "        self.attn = nn.Linear(enc_hidden_dim + dec_hidden_dim, dec_hidden_dim)\n",
    "        self.v = nn.Linear(dec_hidden_dim, 1, bias=False)\n",
    "\n",
    "    def forward(self, hidden, encoder_outputs, mask=None):\n",
    "        src_len = encoder_outputs.size(1)\n",
    "        hidden = hidden.unsqueeze(1).repeat(1, src_len, 1)\n",
    "        energy = torch.tanh(self.attn(torch.cat((hidden, encoder_outputs), dim=2)))\n",
    "        attention = self.v(energy).squeeze(2)\n",
    "        return torch.softmax(attention, dim=1)\n",
    "\n",
    "class Encoder(nn.Module):\n",
    "    def __init__(self, input_dim, emb_dim, hidden_dim, num_layers, dropout):\n",
    "        super().__init__()\n",
    "        self.embedding = nn.Embedding(input_dim, emb_dim)\n",
    "        self.rnn = nn.GRU(emb_dim, hidden_dim, num_layers=num_layers, batch_first=True, dropout=dropout if num_layers > 1 else 0)\n",
    "\n",
    "    def forward(self, src):\n",
    "        embedded = self.embedding(src)\n",
    "        outputs, hidden = self.rnn(embedded)\n",
    "        return outputs, hidden[-1]  # outputs: [batch, src_len, hidden], hidden: [batch, hidden]\n",
    "\n",
    "class Decoder(nn.Module):\n",
    "    def __init__(self, output_dim, emb_dim, enc_hidden_dim, dec_hidden_dim, attention, dropout):\n",
    "        super().__init__()\n",
    "        self.output_dim = output_dim\n",
    "        self.embedding = nn.Embedding(output_dim, emb_dim)\n",
    "        self.attention = attention\n",
    "        self.rnn = nn.GRU(enc_hidden_dim + emb_dim, dec_hidden_dim, batch_first=True)\n",
    "        self.fc_out = nn.Linear(enc_hidden_dim + dec_hidden_dim + emb_dim, output_dim)\n",
    "        self.dropout = nn.Dropout(dropout)\n",
    "\n",
    "    def forward(self, input, hidden, encoder_outputs):\n",
    "        input = input.unsqueeze(1)\n",
    "        embedded = self.dropout(self.embedding(input))\n",
    "        a = self.attention(hidden, encoder_outputs)\n",
    "        a = a.unsqueeze(1)\n",
    "        weighted = torch.bmm(a, encoder_outputs)\n",
    "        rnn_input = torch.cat((embedded, weighted), dim=2)\n",
    "        output, hidden = self.rnn(rnn_input, hidden.unsqueeze(0))\n",
    "        output = output.squeeze(1)\n",
    "        weighted = weighted.squeeze(1)\n",
    "        embedded = embedded.squeeze(1)\n",
    "        prediction = self.fc_out(torch.cat((output, weighted, embedded), dim=1))\n",
    "        return prediction, hidden.squeeze(0)\n",
    "\n",
    "class Seq2Seq(nn.Module):\n",
    "    def __init__(self, encoder, decoder):\n",
    "        super().__init__()\n",
    "        self.encoder = encoder\n",
    "        self.decoder = decoder\n",
    "\n",
    "    def forward(self, src, trg, teacher_forcing_ratio=0.5):\n",
    "        batch_size = src.shape[0]\n",
    "        trg_len = trg.shape[1]\n",
    "        trg_vocab_size = self.decoder.output_dim\n",
    "        outputs = torch.zeros(batch_size, trg_len, trg_vocab_size).to(src.device)\n",
    "\n",
    "        encoder_outputs, hidden = self.encoder(src)\n",
    "        input = trg[:, 0]\n",
    "\n",
    "        for t in range(1, trg_len):\n",
    "            output, hidden = self.decoder(input, hidden, encoder_outputs)\n",
    "            outputs[:, t] = output\n",
    "            teacher_force = torch.rand(1).item() < teacher_forcing_ratio\n",
    "            input = trg[:, t] if teacher_force else output.argmax(1)\n",
    "\n",
    "        return outputs\n",
    "\n",
    "# ---------------------------\n",
    "# Training with W&B Sweep\n",
    "# ---------------------------\n",
    "def sweep_train(config=None):\n",
    "    with wandb.init(config=config):\n",
    "        config = wandb.config\n",
    "        device = torch.device(\"cuda\" if torch.cuda.is_available() else \"cpu\")\n",
    "\n",
    "        attention = Attention(config.hidden_dim, config.hidden_dim)\n",
    "        encoder = Encoder(len(input_vocab), config.embedding_dim, config.hidden_dim, config.num_layers, config.dropout)\n",
    "        decoder = Decoder(len(output_vocab), config.embedding_dim, config.hidden_dim, config.hidden_dim, attention, config.dropout)\n",
    "        model = Seq2Seq(encoder, decoder).to(device)\n",
    "\n",
    "        optimizer = optim.Adam(model.parameters(), lr=config.learning_rate)\n",
    "        criterion = nn.CrossEntropyLoss(ignore_index=output_vocab['<pad>'])\n",
    "\n",
    "        best_val_loss = float('inf')\n",
    "\n",
    "        for epoch in range(10):\n",
    "            model.train()\n",
    "            total_loss, total_correct, total_tokens = 0, 0, 0\n",
    "            for src, trg in train_loader:\n",
    "                src, trg = src.to(device), trg.to(device)\n",
    "                optimizer.zero_grad()\n",
    "                output = model(src, trg, config.teacher_forcing_ratio)\n",
    "                output = output[:, 1:].reshape(-1, output.shape[-1])\n",
    "                trg = trg[:, 1:].reshape(-1)\n",
    "                loss = criterion(output, trg)\n",
    "                loss.backward()\n",
    "                optimizer.step()\n",
    "                total_loss += loss.item()\n",
    "                total_correct += (output.argmax(1) == trg).sum().item()\n",
    "                total_tokens += trg.ne(output_vocab['<pad>']).sum().item()\n",
    "\n",
    "            train_loss = total_loss / len(train_loader)\n",
    "            train_acc = total_correct / total_tokens\n",
    "\n",
    "            model.eval()\n",
    "            val_loss, val_correct, val_tokens = 0, 0, 0\n",
    "            with torch.no_grad():\n",
    "                for src, trg in val_loader:\n",
    "                    src, trg = src.to(device), trg.to(device)\n",
    "                    output = model(src, trg, 0)\n",
    "                    output = output[:, 1:].reshape(-1, output.shape[-1])\n",
    "                    trg = trg[:, 1:].reshape(-1)\n",
    "                    loss = criterion(output, trg)\n",
    "                    val_loss += loss.item()\n",
    "                    val_correct += (output.argmax(1) == trg).sum().item()\n",
    "                    val_tokens += trg.ne(output_vocab['<pad>']).sum().item()\n",
    "\n",
    "            val_loss /= len(val_loader)\n",
    "            val_acc = val_correct / val_tokens\n",
    "\n",
    "            wandb.log({\n",
    "                \"epoch\": epoch + 1,\n",
    "                \"train_loss\": train_loss,\n",
    "                \"train_acc\": train_acc,\n",
    "                \"val_loss\": val_loss,\n",
    "                \"val_acc\": val_acc,\n",
    "                \"embedding_dim\": config.embedding_dim,\n",
    "                \"hidden_dim\": config.hidden_dim,\n",
    "                \"num_layers\": config.num_layers,\n",
    "                \"dropout\": config.dropout,\n",
    "                \"teacher_forcing_ratio\": config.teacher_forcing_ratio\n",
    "            })\n",
    "\n",
    "            if val_loss < best_val_loss:\n",
    "                best_val_loss = val_loss\n",
    "                torch.save(model.state_dict(), \"best_attention_model.pt\")\n",
    "\n",
    "# ---------------------------\n",
    "# W&B Sweep Config\n",
    "# ---------------------------\n",
    "sweep_config = {\n",
    "    \"method\": \"bayes\",\n",
    "    \"metric\": {\"name\": \"val_loss\", \"goal\": \"minimize\"},\n",
    "    \"parameters\": {\n",
    "        \"embedding_dim\": {\"values\": [32, 64]},\n",
    "        \"hidden_dim\": {\"values\": [64, 128]},\n",
    "        \"num_layers\": {\"values\": [1]},\n",
    "        \"dropout\": {\"values\": [0.2, 0.3]},\n",
    "        \"learning_rate\": {\"values\": [0.001]},\n",
    "        \"teacher_forcing_ratio\": {\"values\": [0.5]}\n",
    "    }\n",
    "}"
   ]
  },
  {
   "cell_type": "code",
   "execution_count": 7,
   "metadata": {
    "execution": {
     "iopub.execute_input": "2025-05-20T10:16:30.360995Z",
     "iopub.status.busy": "2025-05-20T10:16:30.360720Z",
     "iopub.status.idle": "2025-05-20T10:16:31.232760Z",
     "shell.execute_reply": "2025-05-20T10:16:31.232155Z",
     "shell.execute_reply.started": "2025-05-20T10:16:30.360975Z"
    },
    "trusted": true
   },
   "outputs": [],
   "source": [
    "# ---------------------------\n",
    "# Vocab Utilities\n",
    "# ---------------------------\n",
    "def build_vocab_from_data(path, column=0):\n",
    "    counter = Counter()\n",
    "    with open(path, encoding='utf-8') as f:\n",
    "        for line in f:\n",
    "            parts = line.strip().split('\\t')\n",
    "            if len(parts) < 2:\n",
    "                continue\n",
    "            text = parts[column]\n",
    "            counter.update(list(text))\n",
    "    chars = sorted(counter.keys())\n",
    "    vocab = {'<pad>': 0, '<unk>': 1, '<sos>': 2, '<eos>': 3}\n",
    "    for i, char in enumerate(chars, start=4):\n",
    "        vocab[char] = i\n",
    "    return vocab\n",
    "\n",
    "def inverse_vocab(vocab):\n",
    "    return {idx: char for char, idx in vocab.items()}\n",
    "\n",
    "# ---------------------------\n",
    "# Dataset & Collate\n",
    "# ---------------------------\n",
    "class TransliterationDataset(Dataset):\n",
    "    def __init__(self, path, input_vocab, output_vocab):\n",
    "        self.data = []\n",
    "        with open(path, encoding='utf-8') as f:\n",
    "            for line in f:\n",
    "                parts = line.strip().split('\\t')\n",
    "                if len(parts) < 2:\n",
    "                    continue\n",
    "                tgt, src = parts[0], parts[1]\n",
    "                src_ids = [input_vocab['<sos>']] + [input_vocab.get(c, input_vocab['<unk>']) for c in src] + [input_vocab['<eos>']]\n",
    "                tgt_ids = [output_vocab['<sos>']] + [output_vocab.get(c, output_vocab['<unk>']) for c in tgt] + [output_vocab['<eos>']]\n",
    "                self.data.append((src_ids, tgt_ids))\n",
    "\n",
    "    def __len__(self):\n",
    "        return len(self.data)\n",
    "\n",
    "    def __getitem__(self, idx):\n",
    "        return self.data[idx]\n",
    "\n",
    "def pad_collate_fn(batch):\n",
    "    src_batch, tgt_batch = zip(*batch)\n",
    "    max_src_len = max(len(seq) for seq in src_batch)\n",
    "    max_tgt_len = max(len(seq) for seq in tgt_batch)\n",
    "    padded_src = [seq + [input_vocab['<pad>']] * (max_src_len - len(seq)) for seq in src_batch]\n",
    "    padded_tgt = [seq + [output_vocab['<pad>']] * (max_tgt_len - len(seq)) for seq in tgt_batch]\n",
    "    return torch.tensor(padded_src), torch.tensor(padded_tgt)\n",
    "# ---------------------------\n",
    "# Setup Paths and Build Vocab\n",
    "# ---------------------------\n",
    "data_path = \"/kaggle/input/dakshina-dataset/dakshina_dataset_v1.0/ta/lexicons\"\n",
    "train_file = os.path.join(data_path, \"/kaggle/input/dakshina-dataset/dakshina_dataset_v1.0/ta/lexicons/ta.translit.sampled.train.tsv\")\n",
    "dev_file = os.path.join(data_path, \"/kaggle/input/dakshina-dataset/dakshina_dataset_v1.0/ta/lexicons/ta.translit.sampled.dev.tsv\")\n",
    "\n",
    "input_vocab = build_vocab_from_data(train_file, column=1)   # Latin script\n",
    "output_vocab = build_vocab_from_data(train_file, column=0)  # Native script\n",
    "\n",
    "inv_input_vocab = inverse_vocab(input_vocab)\n",
    "inv_output_vocab = inverse_vocab(output_vocab)\n",
    "\n",
    "PAD_IDX = output_vocab['<pad>']\n",
    "\n",
    "# ---------------------------\n",
    "# Create Datasets and Loaders\n",
    "# ---------------------------\n",
    "train_dataset = TransliterationDataset(train_file, input_vocab, output_vocab)\n",
    "val_dataset = TransliterationDataset(dev_file, input_vocab, output_vocab)\n",
    "\n",
    "train_loader = DataLoader(train_dataset, batch_size=64, shuffle=True, collate_fn=pad_collate_fn)\n",
    "val_loader = DataLoader(val_dataset, batch_size=64, shuffle=False, collate_fn=pad_collate_fn)\n",
    "\n",
    "# ---------------------------\n",
    "# Attention Model\n",
    "# ---------------------------\n",
    "class Attention(nn.Module):\n",
    "    def __init__(self, enc_hidden_dim, dec_hidden_dim):\n",
    "        super().__init__()\n",
    "        self.attn = nn.Linear(enc_hidden_dim + dec_hidden_dim, dec_hidden_dim)\n",
    "        self.v = nn.Linear(dec_hidden_dim, 1, bias=False)\n",
    "\n",
    "    def forward(self, hidden, encoder_outputs, mask=None):\n",
    "        src_len = encoder_outputs.size(1)\n",
    "        hidden = hidden.unsqueeze(1).repeat(1, src_len, 1)\n",
    "        energy = torch.tanh(self.attn(torch.cat((hidden, encoder_outputs), dim=2)))\n",
    "        attention = self.v(energy).squeeze(2)\n",
    "        return torch.softmax(attention, dim=1)\n",
    "\n",
    "class Encoder(nn.Module):\n",
    "    def __init__(self, input_dim, emb_dim, hidden_dim, num_layers, dropout):\n",
    "        super().__init__()\n",
    "        self.embedding = nn.Embedding(input_dim, emb_dim)\n",
    "        self.embedding_dropout = nn.Dropout(dropout)\n",
    "        self.rnn = nn.GRU(emb_dim, hidden_dim, num_layers=num_layers, batch_first=True, dropout=dropout if num_layers > 1 else 0)\n",
    "\n",
    "    def forward(self, src):\n",
    "        embedded = self.embedding_dropout(self.embedding(src))\n",
    "        outputs, hidden = self.rnn(embedded)\n",
    "        return outputs, hidden[-1]\n",
    "\n",
    "class Decoder(nn.Module):\n",
    "    def __init__(self, output_dim, emb_dim, enc_hidden_dim, dec_hidden_dim, attention, dropout):\n",
    "        super().__init__()\n",
    "        self.output_dim = output_dim\n",
    "        self.embedding = nn.Embedding(output_dim, emb_dim)\n",
    "        self.embedding_dropout = nn.Dropout(dropout)\n",
    "        self.attention = attention\n",
    "        self.rnn = nn.GRU(enc_hidden_dim + emb_dim, dec_hidden_dim, batch_first=True)\n",
    "        self.fc_out = nn.Linear(enc_hidden_dim + dec_hidden_dim + emb_dim, output_dim)\n",
    "        self.dropout = nn.Dropout(dropout)\n",
    "\n",
    "    def forward(self, input, hidden, encoder_outputs):\n",
    "        input = input.unsqueeze(1)\n",
    "        embedded = self.embedding_dropout(self.embedding(input))\n",
    "        a = self.attention(hidden, encoder_outputs)\n",
    "        a = a.unsqueeze(1)\n",
    "        weighted = torch.bmm(a, encoder_outputs)\n",
    "        rnn_input = torch.cat((embedded, weighted), dim=2)\n",
    "        output, hidden = self.rnn(rnn_input, hidden.unsqueeze(0))\n",
    "        output = output.squeeze(1)\n",
    "        weighted = weighted.squeeze(1)\n",
    "        embedded = embedded.squeeze(1)\n",
    "        prediction = self.fc_out(torch.cat((output, weighted, embedded), dim=1))\n",
    "        return prediction, hidden.squeeze(0)\n",
    "\n",
    "\n",
    "class Seq2Seq(nn.Module):\n",
    "    def __init__(self, encoder, decoder):\n",
    "        super().__init__()\n",
    "        self.encoder = encoder\n",
    "        self.decoder = decoder\n",
    "\n",
    "    def forward(self, src, trg, teacher_forcing_ratio=0.5):\n",
    "        batch_size = src.shape[0]\n",
    "        trg_len = trg.shape[1]\n",
    "        trg_vocab_size = self.decoder.output_dim\n",
    "        outputs = torch.zeros(batch_size, trg_len, trg_vocab_size).to(src.device)\n",
    "\n",
    "        encoder_outputs, hidden = self.encoder(src)\n",
    "        input = trg[:, 0]\n",
    "\n",
    "        for t in range(1, trg_len):\n",
    "            output, hidden = self.decoder(input, hidden, encoder_outputs)\n",
    "            outputs[:, t] = output\n",
    "            teacher_force = torch.rand(1).item() < teacher_forcing_ratio\n",
    "            input = trg[:, t] if teacher_force else output.argmax(1)\n",
    "\n",
    "        return outputs\n",
    "\n",
    "# ---------------------------\n",
    "# Training with W&B Sweep\n",
    "# ---------------------------\n",
    "def sweep_train(config=None):\n",
    "    with wandb.init(config=config):\n",
    "        config = wandb.config\n",
    "        device = torch.device(\"cuda\" if torch.cuda.is_available() else \"cpu\")\n",
    "\n",
    "        attention = Attention(config.hidden_dim, config.hidden_dim)\n",
    "        encoder = Encoder(len(input_vocab), config.embedding_dim, config.hidden_dim, config.num_layers, config.dropout)\n",
    "        decoder = Decoder(len(output_vocab), config.embedding_dim, config.hidden_dim, config.hidden_dim, attention, config.dropout)\n",
    "        model = Seq2Seq(encoder, decoder).to(device)\n",
    "\n",
    "        wandb.watch(model, log='all', log_freq=100)\n",
    "\n",
    "        optimizer = optim.Adam(model.parameters(), lr=config.learning_rate)\n",
    "        scheduler = torch.optim.lr_scheduler.ReduceLROnPlateau(optimizer, mode='min', factor=0.5, patience=1)\n",
    "        criterion = nn.CrossEntropyLoss(ignore_index=PAD_IDX)\n",
    "\n",
    "\n",
    "        best_val_loss = float('inf')\n",
    "        patience = 3\n",
    "        epochs_no_improve = 0\n",
    "\n",
    "        for epoch in range(10):\n",
    "            teacher_forcing_ratio = config.teacher_forcing_ratio * (0.95 ** epoch)\n",
    "            model.train()\n",
    "            total_loss, total_correct, total_tokens = 0, 0, 0\n",
    "            for src, trg in train_loader:\n",
    "                src, trg = src.to(device), trg.to(device)\n",
    "                optimizer.zero_grad()\n",
    "                output = model(src, trg, teacher_forcing_ratio)\n",
    "                output = output[:, 1:].reshape(-1, output.shape[-1])\n",
    "                trg = trg[:, 1:].reshape(-1)\n",
    "                loss = criterion(output, trg)\n",
    "                loss.backward()\n",
    "                torch.nn.utils.clip_grad_norm_(model.parameters(), max_norm=1.0)\n",
    "                optimizer.step()\n",
    "                total_loss += loss.item()\n",
    "                total_correct += (output.argmax(1) == trg).sum().item()\n",
    "                total_tokens += trg.ne(PAD_IDX).sum().item()\n",
    "\n",
    "            train_loss = total_loss / len(train_loader)\n",
    "            train_acc = total_correct / total_tokens\n",
    "\n",
    "            model.eval()\n",
    "            val_loss, val_correct, val_tokens = 0, 0, 0\n",
    "            with torch.no_grad():\n",
    "                for src, trg in val_loader:\n",
    "                    src, trg = src.to(device), trg.to(device)\n",
    "                    output = model(src, trg, 0)\n",
    "                    output = output[:, 1:].reshape(-1, output.shape[-1])\n",
    "                    trg = trg[:, 1:].reshape(-1)\n",
    "                    loss = criterion(output, trg)\n",
    "                    val_loss += loss.item()\n",
    "                    val_correct += (output.argmax(1) == trg).sum().item()\n",
    "                    val_tokens += trg.ne(PAD_IDX).sum().item()\n",
    "\n",
    "            val_loss /= len(val_loader)\n",
    "            val_acc = val_correct / val_tokens\n",
    "\n",
    "            scheduler.step(val_loss)\n",
    "\n",
    "            wandb.log({\n",
    "                \"epoch\": epoch + 1,\n",
    "                \"train_loss\": train_loss,\n",
    "                \"train_acc\": train_acc,\n",
    "                \"val_loss\": val_loss,\n",
    "                \"val_acc\": val_acc,\n",
    "                \"lr\": scheduler.optimizer.param_groups[0]['lr'],\n",
    "                \"teacher_forcing_ratio\": teacher_forcing_ratio\n",
    "            })\n",
    "\n",
    "            if val_loss < best_val_loss:\n",
    "                best_val_loss = val_loss\n",
    "                torch.save(model.state_dict(), \"best_attention_model.pt\")\n",
    "                epochs_no_improve = 0\n",
    "            else:\n",
    "                epochs_no_improve += 1\n",
    "                if epochs_no_improve >= patience:\n",
    "                    print(\"Early stopping triggered.\")\n",
    "                    break\n",
    "\n",
    "# ---------------------------\n",
    "# W&B Sweep Config\n",
    "# ---------------------------\n",
    "sweep_config = {\n",
    "    \"method\": \"bayes\",\n",
    "    \"metric\": {\"name\": \"val_loss\", \"goal\": \"minimize\"},\n",
    "    \"parameters\": {\n",
    "        \"embedding_dim\": {\"values\": [32, 64]},\n",
    "        \"hidden_dim\": {\"values\": [64, 128]},\n",
    "        \"num_layers\": {\"values\": [1]},\n",
    "        \"dropout\": {\"values\": [0.2, 0.3]},\n",
    "        \"learning_rate\": {\"values\": [0.001]},\n",
    "        \"teacher_forcing_ratio\": {\"values\": [0.5]}\n",
    "    }\n",
    "}"
   ]
  },
  {
   "cell_type": "code",
   "execution_count": 5,
   "metadata": {
    "execution": {
     "iopub.execute_input": "2025-05-20T10:15:04.469434Z",
     "iopub.status.busy": "2025-05-20T10:15:04.468607Z",
     "iopub.status.idle": "2025-05-20T10:15:04.473071Z",
     "shell.execute_reply": "2025-05-20T10:15:04.472361Z",
     "shell.execute_reply.started": "2025-05-20T10:15:04.469401Z"
    },
    "trusted": true
   },
   "outputs": [],
   "source": [
    "import torch.optim as optim\n"
   ]
  },
  {
   "cell_type": "code",
   "execution_count": 8,
   "metadata": {
    "execution": {
     "iopub.execute_input": "2025-05-20T10:16:36.546546Z",
     "iopub.status.busy": "2025-05-20T10:16:36.545892Z",
     "iopub.status.idle": "2025-05-20T13:13:04.627811Z",
     "shell.execute_reply": "2025-05-20T13:13:04.627168Z",
     "shell.execute_reply.started": "2025-05-20T10:16:36.546522Z"
    },
    "trusted": true
   },
   "outputs": [
    {
     "name": "stdout",
     "output_type": "stream",
     "text": [
      "Create sweep with ID: vdneipdr\n",
      "Sweep URL: https://wandb.ai/roohiparveen/DA6401%20ASSIGNMENT%203/sweeps/vdneipdr\n"
     ]
    },
    {
     "name": "stderr",
     "output_type": "stream",
     "text": [
      "\u001b[34m\u001b[1mwandb\u001b[0m: Agent Starting Run: 888zyp02 with config:\n",
      "\u001b[34m\u001b[1mwandb\u001b[0m: \tdropout: 0.2\n",
      "\u001b[34m\u001b[1mwandb\u001b[0m: \tembedding_dim: 64\n",
      "\u001b[34m\u001b[1mwandb\u001b[0m: \thidden_dim: 64\n",
      "\u001b[34m\u001b[1mwandb\u001b[0m: \tlearning_rate: 0.001\n",
      "\u001b[34m\u001b[1mwandb\u001b[0m: \tnum_layers: 1\n",
      "\u001b[34m\u001b[1mwandb\u001b[0m: \tteacher_forcing_ratio: 0.5\n"
     ]
    },
    {
     "data": {
      "text/html": [
       "Tracking run with wandb version 0.19.9"
      ],
      "text/plain": [
       "<IPython.core.display.HTML object>"
      ]
     },
     "metadata": {},
     "output_type": "display_data"
    },
    {
     "data": {
      "text/html": [
       "Run data is saved locally in <code>/kaggle/working/wandb/run-20250520_101643-888zyp02</code>"
      ],
      "text/plain": [
       "<IPython.core.display.HTML object>"
      ]
     },
     "metadata": {},
     "output_type": "display_data"
    },
    {
     "data": {
      "text/html": [
       "Syncing run <strong><a href='https://wandb.ai/roohiparveen/DA6401%20ASSIGNMENT%203/runs/888zyp02' target=\"_blank\">scarlet-sweep-1</a></strong> to <a href='https://wandb.ai/roohiparveen/DA6401%20ASSIGNMENT%203' target=\"_blank\">Weights & Biases</a> (<a href='https://wandb.me/developer-guide' target=\"_blank\">docs</a>)<br>Sweep page: <a href='https://wandb.ai/roohiparveen/DA6401%20ASSIGNMENT%203/sweeps/vdneipdr' target=\"_blank\">https://wandb.ai/roohiparveen/DA6401%20ASSIGNMENT%203/sweeps/vdneipdr</a>"
      ],
      "text/plain": [
       "<IPython.core.display.HTML object>"
      ]
     },
     "metadata": {},
     "output_type": "display_data"
    },
    {
     "data": {
      "text/html": [
       " View project at <a href='https://wandb.ai/roohiparveen/DA6401%20ASSIGNMENT%203' target=\"_blank\">https://wandb.ai/roohiparveen/DA6401%20ASSIGNMENT%203</a>"
      ],
      "text/plain": [
       "<IPython.core.display.HTML object>"
      ]
     },
     "metadata": {},
     "output_type": "display_data"
    },
    {
     "data": {
      "text/html": [
       " View sweep at <a href='https://wandb.ai/roohiparveen/DA6401%20ASSIGNMENT%203/sweeps/vdneipdr' target=\"_blank\">https://wandb.ai/roohiparveen/DA6401%20ASSIGNMENT%203/sweeps/vdneipdr</a>"
      ],
      "text/plain": [
       "<IPython.core.display.HTML object>"
      ]
     },
     "metadata": {},
     "output_type": "display_data"
    },
    {
     "data": {
      "text/html": [
       " View run at <a href='https://wandb.ai/roohiparveen/DA6401%20ASSIGNMENT%203/runs/888zyp02' target=\"_blank\">https://wandb.ai/roohiparveen/DA6401%20ASSIGNMENT%203/runs/888zyp02</a>"
      ],
      "text/plain": [
       "<IPython.core.display.HTML object>"
      ]
     },
     "metadata": {},
     "output_type": "display_data"
    },
    {
     "data": {
      "text/html": [],
      "text/plain": [
       "<IPython.core.display.HTML object>"
      ]
     },
     "metadata": {},
     "output_type": "display_data"
    },
    {
     "data": {
      "text/html": [
       "<br>    <style><br>        .wandb-row {<br>            display: flex;<br>            flex-direction: row;<br>            flex-wrap: wrap;<br>            justify-content: flex-start;<br>            width: 100%;<br>        }<br>        .wandb-col {<br>            display: flex;<br>            flex-direction: column;<br>            flex-basis: 100%;<br>            flex: 1;<br>            padding: 10px;<br>        }<br>    </style><br><div class=\"wandb-row\"><div class=\"wandb-col\"><h3>Run history:</h3><br/><table class=\"wandb\"><tr><td>epoch</td><td>▁▂▃▃▄▅▆▆▇█</td></tr><tr><td>lr</td><td>▁▁▁▁▁▁▁▁▁▁</td></tr><tr><td>teacher_forcing_ratio</td><td>█▇▆▅▄▄▃▂▂▁</td></tr><tr><td>train_acc</td><td>▁▇▇███████</td></tr><tr><td>train_loss</td><td>█▂▂▁▁▁▁▁▁▁</td></tr><tr><td>val_acc</td><td>▁▆▆▇▇█▇███</td></tr><tr><td>val_loss</td><td>█▄▃▂▂▂▂▁▁▁</td></tr></table><br/></div><div class=\"wandb-col\"><h3>Run summary:</h3><br/><table class=\"wandb\"><tr><td>epoch</td><td>10</td></tr><tr><td>lr</td><td>0.001</td></tr><tr><td>teacher_forcing_ratio</td><td>0.31512</td></tr><tr><td>train_acc</td><td>0.89331</td></tr><tr><td>train_loss</td><td>0.41183</td></tr><tr><td>val_acc</td><td>0.84579</td></tr><tr><td>val_loss</td><td>0.668</td></tr></table><br/></div></div>"
      ],
      "text/plain": [
       "<IPython.core.display.HTML object>"
      ]
     },
     "metadata": {},
     "output_type": "display_data"
    },
    {
     "data": {
      "text/html": [
       " View run <strong style=\"color:#cdcd00\">scarlet-sweep-1</strong> at: <a href='https://wandb.ai/roohiparveen/DA6401%20ASSIGNMENT%203/runs/888zyp02' target=\"_blank\">https://wandb.ai/roohiparveen/DA6401%20ASSIGNMENT%203/runs/888zyp02</a><br> View project at: <a href='https://wandb.ai/roohiparveen/DA6401%20ASSIGNMENT%203' target=\"_blank\">https://wandb.ai/roohiparveen/DA6401%20ASSIGNMENT%203</a><br>Synced 5 W&B file(s), 0 media file(s), 0 artifact file(s) and 0 other file(s)"
      ],
      "text/plain": [
       "<IPython.core.display.HTML object>"
      ]
     },
     "metadata": {},
     "output_type": "display_data"
    },
    {
     "data": {
      "text/html": [
       "Find logs at: <code>./wandb/run-20250520_101643-888zyp02/logs</code>"
      ],
      "text/plain": [
       "<IPython.core.display.HTML object>"
      ]
     },
     "metadata": {},
     "output_type": "display_data"
    },
    {
     "name": "stderr",
     "output_type": "stream",
     "text": [
      "\u001b[34m\u001b[1mwandb\u001b[0m: Agent Starting Run: koqm79s6 with config:\n",
      "\u001b[34m\u001b[1mwandb\u001b[0m: \tdropout: 0.2\n",
      "\u001b[34m\u001b[1mwandb\u001b[0m: \tembedding_dim: 64\n",
      "\u001b[34m\u001b[1mwandb\u001b[0m: \thidden_dim: 128\n",
      "\u001b[34m\u001b[1mwandb\u001b[0m: \tlearning_rate: 0.001\n",
      "\u001b[34m\u001b[1mwandb\u001b[0m: \tnum_layers: 1\n",
      "\u001b[34m\u001b[1mwandb\u001b[0m: \tteacher_forcing_ratio: 0.5\n"
     ]
    },
    {
     "data": {
      "text/html": [
       "Tracking run with wandb version 0.19.9"
      ],
      "text/plain": [
       "<IPython.core.display.HTML object>"
      ]
     },
     "metadata": {},
     "output_type": "display_data"
    },
    {
     "data": {
      "text/html": [
       "Run data is saved locally in <code>/kaggle/working/wandb/run-20250520_102531-koqm79s6</code>"
      ],
      "text/plain": [
       "<IPython.core.display.HTML object>"
      ]
     },
     "metadata": {},
     "output_type": "display_data"
    },
    {
     "data": {
      "text/html": [
       "Syncing run <strong><a href='https://wandb.ai/roohiparveen/DA6401%20ASSIGNMENT%203/runs/koqm79s6' target=\"_blank\">charmed-sweep-2</a></strong> to <a href='https://wandb.ai/roohiparveen/DA6401%20ASSIGNMENT%203' target=\"_blank\">Weights & Biases</a> (<a href='https://wandb.me/developer-guide' target=\"_blank\">docs</a>)<br>Sweep page: <a href='https://wandb.ai/roohiparveen/DA6401%20ASSIGNMENT%203/sweeps/vdneipdr' target=\"_blank\">https://wandb.ai/roohiparveen/DA6401%20ASSIGNMENT%203/sweeps/vdneipdr</a>"
      ],
      "text/plain": [
       "<IPython.core.display.HTML object>"
      ]
     },
     "metadata": {},
     "output_type": "display_data"
    },
    {
     "data": {
      "text/html": [
       " View project at <a href='https://wandb.ai/roohiparveen/DA6401%20ASSIGNMENT%203' target=\"_blank\">https://wandb.ai/roohiparveen/DA6401%20ASSIGNMENT%203</a>"
      ],
      "text/plain": [
       "<IPython.core.display.HTML object>"
      ]
     },
     "metadata": {},
     "output_type": "display_data"
    },
    {
     "data": {
      "text/html": [
       " View sweep at <a href='https://wandb.ai/roohiparveen/DA6401%20ASSIGNMENT%203/sweeps/vdneipdr' target=\"_blank\">https://wandb.ai/roohiparveen/DA6401%20ASSIGNMENT%203/sweeps/vdneipdr</a>"
      ],
      "text/plain": [
       "<IPython.core.display.HTML object>"
      ]
     },
     "metadata": {},
     "output_type": "display_data"
    },
    {
     "data": {
      "text/html": [
       " View run at <a href='https://wandb.ai/roohiparveen/DA6401%20ASSIGNMENT%203/runs/koqm79s6' target=\"_blank\">https://wandb.ai/roohiparveen/DA6401%20ASSIGNMENT%203/runs/koqm79s6</a>"
      ],
      "text/plain": [
       "<IPython.core.display.HTML object>"
      ]
     },
     "metadata": {},
     "output_type": "display_data"
    },
    {
     "data": {
      "text/html": [],
      "text/plain": [
       "<IPython.core.display.HTML object>"
      ]
     },
     "metadata": {},
     "output_type": "display_data"
    },
    {
     "data": {
      "text/html": [
       "<br>    <style><br>        .wandb-row {<br>            display: flex;<br>            flex-direction: row;<br>            flex-wrap: wrap;<br>            justify-content: flex-start;<br>            width: 100%;<br>        }<br>        .wandb-col {<br>            display: flex;<br>            flex-direction: column;<br>            flex-basis: 100%;<br>            flex: 1;<br>            padding: 10px;<br>        }<br>    </style><br><div class=\"wandb-row\"><div class=\"wandb-col\"><h3>Run history:</h3><br/><table class=\"wandb\"><tr><td>epoch</td><td>▁▂▃▃▄▅▆▆▇█</td></tr><tr><td>lr</td><td>█████████▁</td></tr><tr><td>teacher_forcing_ratio</td><td>█▇▆▅▄▄▃▂▂▁</td></tr><tr><td>train_acc</td><td>▁▆▇▇██████</td></tr><tr><td>train_loss</td><td>█▃▂▂▁▁▁▁▁▁</td></tr><tr><td>val_acc</td><td>▁▅▇▇█████▇</td></tr><tr><td>val_loss</td><td>█▃▂▂▂▁▁▁▁▁</td></tr></table><br/></div><div class=\"wandb-col\"><h3>Run summary:</h3><br/><table class=\"wandb\"><tr><td>epoch</td><td>10</td></tr><tr><td>lr</td><td>0.0005</td></tr><tr><td>teacher_forcing_ratio</td><td>0.31512</td></tr><tr><td>train_acc</td><td>0.92248</td></tr><tr><td>train_loss</td><td>0.30289</td></tr><tr><td>val_acc</td><td>0.84919</td></tr><tr><td>val_loss</td><td>0.67676</td></tr></table><br/></div></div>"
      ],
      "text/plain": [
       "<IPython.core.display.HTML object>"
      ]
     },
     "metadata": {},
     "output_type": "display_data"
    },
    {
     "data": {
      "text/html": [
       " View run <strong style=\"color:#cdcd00\">charmed-sweep-2</strong> at: <a href='https://wandb.ai/roohiparveen/DA6401%20ASSIGNMENT%203/runs/koqm79s6' target=\"_blank\">https://wandb.ai/roohiparveen/DA6401%20ASSIGNMENT%203/runs/koqm79s6</a><br> View project at: <a href='https://wandb.ai/roohiparveen/DA6401%20ASSIGNMENT%203' target=\"_blank\">https://wandb.ai/roohiparveen/DA6401%20ASSIGNMENT%203</a><br>Synced 5 W&B file(s), 0 media file(s), 0 artifact file(s) and 0 other file(s)"
      ],
      "text/plain": [
       "<IPython.core.display.HTML object>"
      ]
     },
     "metadata": {},
     "output_type": "display_data"
    },
    {
     "data": {
      "text/html": [
       "Find logs at: <code>./wandb/run-20250520_102531-koqm79s6/logs</code>"
      ],
      "text/plain": [
       "<IPython.core.display.HTML object>"
      ]
     },
     "metadata": {},
     "output_type": "display_data"
    },
    {
     "name": "stderr",
     "output_type": "stream",
     "text": [
      "\u001b[34m\u001b[1mwandb\u001b[0m: Sweep Agent: Waiting for job.\n",
      "\u001b[34m\u001b[1mwandb\u001b[0m: Job received.\n",
      "\u001b[34m\u001b[1mwandb\u001b[0m: Agent Starting Run: n9rzc1qz with config:\n",
      "\u001b[34m\u001b[1mwandb\u001b[0m: \tdropout: 0.3\n",
      "\u001b[34m\u001b[1mwandb\u001b[0m: \tembedding_dim: 64\n",
      "\u001b[34m\u001b[1mwandb\u001b[0m: \thidden_dim: 128\n",
      "\u001b[34m\u001b[1mwandb\u001b[0m: \tlearning_rate: 0.001\n",
      "\u001b[34m\u001b[1mwandb\u001b[0m: \tnum_layers: 1\n",
      "\u001b[34m\u001b[1mwandb\u001b[0m: \tteacher_forcing_ratio: 0.5\n"
     ]
    },
    {
     "data": {
      "text/html": [
       "Tracking run with wandb version 0.19.9"
      ],
      "text/plain": [
       "<IPython.core.display.HTML object>"
      ]
     },
     "metadata": {},
     "output_type": "display_data"
    },
    {
     "data": {
      "text/html": [
       "Run data is saved locally in <code>/kaggle/working/wandb/run-20250520_103428-n9rzc1qz</code>"
      ],
      "text/plain": [
       "<IPython.core.display.HTML object>"
      ]
     },
     "metadata": {},
     "output_type": "display_data"
    },
    {
     "data": {
      "text/html": [
       "Syncing run <strong><a href='https://wandb.ai/roohiparveen/DA6401%20ASSIGNMENT%203/runs/n9rzc1qz' target=\"_blank\">dark-sweep-3</a></strong> to <a href='https://wandb.ai/roohiparveen/DA6401%20ASSIGNMENT%203' target=\"_blank\">Weights & Biases</a> (<a href='https://wandb.me/developer-guide' target=\"_blank\">docs</a>)<br>Sweep page: <a href='https://wandb.ai/roohiparveen/DA6401%20ASSIGNMENT%203/sweeps/vdneipdr' target=\"_blank\">https://wandb.ai/roohiparveen/DA6401%20ASSIGNMENT%203/sweeps/vdneipdr</a>"
      ],
      "text/plain": [
       "<IPython.core.display.HTML object>"
      ]
     },
     "metadata": {},
     "output_type": "display_data"
    },
    {
     "data": {
      "text/html": [
       " View project at <a href='https://wandb.ai/roohiparveen/DA6401%20ASSIGNMENT%203' target=\"_blank\">https://wandb.ai/roohiparveen/DA6401%20ASSIGNMENT%203</a>"
      ],
      "text/plain": [
       "<IPython.core.display.HTML object>"
      ]
     },
     "metadata": {},
     "output_type": "display_data"
    },
    {
     "data": {
      "text/html": [
       " View sweep at <a href='https://wandb.ai/roohiparveen/DA6401%20ASSIGNMENT%203/sweeps/vdneipdr' target=\"_blank\">https://wandb.ai/roohiparveen/DA6401%20ASSIGNMENT%203/sweeps/vdneipdr</a>"
      ],
      "text/plain": [
       "<IPython.core.display.HTML object>"
      ]
     },
     "metadata": {},
     "output_type": "display_data"
    },
    {
     "data": {
      "text/html": [
       " View run at <a href='https://wandb.ai/roohiparveen/DA6401%20ASSIGNMENT%203/runs/n9rzc1qz' target=\"_blank\">https://wandb.ai/roohiparveen/DA6401%20ASSIGNMENT%203/runs/n9rzc1qz</a>"
      ],
      "text/plain": [
       "<IPython.core.display.HTML object>"
      ]
     },
     "metadata": {},
     "output_type": "display_data"
    },
    {
     "data": {
      "text/html": [],
      "text/plain": [
       "<IPython.core.display.HTML object>"
      ]
     },
     "metadata": {},
     "output_type": "display_data"
    },
    {
     "data": {
      "text/html": [
       "<br>    <style><br>        .wandb-row {<br>            display: flex;<br>            flex-direction: row;<br>            flex-wrap: wrap;<br>            justify-content: flex-start;<br>            width: 100%;<br>        }<br>        .wandb-col {<br>            display: flex;<br>            flex-direction: column;<br>            flex-basis: 100%;<br>            flex: 1;<br>            padding: 10px;<br>        }<br>    </style><br><div class=\"wandb-row\"><div class=\"wandb-col\"><h3>Run history:</h3><br/><table class=\"wandb\"><tr><td>epoch</td><td>▁▂▃▃▄▅▆▆▇█</td></tr><tr><td>lr</td><td>▁▁▁▁▁▁▁▁▁▁</td></tr><tr><td>teacher_forcing_ratio</td><td>█▇▆▅▄▄▃▂▂▁</td></tr><tr><td>train_acc</td><td>▁▇▇▇██████</td></tr><tr><td>train_loss</td><td>█▃▂▂▂▁▁▁▁▁</td></tr><tr><td>val_acc</td><td>▁▅▆▆▇█▇▇▇█</td></tr><tr><td>val_loss</td><td>█▄▃▂▂▁▁▂▁▁</td></tr></table><br/></div><div class=\"wandb-col\"><h3>Run summary:</h3><br/><table class=\"wandb\"><tr><td>epoch</td><td>10</td></tr><tr><td>lr</td><td>0.001</td></tr><tr><td>teacher_forcing_ratio</td><td>0.31512</td></tr><tr><td>train_acc</td><td>0.91757</td></tr><tr><td>train_loss</td><td>0.3191</td></tr><tr><td>val_acc</td><td>0.85874</td></tr><tr><td>val_loss</td><td>0.63339</td></tr></table><br/></div></div>"
      ],
      "text/plain": [
       "<IPython.core.display.HTML object>"
      ]
     },
     "metadata": {},
     "output_type": "display_data"
    },
    {
     "data": {
      "text/html": [
       " View run <strong style=\"color:#cdcd00\">dark-sweep-3</strong> at: <a href='https://wandb.ai/roohiparveen/DA6401%20ASSIGNMENT%203/runs/n9rzc1qz' target=\"_blank\">https://wandb.ai/roohiparveen/DA6401%20ASSIGNMENT%203/runs/n9rzc1qz</a><br> View project at: <a href='https://wandb.ai/roohiparveen/DA6401%20ASSIGNMENT%203' target=\"_blank\">https://wandb.ai/roohiparveen/DA6401%20ASSIGNMENT%203</a><br>Synced 5 W&B file(s), 0 media file(s), 0 artifact file(s) and 0 other file(s)"
      ],
      "text/plain": [
       "<IPython.core.display.HTML object>"
      ]
     },
     "metadata": {},
     "output_type": "display_data"
    },
    {
     "data": {
      "text/html": [
       "Find logs at: <code>./wandb/run-20250520_103428-n9rzc1qz/logs</code>"
      ],
      "text/plain": [
       "<IPython.core.display.HTML object>"
      ]
     },
     "metadata": {},
     "output_type": "display_data"
    },
    {
     "name": "stderr",
     "output_type": "stream",
     "text": [
      "\u001b[34m\u001b[1mwandb\u001b[0m: Agent Starting Run: qwvx560w with config:\n",
      "\u001b[34m\u001b[1mwandb\u001b[0m: \tdropout: 0.2\n",
      "\u001b[34m\u001b[1mwandb\u001b[0m: \tembedding_dim: 64\n",
      "\u001b[34m\u001b[1mwandb\u001b[0m: \thidden_dim: 128\n",
      "\u001b[34m\u001b[1mwandb\u001b[0m: \tlearning_rate: 0.001\n",
      "\u001b[34m\u001b[1mwandb\u001b[0m: \tnum_layers: 1\n",
      "\u001b[34m\u001b[1mwandb\u001b[0m: \tteacher_forcing_ratio: 0.5\n"
     ]
    },
    {
     "data": {
      "text/html": [
       "Tracking run with wandb version 0.19.9"
      ],
      "text/plain": [
       "<IPython.core.display.HTML object>"
      ]
     },
     "metadata": {},
     "output_type": "display_data"
    },
    {
     "data": {
      "text/html": [
       "Run data is saved locally in <code>/kaggle/working/wandb/run-20250520_104322-qwvx560w</code>"
      ],
      "text/plain": [
       "<IPython.core.display.HTML object>"
      ]
     },
     "metadata": {},
     "output_type": "display_data"
    },
    {
     "data": {
      "text/html": [
       "Syncing run <strong><a href='https://wandb.ai/roohiparveen/DA6401%20ASSIGNMENT%203/runs/qwvx560w' target=\"_blank\">smooth-sweep-4</a></strong> to <a href='https://wandb.ai/roohiparveen/DA6401%20ASSIGNMENT%203' target=\"_blank\">Weights & Biases</a> (<a href='https://wandb.me/developer-guide' target=\"_blank\">docs</a>)<br>Sweep page: <a href='https://wandb.ai/roohiparveen/DA6401%20ASSIGNMENT%203/sweeps/vdneipdr' target=\"_blank\">https://wandb.ai/roohiparveen/DA6401%20ASSIGNMENT%203/sweeps/vdneipdr</a>"
      ],
      "text/plain": [
       "<IPython.core.display.HTML object>"
      ]
     },
     "metadata": {},
     "output_type": "display_data"
    },
    {
     "data": {
      "text/html": [
       " View project at <a href='https://wandb.ai/roohiparveen/DA6401%20ASSIGNMENT%203' target=\"_blank\">https://wandb.ai/roohiparveen/DA6401%20ASSIGNMENT%203</a>"
      ],
      "text/plain": [
       "<IPython.core.display.HTML object>"
      ]
     },
     "metadata": {},
     "output_type": "display_data"
    },
    {
     "data": {
      "text/html": [
       " View sweep at <a href='https://wandb.ai/roohiparveen/DA6401%20ASSIGNMENT%203/sweeps/vdneipdr' target=\"_blank\">https://wandb.ai/roohiparveen/DA6401%20ASSIGNMENT%203/sweeps/vdneipdr</a>"
      ],
      "text/plain": [
       "<IPython.core.display.HTML object>"
      ]
     },
     "metadata": {},
     "output_type": "display_data"
    },
    {
     "data": {
      "text/html": [
       " View run at <a href='https://wandb.ai/roohiparveen/DA6401%20ASSIGNMENT%203/runs/qwvx560w' target=\"_blank\">https://wandb.ai/roohiparveen/DA6401%20ASSIGNMENT%203/runs/qwvx560w</a>"
      ],
      "text/plain": [
       "<IPython.core.display.HTML object>"
      ]
     },
     "metadata": {},
     "output_type": "display_data"
    },
    {
     "name": "stdout",
     "output_type": "stream",
     "text": [
      "Early stopping triggered.\n"
     ]
    },
    {
     "data": {
      "text/html": [],
      "text/plain": [
       "<IPython.core.display.HTML object>"
      ]
     },
     "metadata": {},
     "output_type": "display_data"
    },
    {
     "data": {
      "text/html": [
       "<br>    <style><br>        .wandb-row {<br>            display: flex;<br>            flex-direction: row;<br>            flex-wrap: wrap;<br>            justify-content: flex-start;<br>            width: 100%;<br>        }<br>        .wandb-col {<br>            display: flex;<br>            flex-direction: column;<br>            flex-basis: 100%;<br>            flex: 1;<br>            padding: 10px;<br>        }<br>    </style><br><div class=\"wandb-row\"><div class=\"wandb-col\"><h3>Run history:</h3><br/><table class=\"wandb\"><tr><td>epoch</td><td>▁▂▃▄▅▅▆▇█</td></tr><tr><td>lr</td><td>████▃▃▃▁▁</td></tr><tr><td>teacher_forcing_ratio</td><td>█▇▆▅▄▃▂▂▁</td></tr><tr><td>train_acc</td><td>▁▆▇▇▇████</td></tr><tr><td>train_loss</td><td>█▃▂▂▂▁▁▁▁</td></tr><tr><td>val_acc</td><td>▁▅▇▆▆███▇</td></tr><tr><td>val_loss</td><td>█▄▂▃▂▁▁▁▂</td></tr></table><br/></div><div class=\"wandb-col\"><h3>Run summary:</h3><br/><table class=\"wandb\"><tr><td>epoch</td><td>9</td></tr><tr><td>lr</td><td>0.00025</td></tr><tr><td>teacher_forcing_ratio</td><td>0.33171</td></tr><tr><td>train_acc</td><td>0.92543</td></tr><tr><td>train_loss</td><td>0.29367</td></tr><tr><td>val_acc</td><td>0.85065</td></tr><tr><td>val_loss</td><td>0.68984</td></tr></table><br/></div></div>"
      ],
      "text/plain": [
       "<IPython.core.display.HTML object>"
      ]
     },
     "metadata": {},
     "output_type": "display_data"
    },
    {
     "data": {
      "text/html": [
       " View run <strong style=\"color:#cdcd00\">smooth-sweep-4</strong> at: <a href='https://wandb.ai/roohiparveen/DA6401%20ASSIGNMENT%203/runs/qwvx560w' target=\"_blank\">https://wandb.ai/roohiparveen/DA6401%20ASSIGNMENT%203/runs/qwvx560w</a><br> View project at: <a href='https://wandb.ai/roohiparveen/DA6401%20ASSIGNMENT%203' target=\"_blank\">https://wandb.ai/roohiparveen/DA6401%20ASSIGNMENT%203</a><br>Synced 5 W&B file(s), 0 media file(s), 0 artifact file(s) and 0 other file(s)"
      ],
      "text/plain": [
       "<IPython.core.display.HTML object>"
      ]
     },
     "metadata": {},
     "output_type": "display_data"
    },
    {
     "data": {
      "text/html": [
       "Find logs at: <code>./wandb/run-20250520_104322-qwvx560w/logs</code>"
      ],
      "text/plain": [
       "<IPython.core.display.HTML object>"
      ]
     },
     "metadata": {},
     "output_type": "display_data"
    },
    {
     "name": "stderr",
     "output_type": "stream",
     "text": [
      "\u001b[34m\u001b[1mwandb\u001b[0m: Agent Starting Run: rsvqbtr3 with config:\n",
      "\u001b[34m\u001b[1mwandb\u001b[0m: \tdropout: 0.2\n",
      "\u001b[34m\u001b[1mwandb\u001b[0m: \tembedding_dim: 32\n",
      "\u001b[34m\u001b[1mwandb\u001b[0m: \thidden_dim: 64\n",
      "\u001b[34m\u001b[1mwandb\u001b[0m: \tlearning_rate: 0.001\n",
      "\u001b[34m\u001b[1mwandb\u001b[0m: \tnum_layers: 1\n",
      "\u001b[34m\u001b[1mwandb\u001b[0m: \tteacher_forcing_ratio: 0.5\n"
     ]
    },
    {
     "data": {
      "text/html": [
       "Tracking run with wandb version 0.19.9"
      ],
      "text/plain": [
       "<IPython.core.display.HTML object>"
      ]
     },
     "metadata": {},
     "output_type": "display_data"
    },
    {
     "data": {
      "text/html": [
       "Run data is saved locally in <code>/kaggle/working/wandb/run-20250520_105125-rsvqbtr3</code>"
      ],
      "text/plain": [
       "<IPython.core.display.HTML object>"
      ]
     },
     "metadata": {},
     "output_type": "display_data"
    },
    {
     "data": {
      "text/html": [
       "Syncing run <strong><a href='https://wandb.ai/roohiparveen/DA6401%20ASSIGNMENT%203/runs/rsvqbtr3' target=\"_blank\">feasible-sweep-5</a></strong> to <a href='https://wandb.ai/roohiparveen/DA6401%20ASSIGNMENT%203' target=\"_blank\">Weights & Biases</a> (<a href='https://wandb.me/developer-guide' target=\"_blank\">docs</a>)<br>Sweep page: <a href='https://wandb.ai/roohiparveen/DA6401%20ASSIGNMENT%203/sweeps/vdneipdr' target=\"_blank\">https://wandb.ai/roohiparveen/DA6401%20ASSIGNMENT%203/sweeps/vdneipdr</a>"
      ],
      "text/plain": [
       "<IPython.core.display.HTML object>"
      ]
     },
     "metadata": {},
     "output_type": "display_data"
    },
    {
     "data": {
      "text/html": [
       " View project at <a href='https://wandb.ai/roohiparveen/DA6401%20ASSIGNMENT%203' target=\"_blank\">https://wandb.ai/roohiparveen/DA6401%20ASSIGNMENT%203</a>"
      ],
      "text/plain": [
       "<IPython.core.display.HTML object>"
      ]
     },
     "metadata": {},
     "output_type": "display_data"
    },
    {
     "data": {
      "text/html": [
       " View sweep at <a href='https://wandb.ai/roohiparveen/DA6401%20ASSIGNMENT%203/sweeps/vdneipdr' target=\"_blank\">https://wandb.ai/roohiparveen/DA6401%20ASSIGNMENT%203/sweeps/vdneipdr</a>"
      ],
      "text/plain": [
       "<IPython.core.display.HTML object>"
      ]
     },
     "metadata": {},
     "output_type": "display_data"
    },
    {
     "data": {
      "text/html": [
       " View run at <a href='https://wandb.ai/roohiparveen/DA6401%20ASSIGNMENT%203/runs/rsvqbtr3' target=\"_blank\">https://wandb.ai/roohiparveen/DA6401%20ASSIGNMENT%203/runs/rsvqbtr3</a>"
      ],
      "text/plain": [
       "<IPython.core.display.HTML object>"
      ]
     },
     "metadata": {},
     "output_type": "display_data"
    },
    {
     "data": {
      "text/html": [],
      "text/plain": [
       "<IPython.core.display.HTML object>"
      ]
     },
     "metadata": {},
     "output_type": "display_data"
    },
    {
     "data": {
      "text/html": [
       "<br>    <style><br>        .wandb-row {<br>            display: flex;<br>            flex-direction: row;<br>            flex-wrap: wrap;<br>            justify-content: flex-start;<br>            width: 100%;<br>        }<br>        .wandb-col {<br>            display: flex;<br>            flex-direction: column;<br>            flex-basis: 100%;<br>            flex: 1;<br>            padding: 10px;<br>        }<br>    </style><br><div class=\"wandb-row\"><div class=\"wandb-col\"><h3>Run history:</h3><br/><table class=\"wandb\"><tr><td>epoch</td><td>▁▂▃▃▄▅▆▆▇█</td></tr><tr><td>lr</td><td>▁▁▁▁▁▁▁▁▁▁</td></tr><tr><td>teacher_forcing_ratio</td><td>█▇▆▅▄▄▃▂▂▁</td></tr><tr><td>train_acc</td><td>▁▇▇███████</td></tr><tr><td>train_loss</td><td>█▃▂▂▁▁▁▁▁▁</td></tr><tr><td>val_acc</td><td>▁▅▆▆▇▇▇██▇</td></tr><tr><td>val_loss</td><td>█▅▃▃▂▂▂▁▁▁</td></tr></table><br/></div><div class=\"wandb-col\"><h3>Run summary:</h3><br/><table class=\"wandb\"><tr><td>epoch</td><td>10</td></tr><tr><td>lr</td><td>0.001</td></tr><tr><td>teacher_forcing_ratio</td><td>0.31512</td></tr><tr><td>train_acc</td><td>0.88713</td></tr><tr><td>train_loss</td><td>0.43638</td></tr><tr><td>val_acc</td><td>0.84265</td></tr><tr><td>val_loss</td><td>0.67859</td></tr></table><br/></div></div>"
      ],
      "text/plain": [
       "<IPython.core.display.HTML object>"
      ]
     },
     "metadata": {},
     "output_type": "display_data"
    },
    {
     "data": {
      "text/html": [
       " View run <strong style=\"color:#cdcd00\">feasible-sweep-5</strong> at: <a href='https://wandb.ai/roohiparveen/DA6401%20ASSIGNMENT%203/runs/rsvqbtr3' target=\"_blank\">https://wandb.ai/roohiparveen/DA6401%20ASSIGNMENT%203/runs/rsvqbtr3</a><br> View project at: <a href='https://wandb.ai/roohiparveen/DA6401%20ASSIGNMENT%203' target=\"_blank\">https://wandb.ai/roohiparveen/DA6401%20ASSIGNMENT%203</a><br>Synced 5 W&B file(s), 0 media file(s), 0 artifact file(s) and 0 other file(s)"
      ],
      "text/plain": [
       "<IPython.core.display.HTML object>"
      ]
     },
     "metadata": {},
     "output_type": "display_data"
    },
    {
     "data": {
      "text/html": [
       "Find logs at: <code>./wandb/run-20250520_105125-rsvqbtr3/logs</code>"
      ],
      "text/plain": [
       "<IPython.core.display.HTML object>"
      ]
     },
     "metadata": {},
     "output_type": "display_data"
    },
    {
     "name": "stderr",
     "output_type": "stream",
     "text": [
      "\u001b[34m\u001b[1mwandb\u001b[0m: Sweep Agent: Waiting for job.\n",
      "\u001b[34m\u001b[1mwandb\u001b[0m: Job received.\n",
      "\u001b[34m\u001b[1mwandb\u001b[0m: Agent Starting Run: lmpcectf with config:\n",
      "\u001b[34m\u001b[1mwandb\u001b[0m: \tdropout: 0.3\n",
      "\u001b[34m\u001b[1mwandb\u001b[0m: \tembedding_dim: 64\n",
      "\u001b[34m\u001b[1mwandb\u001b[0m: \thidden_dim: 128\n",
      "\u001b[34m\u001b[1mwandb\u001b[0m: \tlearning_rate: 0.001\n",
      "\u001b[34m\u001b[1mwandb\u001b[0m: \tnum_layers: 1\n",
      "\u001b[34m\u001b[1mwandb\u001b[0m: \tteacher_forcing_ratio: 0.5\n"
     ]
    },
    {
     "data": {
      "text/html": [
       "Tracking run with wandb version 0.19.9"
      ],
      "text/plain": [
       "<IPython.core.display.HTML object>"
      ]
     },
     "metadata": {},
     "output_type": "display_data"
    },
    {
     "data": {
      "text/html": [
       "Run data is saved locally in <code>/kaggle/working/wandb/run-20250520_110022-lmpcectf</code>"
      ],
      "text/plain": [
       "<IPython.core.display.HTML object>"
      ]
     },
     "metadata": {},
     "output_type": "display_data"
    },
    {
     "data": {
      "text/html": [
       "Syncing run <strong><a href='https://wandb.ai/roohiparveen/DA6401%20ASSIGNMENT%203/runs/lmpcectf' target=\"_blank\">fiery-sweep-6</a></strong> to <a href='https://wandb.ai/roohiparveen/DA6401%20ASSIGNMENT%203' target=\"_blank\">Weights & Biases</a> (<a href='https://wandb.me/developer-guide' target=\"_blank\">docs</a>)<br>Sweep page: <a href='https://wandb.ai/roohiparveen/DA6401%20ASSIGNMENT%203/sweeps/vdneipdr' target=\"_blank\">https://wandb.ai/roohiparveen/DA6401%20ASSIGNMENT%203/sweeps/vdneipdr</a>"
      ],
      "text/plain": [
       "<IPython.core.display.HTML object>"
      ]
     },
     "metadata": {},
     "output_type": "display_data"
    },
    {
     "data": {
      "text/html": [
       " View project at <a href='https://wandb.ai/roohiparveen/DA6401%20ASSIGNMENT%203' target=\"_blank\">https://wandb.ai/roohiparveen/DA6401%20ASSIGNMENT%203</a>"
      ],
      "text/plain": [
       "<IPython.core.display.HTML object>"
      ]
     },
     "metadata": {},
     "output_type": "display_data"
    },
    {
     "data": {
      "text/html": [
       " View sweep at <a href='https://wandb.ai/roohiparveen/DA6401%20ASSIGNMENT%203/sweeps/vdneipdr' target=\"_blank\">https://wandb.ai/roohiparveen/DA6401%20ASSIGNMENT%203/sweeps/vdneipdr</a>"
      ],
      "text/plain": [
       "<IPython.core.display.HTML object>"
      ]
     },
     "metadata": {},
     "output_type": "display_data"
    },
    {
     "data": {
      "text/html": [
       " View run at <a href='https://wandb.ai/roohiparveen/DA6401%20ASSIGNMENT%203/runs/lmpcectf' target=\"_blank\">https://wandb.ai/roohiparveen/DA6401%20ASSIGNMENT%203/runs/lmpcectf</a>"
      ],
      "text/plain": [
       "<IPython.core.display.HTML object>"
      ]
     },
     "metadata": {},
     "output_type": "display_data"
    },
    {
     "data": {
      "text/html": [],
      "text/plain": [
       "<IPython.core.display.HTML object>"
      ]
     },
     "metadata": {},
     "output_type": "display_data"
    },
    {
     "data": {
      "text/html": [
       "<br>    <style><br>        .wandb-row {<br>            display: flex;<br>            flex-direction: row;<br>            flex-wrap: wrap;<br>            justify-content: flex-start;<br>            width: 100%;<br>        }<br>        .wandb-col {<br>            display: flex;<br>            flex-direction: column;<br>            flex-basis: 100%;<br>            flex: 1;<br>            padding: 10px;<br>        }<br>    </style><br><div class=\"wandb-row\"><div class=\"wandb-col\"><h3>Run history:</h3><br/><table class=\"wandb\"><tr><td>epoch</td><td>▁▂▃▃▄▅▆▆▇█</td></tr><tr><td>lr</td><td>██████▁▁▁▁</td></tr><tr><td>teacher_forcing_ratio</td><td>█▇▆▅▄▄▃▂▂▁</td></tr><tr><td>train_acc</td><td>▁▆▇▇▇█████</td></tr><tr><td>train_loss</td><td>█▃▂▂▂▁▁▁▁▁</td></tr><tr><td>val_acc</td><td>▁▅▆▆▇▆▇▇██</td></tr><tr><td>val_loss</td><td>█▅▄▄▂▃▂▂▁▁</td></tr></table><br/></div><div class=\"wandb-col\"><h3>Run summary:</h3><br/><table class=\"wandb\"><tr><td>epoch</td><td>10</td></tr><tr><td>lr</td><td>0.0005</td></tr><tr><td>teacher_forcing_ratio</td><td>0.31512</td></tr><tr><td>train_acc</td><td>0.92102</td></tr><tr><td>train_loss</td><td>0.30802</td></tr><tr><td>val_acc</td><td>0.85597</td></tr><tr><td>val_loss</td><td>0.64144</td></tr></table><br/></div></div>"
      ],
      "text/plain": [
       "<IPython.core.display.HTML object>"
      ]
     },
     "metadata": {},
     "output_type": "display_data"
    },
    {
     "data": {
      "text/html": [
       " View run <strong style=\"color:#cdcd00\">fiery-sweep-6</strong> at: <a href='https://wandb.ai/roohiparveen/DA6401%20ASSIGNMENT%203/runs/lmpcectf' target=\"_blank\">https://wandb.ai/roohiparveen/DA6401%20ASSIGNMENT%203/runs/lmpcectf</a><br> View project at: <a href='https://wandb.ai/roohiparveen/DA6401%20ASSIGNMENT%203' target=\"_blank\">https://wandb.ai/roohiparveen/DA6401%20ASSIGNMENT%203</a><br>Synced 5 W&B file(s), 0 media file(s), 0 artifact file(s) and 0 other file(s)"
      ],
      "text/plain": [
       "<IPython.core.display.HTML object>"
      ]
     },
     "metadata": {},
     "output_type": "display_data"
    },
    {
     "data": {
      "text/html": [
       "Find logs at: <code>./wandb/run-20250520_110022-lmpcectf/logs</code>"
      ],
      "text/plain": [
       "<IPython.core.display.HTML object>"
      ]
     },
     "metadata": {},
     "output_type": "display_data"
    },
    {
     "name": "stderr",
     "output_type": "stream",
     "text": [
      "\u001b[34m\u001b[1mwandb\u001b[0m: Sweep Agent: Waiting for job.\n",
      "\u001b[34m\u001b[1mwandb\u001b[0m: Job received.\n",
      "\u001b[34m\u001b[1mwandb\u001b[0m: Agent Starting Run: 028ajjm0 with config:\n",
      "\u001b[34m\u001b[1mwandb\u001b[0m: \tdropout: 0.3\n",
      "\u001b[34m\u001b[1mwandb\u001b[0m: \tembedding_dim: 64\n",
      "\u001b[34m\u001b[1mwandb\u001b[0m: \thidden_dim: 64\n",
      "\u001b[34m\u001b[1mwandb\u001b[0m: \tlearning_rate: 0.001\n",
      "\u001b[34m\u001b[1mwandb\u001b[0m: \tnum_layers: 1\n",
      "\u001b[34m\u001b[1mwandb\u001b[0m: \tteacher_forcing_ratio: 0.5\n"
     ]
    },
    {
     "data": {
      "text/html": [
       "Tracking run with wandb version 0.19.9"
      ],
      "text/plain": [
       "<IPython.core.display.HTML object>"
      ]
     },
     "metadata": {},
     "output_type": "display_data"
    },
    {
     "data": {
      "text/html": [
       "Run data is saved locally in <code>/kaggle/working/wandb/run-20250520_110931-028ajjm0</code>"
      ],
      "text/plain": [
       "<IPython.core.display.HTML object>"
      ]
     },
     "metadata": {},
     "output_type": "display_data"
    },
    {
     "data": {
      "text/html": [
       "Syncing run <strong><a href='https://wandb.ai/roohiparveen/DA6401%20ASSIGNMENT%203/runs/028ajjm0' target=\"_blank\">effortless-sweep-7</a></strong> to <a href='https://wandb.ai/roohiparveen/DA6401%20ASSIGNMENT%203' target=\"_blank\">Weights & Biases</a> (<a href='https://wandb.me/developer-guide' target=\"_blank\">docs</a>)<br>Sweep page: <a href='https://wandb.ai/roohiparveen/DA6401%20ASSIGNMENT%203/sweeps/vdneipdr' target=\"_blank\">https://wandb.ai/roohiparveen/DA6401%20ASSIGNMENT%203/sweeps/vdneipdr</a>"
      ],
      "text/plain": [
       "<IPython.core.display.HTML object>"
      ]
     },
     "metadata": {},
     "output_type": "display_data"
    },
    {
     "data": {
      "text/html": [
       " View project at <a href='https://wandb.ai/roohiparveen/DA6401%20ASSIGNMENT%203' target=\"_blank\">https://wandb.ai/roohiparveen/DA6401%20ASSIGNMENT%203</a>"
      ],
      "text/plain": [
       "<IPython.core.display.HTML object>"
      ]
     },
     "metadata": {},
     "output_type": "display_data"
    },
    {
     "data": {
      "text/html": [
       " View sweep at <a href='https://wandb.ai/roohiparveen/DA6401%20ASSIGNMENT%203/sweeps/vdneipdr' target=\"_blank\">https://wandb.ai/roohiparveen/DA6401%20ASSIGNMENT%203/sweeps/vdneipdr</a>"
      ],
      "text/plain": [
       "<IPython.core.display.HTML object>"
      ]
     },
     "metadata": {},
     "output_type": "display_data"
    },
    {
     "data": {
      "text/html": [
       " View run at <a href='https://wandb.ai/roohiparveen/DA6401%20ASSIGNMENT%203/runs/028ajjm0' target=\"_blank\">https://wandb.ai/roohiparveen/DA6401%20ASSIGNMENT%203/runs/028ajjm0</a>"
      ],
      "text/plain": [
       "<IPython.core.display.HTML object>"
      ]
     },
     "metadata": {},
     "output_type": "display_data"
    },
    {
     "data": {
      "text/html": [],
      "text/plain": [
       "<IPython.core.display.HTML object>"
      ]
     },
     "metadata": {},
     "output_type": "display_data"
    },
    {
     "data": {
      "text/html": [
       "<br>    <style><br>        .wandb-row {<br>            display: flex;<br>            flex-direction: row;<br>            flex-wrap: wrap;<br>            justify-content: flex-start;<br>            width: 100%;<br>        }<br>        .wandb-col {<br>            display: flex;<br>            flex-direction: column;<br>            flex-basis: 100%;<br>            flex: 1;<br>            padding: 10px;<br>        }<br>    </style><br><div class=\"wandb-row\"><div class=\"wandb-col\"><h3>Run history:</h3><br/><table class=\"wandb\"><tr><td>epoch</td><td>▁▂▃▃▄▅▆▆▇█</td></tr><tr><td>lr</td><td>▁▁▁▁▁▁▁▁▁▁</td></tr><tr><td>teacher_forcing_ratio</td><td>█▇▆▅▄▄▃▂▂▁</td></tr><tr><td>train_acc</td><td>▁▇▇███████</td></tr><tr><td>train_loss</td><td>█▃▂▂▁▁▁▁▁▁</td></tr><tr><td>val_acc</td><td>▁▄▆▆▆▇▇▇▇█</td></tr><tr><td>val_loss</td><td>█▇▄▄▄▃▃▂▂▁</td></tr></table><br/></div><div class=\"wandb-col\"><h3>Run summary:</h3><br/><table class=\"wandb\"><tr><td>epoch</td><td>10</td></tr><tr><td>lr</td><td>0.001</td></tr><tr><td>teacher_forcing_ratio</td><td>0.31512</td></tr><tr><td>train_acc</td><td>0.88808</td></tr><tr><td>train_loss</td><td>0.43229</td></tr><tr><td>val_acc</td><td>0.84675</td></tr><tr><td>val_loss</td><td>0.69231</td></tr></table><br/></div></div>"
      ],
      "text/plain": [
       "<IPython.core.display.HTML object>"
      ]
     },
     "metadata": {},
     "output_type": "display_data"
    },
    {
     "data": {
      "text/html": [
       " View run <strong style=\"color:#cdcd00\">effortless-sweep-7</strong> at: <a href='https://wandb.ai/roohiparveen/DA6401%20ASSIGNMENT%203/runs/028ajjm0' target=\"_blank\">https://wandb.ai/roohiparveen/DA6401%20ASSIGNMENT%203/runs/028ajjm0</a><br> View project at: <a href='https://wandb.ai/roohiparveen/DA6401%20ASSIGNMENT%203' target=\"_blank\">https://wandb.ai/roohiparveen/DA6401%20ASSIGNMENT%203</a><br>Synced 5 W&B file(s), 0 media file(s), 0 artifact file(s) and 0 other file(s)"
      ],
      "text/plain": [
       "<IPython.core.display.HTML object>"
      ]
     },
     "metadata": {},
     "output_type": "display_data"
    },
    {
     "data": {
      "text/html": [
       "Find logs at: <code>./wandb/run-20250520_110931-028ajjm0/logs</code>"
      ],
      "text/plain": [
       "<IPython.core.display.HTML object>"
      ]
     },
     "metadata": {},
     "output_type": "display_data"
    },
    {
     "name": "stderr",
     "output_type": "stream",
     "text": [
      "\u001b[34m\u001b[1mwandb\u001b[0m: Agent Starting Run: w2wd7210 with config:\n",
      "\u001b[34m\u001b[1mwandb\u001b[0m: \tdropout: 0.3\n",
      "\u001b[34m\u001b[1mwandb\u001b[0m: \tembedding_dim: 64\n",
      "\u001b[34m\u001b[1mwandb\u001b[0m: \thidden_dim: 64\n",
      "\u001b[34m\u001b[1mwandb\u001b[0m: \tlearning_rate: 0.001\n",
      "\u001b[34m\u001b[1mwandb\u001b[0m: \tnum_layers: 1\n",
      "\u001b[34m\u001b[1mwandb\u001b[0m: \tteacher_forcing_ratio: 0.5\n"
     ]
    },
    {
     "data": {
      "text/html": [
       "Tracking run with wandb version 0.19.9"
      ],
      "text/plain": [
       "<IPython.core.display.HTML object>"
      ]
     },
     "metadata": {},
     "output_type": "display_data"
    },
    {
     "data": {
      "text/html": [
       "Run data is saved locally in <code>/kaggle/working/wandb/run-20250520_111829-w2wd7210</code>"
      ],
      "text/plain": [
       "<IPython.core.display.HTML object>"
      ]
     },
     "metadata": {},
     "output_type": "display_data"
    },
    {
     "data": {
      "text/html": [
       "Syncing run <strong><a href='https://wandb.ai/roohiparveen/DA6401%20ASSIGNMENT%203/runs/w2wd7210' target=\"_blank\">twilight-sweep-8</a></strong> to <a href='https://wandb.ai/roohiparveen/DA6401%20ASSIGNMENT%203' target=\"_blank\">Weights & Biases</a> (<a href='https://wandb.me/developer-guide' target=\"_blank\">docs</a>)<br>Sweep page: <a href='https://wandb.ai/roohiparveen/DA6401%20ASSIGNMENT%203/sweeps/vdneipdr' target=\"_blank\">https://wandb.ai/roohiparveen/DA6401%20ASSIGNMENT%203/sweeps/vdneipdr</a>"
      ],
      "text/plain": [
       "<IPython.core.display.HTML object>"
      ]
     },
     "metadata": {},
     "output_type": "display_data"
    },
    {
     "data": {
      "text/html": [
       " View project at <a href='https://wandb.ai/roohiparveen/DA6401%20ASSIGNMENT%203' target=\"_blank\">https://wandb.ai/roohiparveen/DA6401%20ASSIGNMENT%203</a>"
      ],
      "text/plain": [
       "<IPython.core.display.HTML object>"
      ]
     },
     "metadata": {},
     "output_type": "display_data"
    },
    {
     "data": {
      "text/html": [
       " View sweep at <a href='https://wandb.ai/roohiparveen/DA6401%20ASSIGNMENT%203/sweeps/vdneipdr' target=\"_blank\">https://wandb.ai/roohiparveen/DA6401%20ASSIGNMENT%203/sweeps/vdneipdr</a>"
      ],
      "text/plain": [
       "<IPython.core.display.HTML object>"
      ]
     },
     "metadata": {},
     "output_type": "display_data"
    },
    {
     "data": {
      "text/html": [
       " View run at <a href='https://wandb.ai/roohiparveen/DA6401%20ASSIGNMENT%203/runs/w2wd7210' target=\"_blank\">https://wandb.ai/roohiparveen/DA6401%20ASSIGNMENT%203/runs/w2wd7210</a>"
      ],
      "text/plain": [
       "<IPython.core.display.HTML object>"
      ]
     },
     "metadata": {},
     "output_type": "display_data"
    },
    {
     "data": {
      "text/html": [],
      "text/plain": [
       "<IPython.core.display.HTML object>"
      ]
     },
     "metadata": {},
     "output_type": "display_data"
    },
    {
     "data": {
      "text/html": [
       "<br>    <style><br>        .wandb-row {<br>            display: flex;<br>            flex-direction: row;<br>            flex-wrap: wrap;<br>            justify-content: flex-start;<br>            width: 100%;<br>        }<br>        .wandb-col {<br>            display: flex;<br>            flex-direction: column;<br>            flex-basis: 100%;<br>            flex: 1;<br>            padding: 10px;<br>        }<br>    </style><br><div class=\"wandb-row\"><div class=\"wandb-col\"><h3>Run history:</h3><br/><table class=\"wandb\"><tr><td>epoch</td><td>▁▂▃▃▄▅▆▆▇█</td></tr><tr><td>lr</td><td>███████▁▁▁</td></tr><tr><td>teacher_forcing_ratio</td><td>█▇▆▅▄▄▃▂▂▁</td></tr><tr><td>train_acc</td><td>▁▇▇▇██████</td></tr><tr><td>train_loss</td><td>█▃▂▂▁▁▁▁▁▁</td></tr><tr><td>val_acc</td><td>▁▄▆▆▇▇▇▇██</td></tr><tr><td>val_loss</td><td>█▅▃▃▂▂▂▂▁▁</td></tr></table><br/></div><div class=\"wandb-col\"><h3>Run summary:</h3><br/><table class=\"wandb\"><tr><td>epoch</td><td>10</td></tr><tr><td>lr</td><td>0.0005</td></tr><tr><td>teacher_forcing_ratio</td><td>0.31512</td></tr><tr><td>train_acc</td><td>0.89191</td></tr><tr><td>train_loss</td><td>0.41765</td></tr><tr><td>val_acc</td><td>0.85675</td></tr><tr><td>val_loss</td><td>0.62305</td></tr></table><br/></div></div>"
      ],
      "text/plain": [
       "<IPython.core.display.HTML object>"
      ]
     },
     "metadata": {},
     "output_type": "display_data"
    },
    {
     "data": {
      "text/html": [
       " View run <strong style=\"color:#cdcd00\">twilight-sweep-8</strong> at: <a href='https://wandb.ai/roohiparveen/DA6401%20ASSIGNMENT%203/runs/w2wd7210' target=\"_blank\">https://wandb.ai/roohiparveen/DA6401%20ASSIGNMENT%203/runs/w2wd7210</a><br> View project at: <a href='https://wandb.ai/roohiparveen/DA6401%20ASSIGNMENT%203' target=\"_blank\">https://wandb.ai/roohiparveen/DA6401%20ASSIGNMENT%203</a><br>Synced 5 W&B file(s), 0 media file(s), 0 artifact file(s) and 0 other file(s)"
      ],
      "text/plain": [
       "<IPython.core.display.HTML object>"
      ]
     },
     "metadata": {},
     "output_type": "display_data"
    },
    {
     "data": {
      "text/html": [
       "Find logs at: <code>./wandb/run-20250520_111829-w2wd7210/logs</code>"
      ],
      "text/plain": [
       "<IPython.core.display.HTML object>"
      ]
     },
     "metadata": {},
     "output_type": "display_data"
    },
    {
     "name": "stderr",
     "output_type": "stream",
     "text": [
      "\u001b[34m\u001b[1mwandb\u001b[0m: Agent Starting Run: 1oybcmnj with config:\n",
      "\u001b[34m\u001b[1mwandb\u001b[0m: \tdropout: 0.2\n",
      "\u001b[34m\u001b[1mwandb\u001b[0m: \tembedding_dim: 32\n",
      "\u001b[34m\u001b[1mwandb\u001b[0m: \thidden_dim: 64\n",
      "\u001b[34m\u001b[1mwandb\u001b[0m: \tlearning_rate: 0.001\n",
      "\u001b[34m\u001b[1mwandb\u001b[0m: \tnum_layers: 1\n",
      "\u001b[34m\u001b[1mwandb\u001b[0m: \tteacher_forcing_ratio: 0.5\n"
     ]
    },
    {
     "data": {
      "text/html": [
       "Tracking run with wandb version 0.19.9"
      ],
      "text/plain": [
       "<IPython.core.display.HTML object>"
      ]
     },
     "metadata": {},
     "output_type": "display_data"
    },
    {
     "data": {
      "text/html": [
       "Run data is saved locally in <code>/kaggle/working/wandb/run-20250520_112727-1oybcmnj</code>"
      ],
      "text/plain": [
       "<IPython.core.display.HTML object>"
      ]
     },
     "metadata": {},
     "output_type": "display_data"
    },
    {
     "data": {
      "text/html": [
       "Syncing run <strong><a href='https://wandb.ai/roohiparveen/DA6401%20ASSIGNMENT%203/runs/1oybcmnj' target=\"_blank\">laced-sweep-9</a></strong> to <a href='https://wandb.ai/roohiparveen/DA6401%20ASSIGNMENT%203' target=\"_blank\">Weights & Biases</a> (<a href='https://wandb.me/developer-guide' target=\"_blank\">docs</a>)<br>Sweep page: <a href='https://wandb.ai/roohiparveen/DA6401%20ASSIGNMENT%203/sweeps/vdneipdr' target=\"_blank\">https://wandb.ai/roohiparveen/DA6401%20ASSIGNMENT%203/sweeps/vdneipdr</a>"
      ],
      "text/plain": [
       "<IPython.core.display.HTML object>"
      ]
     },
     "metadata": {},
     "output_type": "display_data"
    },
    {
     "data": {
      "text/html": [
       " View project at <a href='https://wandb.ai/roohiparveen/DA6401%20ASSIGNMENT%203' target=\"_blank\">https://wandb.ai/roohiparveen/DA6401%20ASSIGNMENT%203</a>"
      ],
      "text/plain": [
       "<IPython.core.display.HTML object>"
      ]
     },
     "metadata": {},
     "output_type": "display_data"
    },
    {
     "data": {
      "text/html": [
       " View sweep at <a href='https://wandb.ai/roohiparveen/DA6401%20ASSIGNMENT%203/sweeps/vdneipdr' target=\"_blank\">https://wandb.ai/roohiparveen/DA6401%20ASSIGNMENT%203/sweeps/vdneipdr</a>"
      ],
      "text/plain": [
       "<IPython.core.display.HTML object>"
      ]
     },
     "metadata": {},
     "output_type": "display_data"
    },
    {
     "data": {
      "text/html": [
       " View run at <a href='https://wandb.ai/roohiparveen/DA6401%20ASSIGNMENT%203/runs/1oybcmnj' target=\"_blank\">https://wandb.ai/roohiparveen/DA6401%20ASSIGNMENT%203/runs/1oybcmnj</a>"
      ],
      "text/plain": [
       "<IPython.core.display.HTML object>"
      ]
     },
     "metadata": {},
     "output_type": "display_data"
    },
    {
     "data": {
      "text/html": [],
      "text/plain": [
       "<IPython.core.display.HTML object>"
      ]
     },
     "metadata": {},
     "output_type": "display_data"
    },
    {
     "data": {
      "text/html": [
       "<br>    <style><br>        .wandb-row {<br>            display: flex;<br>            flex-direction: row;<br>            flex-wrap: wrap;<br>            justify-content: flex-start;<br>            width: 100%;<br>        }<br>        .wandb-col {<br>            display: flex;<br>            flex-direction: column;<br>            flex-basis: 100%;<br>            flex: 1;<br>            padding: 10px;<br>        }<br>    </style><br><div class=\"wandb-row\"><div class=\"wandb-col\"><h3>Run history:</h3><br/><table class=\"wandb\"><tr><td>epoch</td><td>▁▂▃▃▄▅▆▆▇█</td></tr><tr><td>lr</td><td>▁▁▁▁▁▁▁▁▁▁</td></tr><tr><td>teacher_forcing_ratio</td><td>█▇▆▅▄▄▃▂▂▁</td></tr><tr><td>train_acc</td><td>▁▇▇███████</td></tr><tr><td>train_loss</td><td>█▂▂▁▁▁▁▁▁▁</td></tr><tr><td>val_acc</td><td>▁▅▆▆▇▇████</td></tr><tr><td>val_loss</td><td>█▅▄▄▃▃▂▂▁▁</td></tr></table><br/></div><div class=\"wandb-col\"><h3>Run summary:</h3><br/><table class=\"wandb\"><tr><td>epoch</td><td>10</td></tr><tr><td>lr</td><td>0.001</td></tr><tr><td>teacher_forcing_ratio</td><td>0.31512</td></tr><tr><td>train_acc</td><td>0.88893</td></tr><tr><td>train_loss</td><td>0.42991</td></tr><tr><td>val_acc</td><td>0.84432</td></tr><tr><td>val_loss</td><td>0.67907</td></tr></table><br/></div></div>"
      ],
      "text/plain": [
       "<IPython.core.display.HTML object>"
      ]
     },
     "metadata": {},
     "output_type": "display_data"
    },
    {
     "data": {
      "text/html": [
       " View run <strong style=\"color:#cdcd00\">laced-sweep-9</strong> at: <a href='https://wandb.ai/roohiparveen/DA6401%20ASSIGNMENT%203/runs/1oybcmnj' target=\"_blank\">https://wandb.ai/roohiparveen/DA6401%20ASSIGNMENT%203/runs/1oybcmnj</a><br> View project at: <a href='https://wandb.ai/roohiparveen/DA6401%20ASSIGNMENT%203' target=\"_blank\">https://wandb.ai/roohiparveen/DA6401%20ASSIGNMENT%203</a><br>Synced 5 W&B file(s), 0 media file(s), 0 artifact file(s) and 0 other file(s)"
      ],
      "text/plain": [
       "<IPython.core.display.HTML object>"
      ]
     },
     "metadata": {},
     "output_type": "display_data"
    },
    {
     "data": {
      "text/html": [
       "Find logs at: <code>./wandb/run-20250520_112727-1oybcmnj/logs</code>"
      ],
      "text/plain": [
       "<IPython.core.display.HTML object>"
      ]
     },
     "metadata": {},
     "output_type": "display_data"
    },
    {
     "name": "stderr",
     "output_type": "stream",
     "text": [
      "\u001b[34m\u001b[1mwandb\u001b[0m: Agent Starting Run: jdxa2osq with config:\n",
      "\u001b[34m\u001b[1mwandb\u001b[0m: \tdropout: 0.3\n",
      "\u001b[34m\u001b[1mwandb\u001b[0m: \tembedding_dim: 64\n",
      "\u001b[34m\u001b[1mwandb\u001b[0m: \thidden_dim: 64\n",
      "\u001b[34m\u001b[1mwandb\u001b[0m: \tlearning_rate: 0.001\n",
      "\u001b[34m\u001b[1mwandb\u001b[0m: \tnum_layers: 1\n",
      "\u001b[34m\u001b[1mwandb\u001b[0m: \tteacher_forcing_ratio: 0.5\n"
     ]
    },
    {
     "data": {
      "text/html": [
       "Tracking run with wandb version 0.19.9"
      ],
      "text/plain": [
       "<IPython.core.display.HTML object>"
      ]
     },
     "metadata": {},
     "output_type": "display_data"
    },
    {
     "data": {
      "text/html": [
       "Run data is saved locally in <code>/kaggle/working/wandb/run-20250520_113625-jdxa2osq</code>"
      ],
      "text/plain": [
       "<IPython.core.display.HTML object>"
      ]
     },
     "metadata": {},
     "output_type": "display_data"
    },
    {
     "data": {
      "text/html": [
       "Syncing run <strong><a href='https://wandb.ai/roohiparveen/DA6401%20ASSIGNMENT%203/runs/jdxa2osq' target=\"_blank\">autumn-sweep-10</a></strong> to <a href='https://wandb.ai/roohiparveen/DA6401%20ASSIGNMENT%203' target=\"_blank\">Weights & Biases</a> (<a href='https://wandb.me/developer-guide' target=\"_blank\">docs</a>)<br>Sweep page: <a href='https://wandb.ai/roohiparveen/DA6401%20ASSIGNMENT%203/sweeps/vdneipdr' target=\"_blank\">https://wandb.ai/roohiparveen/DA6401%20ASSIGNMENT%203/sweeps/vdneipdr</a>"
      ],
      "text/plain": [
       "<IPython.core.display.HTML object>"
      ]
     },
     "metadata": {},
     "output_type": "display_data"
    },
    {
     "data": {
      "text/html": [
       " View project at <a href='https://wandb.ai/roohiparveen/DA6401%20ASSIGNMENT%203' target=\"_blank\">https://wandb.ai/roohiparveen/DA6401%20ASSIGNMENT%203</a>"
      ],
      "text/plain": [
       "<IPython.core.display.HTML object>"
      ]
     },
     "metadata": {},
     "output_type": "display_data"
    },
    {
     "data": {
      "text/html": [
       " View sweep at <a href='https://wandb.ai/roohiparveen/DA6401%20ASSIGNMENT%203/sweeps/vdneipdr' target=\"_blank\">https://wandb.ai/roohiparveen/DA6401%20ASSIGNMENT%203/sweeps/vdneipdr</a>"
      ],
      "text/plain": [
       "<IPython.core.display.HTML object>"
      ]
     },
     "metadata": {},
     "output_type": "display_data"
    },
    {
     "data": {
      "text/html": [
       " View run at <a href='https://wandb.ai/roohiparveen/DA6401%20ASSIGNMENT%203/runs/jdxa2osq' target=\"_blank\">https://wandb.ai/roohiparveen/DA6401%20ASSIGNMENT%203/runs/jdxa2osq</a>"
      ],
      "text/plain": [
       "<IPython.core.display.HTML object>"
      ]
     },
     "metadata": {},
     "output_type": "display_data"
    },
    {
     "data": {
      "text/html": [],
      "text/plain": [
       "<IPython.core.display.HTML object>"
      ]
     },
     "metadata": {},
     "output_type": "display_data"
    },
    {
     "data": {
      "text/html": [
       "<br>    <style><br>        .wandb-row {<br>            display: flex;<br>            flex-direction: row;<br>            flex-wrap: wrap;<br>            justify-content: flex-start;<br>            width: 100%;<br>        }<br>        .wandb-col {<br>            display: flex;<br>            flex-direction: column;<br>            flex-basis: 100%;<br>            flex: 1;<br>            padding: 10px;<br>        }<br>    </style><br><div class=\"wandb-row\"><div class=\"wandb-col\"><h3>Run history:</h3><br/><table class=\"wandb\"><tr><td>epoch</td><td>▁▂▃▃▄▅▆▆▇█</td></tr><tr><td>lr</td><td>▁▁▁▁▁▁▁▁▁▁</td></tr><tr><td>teacher_forcing_ratio</td><td>█▇▆▅▄▄▃▂▂▁</td></tr><tr><td>train_acc</td><td>▁▇▇███████</td></tr><tr><td>train_loss</td><td>█▃▂▁▁▁▁▁▁▁</td></tr><tr><td>val_acc</td><td>▁▅▆▆▇▇▇███</td></tr><tr><td>val_loss</td><td>█▅▃▄▃▂▂▂▁▁</td></tr></table><br/></div><div class=\"wandb-col\"><h3>Run summary:</h3><br/><table class=\"wandb\"><tr><td>epoch</td><td>10</td></tr><tr><td>lr</td><td>0.001</td></tr><tr><td>teacher_forcing_ratio</td><td>0.31512</td></tr><tr><td>train_acc</td><td>0.88732</td></tr><tr><td>train_loss</td><td>0.43827</td></tr><tr><td>val_acc</td><td>0.8483</td></tr><tr><td>val_loss</td><td>0.64248</td></tr></table><br/></div></div>"
      ],
      "text/plain": [
       "<IPython.core.display.HTML object>"
      ]
     },
     "metadata": {},
     "output_type": "display_data"
    },
    {
     "data": {
      "text/html": [
       " View run <strong style=\"color:#cdcd00\">autumn-sweep-10</strong> at: <a href='https://wandb.ai/roohiparveen/DA6401%20ASSIGNMENT%203/runs/jdxa2osq' target=\"_blank\">https://wandb.ai/roohiparveen/DA6401%20ASSIGNMENT%203/runs/jdxa2osq</a><br> View project at: <a href='https://wandb.ai/roohiparveen/DA6401%20ASSIGNMENT%203' target=\"_blank\">https://wandb.ai/roohiparveen/DA6401%20ASSIGNMENT%203</a><br>Synced 5 W&B file(s), 0 media file(s), 0 artifact file(s) and 0 other file(s)"
      ],
      "text/plain": [
       "<IPython.core.display.HTML object>"
      ]
     },
     "metadata": {},
     "output_type": "display_data"
    },
    {
     "data": {
      "text/html": [
       "Find logs at: <code>./wandb/run-20250520_113625-jdxa2osq/logs</code>"
      ],
      "text/plain": [
       "<IPython.core.display.HTML object>"
      ]
     },
     "metadata": {},
     "output_type": "display_data"
    },
    {
     "name": "stderr",
     "output_type": "stream",
     "text": [
      "\u001b[34m\u001b[1mwandb\u001b[0m: Agent Starting Run: t1gsooee with config:\n",
      "\u001b[34m\u001b[1mwandb\u001b[0m: \tdropout: 0.2\n",
      "\u001b[34m\u001b[1mwandb\u001b[0m: \tembedding_dim: 32\n",
      "\u001b[34m\u001b[1mwandb\u001b[0m: \thidden_dim: 128\n",
      "\u001b[34m\u001b[1mwandb\u001b[0m: \tlearning_rate: 0.001\n",
      "\u001b[34m\u001b[1mwandb\u001b[0m: \tnum_layers: 1\n",
      "\u001b[34m\u001b[1mwandb\u001b[0m: \tteacher_forcing_ratio: 0.5\n"
     ]
    },
    {
     "data": {
      "text/html": [
       "Tracking run with wandb version 0.19.9"
      ],
      "text/plain": [
       "<IPython.core.display.HTML object>"
      ]
     },
     "metadata": {},
     "output_type": "display_data"
    },
    {
     "data": {
      "text/html": [
       "Run data is saved locally in <code>/kaggle/working/wandb/run-20250520_114524-t1gsooee</code>"
      ],
      "text/plain": [
       "<IPython.core.display.HTML object>"
      ]
     },
     "metadata": {},
     "output_type": "display_data"
    },
    {
     "data": {
      "text/html": [
       "Syncing run <strong><a href='https://wandb.ai/roohiparveen/DA6401%20ASSIGNMENT%203/runs/t1gsooee' target=\"_blank\">proud-sweep-11</a></strong> to <a href='https://wandb.ai/roohiparveen/DA6401%20ASSIGNMENT%203' target=\"_blank\">Weights & Biases</a> (<a href='https://wandb.me/developer-guide' target=\"_blank\">docs</a>)<br>Sweep page: <a href='https://wandb.ai/roohiparveen/DA6401%20ASSIGNMENT%203/sweeps/vdneipdr' target=\"_blank\">https://wandb.ai/roohiparveen/DA6401%20ASSIGNMENT%203/sweeps/vdneipdr</a>"
      ],
      "text/plain": [
       "<IPython.core.display.HTML object>"
      ]
     },
     "metadata": {},
     "output_type": "display_data"
    },
    {
     "data": {
      "text/html": [
       " View project at <a href='https://wandb.ai/roohiparveen/DA6401%20ASSIGNMENT%203' target=\"_blank\">https://wandb.ai/roohiparveen/DA6401%20ASSIGNMENT%203</a>"
      ],
      "text/plain": [
       "<IPython.core.display.HTML object>"
      ]
     },
     "metadata": {},
     "output_type": "display_data"
    },
    {
     "data": {
      "text/html": [
       " View sweep at <a href='https://wandb.ai/roohiparveen/DA6401%20ASSIGNMENT%203/sweeps/vdneipdr' target=\"_blank\">https://wandb.ai/roohiparveen/DA6401%20ASSIGNMENT%203/sweeps/vdneipdr</a>"
      ],
      "text/plain": [
       "<IPython.core.display.HTML object>"
      ]
     },
     "metadata": {},
     "output_type": "display_data"
    },
    {
     "data": {
      "text/html": [
       " View run at <a href='https://wandb.ai/roohiparveen/DA6401%20ASSIGNMENT%203/runs/t1gsooee' target=\"_blank\">https://wandb.ai/roohiparveen/DA6401%20ASSIGNMENT%203/runs/t1gsooee</a>"
      ],
      "text/plain": [
       "<IPython.core.display.HTML object>"
      ]
     },
     "metadata": {},
     "output_type": "display_data"
    },
    {
     "name": "stdout",
     "output_type": "stream",
     "text": [
      "Early stopping triggered.\n"
     ]
    },
    {
     "data": {
      "text/html": [],
      "text/plain": [
       "<IPython.core.display.HTML object>"
      ]
     },
     "metadata": {},
     "output_type": "display_data"
    },
    {
     "data": {
      "text/html": [
       "<br>    <style><br>        .wandb-row {<br>            display: flex;<br>            flex-direction: row;<br>            flex-wrap: wrap;<br>            justify-content: flex-start;<br>            width: 100%;<br>        }<br>        .wandb-col {<br>            display: flex;<br>            flex-direction: column;<br>            flex-basis: 100%;<br>            flex: 1;<br>            padding: 10px;<br>        }<br>    </style><br><div class=\"wandb-row\"><div class=\"wandb-col\"><h3>Run history:</h3><br/><table class=\"wandb\"><tr><td>epoch</td><td>▁▂▄▅▇█</td></tr><tr><td>lr</td><td>████▁▁</td></tr><tr><td>teacher_forcing_ratio</td><td>█▆▅▄▂▁</td></tr><tr><td>train_acc</td><td>▁▇▇███</td></tr><tr><td>train_loss</td><td>█▂▂▂▁▁</td></tr><tr><td>val_acc</td><td>▁▆██▇█</td></tr><tr><td>val_loss</td><td>█▃▁▁▂▁</td></tr></table><br/></div><div class=\"wandb-col\"><h3>Run summary:</h3><br/><table class=\"wandb\"><tr><td>epoch</td><td>6</td></tr><tr><td>lr</td><td>0.0005</td></tr><tr><td>teacher_forcing_ratio</td><td>0.38689</td></tr><tr><td>train_acc</td><td>0.90698</td></tr><tr><td>train_loss</td><td>0.35831</td></tr><tr><td>val_acc</td><td>0.8517</td></tr><tr><td>val_loss</td><td>0.66943</td></tr></table><br/></div></div>"
      ],
      "text/plain": [
       "<IPython.core.display.HTML object>"
      ]
     },
     "metadata": {},
     "output_type": "display_data"
    },
    {
     "data": {
      "text/html": [
       " View run <strong style=\"color:#cdcd00\">proud-sweep-11</strong> at: <a href='https://wandb.ai/roohiparveen/DA6401%20ASSIGNMENT%203/runs/t1gsooee' target=\"_blank\">https://wandb.ai/roohiparveen/DA6401%20ASSIGNMENT%203/runs/t1gsooee</a><br> View project at: <a href='https://wandb.ai/roohiparveen/DA6401%20ASSIGNMENT%203' target=\"_blank\">https://wandb.ai/roohiparveen/DA6401%20ASSIGNMENT%203</a><br>Synced 5 W&B file(s), 0 media file(s), 0 artifact file(s) and 0 other file(s)"
      ],
      "text/plain": [
       "<IPython.core.display.HTML object>"
      ]
     },
     "metadata": {},
     "output_type": "display_data"
    },
    {
     "data": {
      "text/html": [
       "Find logs at: <code>./wandb/run-20250520_114524-t1gsooee/logs</code>"
      ],
      "text/plain": [
       "<IPython.core.display.HTML object>"
      ]
     },
     "metadata": {},
     "output_type": "display_data"
    },
    {
     "name": "stderr",
     "output_type": "stream",
     "text": [
      "\u001b[34m\u001b[1mwandb\u001b[0m: Agent Starting Run: qxqru1lc with config:\n",
      "\u001b[34m\u001b[1mwandb\u001b[0m: \tdropout: 0.3\n",
      "\u001b[34m\u001b[1mwandb\u001b[0m: \tembedding_dim: 64\n",
      "\u001b[34m\u001b[1mwandb\u001b[0m: \thidden_dim: 128\n",
      "\u001b[34m\u001b[1mwandb\u001b[0m: \tlearning_rate: 0.001\n",
      "\u001b[34m\u001b[1mwandb\u001b[0m: \tnum_layers: 1\n",
      "\u001b[34m\u001b[1mwandb\u001b[0m: \tteacher_forcing_ratio: 0.5\n"
     ]
    },
    {
     "data": {
      "text/html": [
       "Tracking run with wandb version 0.19.9"
      ],
      "text/plain": [
       "<IPython.core.display.HTML object>"
      ]
     },
     "metadata": {},
     "output_type": "display_data"
    },
    {
     "data": {
      "text/html": [
       "Run data is saved locally in <code>/kaggle/working/wandb/run-20250520_115056-qxqru1lc</code>"
      ],
      "text/plain": [
       "<IPython.core.display.HTML object>"
      ]
     },
     "metadata": {},
     "output_type": "display_data"
    },
    {
     "data": {
      "text/html": [
       "Syncing run <strong><a href='https://wandb.ai/roohiparveen/DA6401%20ASSIGNMENT%203/runs/qxqru1lc' target=\"_blank\">apricot-sweep-12</a></strong> to <a href='https://wandb.ai/roohiparveen/DA6401%20ASSIGNMENT%203' target=\"_blank\">Weights & Biases</a> (<a href='https://wandb.me/developer-guide' target=\"_blank\">docs</a>)<br>Sweep page: <a href='https://wandb.ai/roohiparveen/DA6401%20ASSIGNMENT%203/sweeps/vdneipdr' target=\"_blank\">https://wandb.ai/roohiparveen/DA6401%20ASSIGNMENT%203/sweeps/vdneipdr</a>"
      ],
      "text/plain": [
       "<IPython.core.display.HTML object>"
      ]
     },
     "metadata": {},
     "output_type": "display_data"
    },
    {
     "data": {
      "text/html": [
       " View project at <a href='https://wandb.ai/roohiparveen/DA6401%20ASSIGNMENT%203' target=\"_blank\">https://wandb.ai/roohiparveen/DA6401%20ASSIGNMENT%203</a>"
      ],
      "text/plain": [
       "<IPython.core.display.HTML object>"
      ]
     },
     "metadata": {},
     "output_type": "display_data"
    },
    {
     "data": {
      "text/html": [
       " View sweep at <a href='https://wandb.ai/roohiparveen/DA6401%20ASSIGNMENT%203/sweeps/vdneipdr' target=\"_blank\">https://wandb.ai/roohiparveen/DA6401%20ASSIGNMENT%203/sweeps/vdneipdr</a>"
      ],
      "text/plain": [
       "<IPython.core.display.HTML object>"
      ]
     },
     "metadata": {},
     "output_type": "display_data"
    },
    {
     "data": {
      "text/html": [
       " View run at <a href='https://wandb.ai/roohiparveen/DA6401%20ASSIGNMENT%203/runs/qxqru1lc' target=\"_blank\">https://wandb.ai/roohiparveen/DA6401%20ASSIGNMENT%203/runs/qxqru1lc</a>"
      ],
      "text/plain": [
       "<IPython.core.display.HTML object>"
      ]
     },
     "metadata": {},
     "output_type": "display_data"
    },
    {
     "data": {
      "text/html": [],
      "text/plain": [
       "<IPython.core.display.HTML object>"
      ]
     },
     "metadata": {},
     "output_type": "display_data"
    },
    {
     "data": {
      "text/html": [
       "<br>    <style><br>        .wandb-row {<br>            display: flex;<br>            flex-direction: row;<br>            flex-wrap: wrap;<br>            justify-content: flex-start;<br>            width: 100%;<br>        }<br>        .wandb-col {<br>            display: flex;<br>            flex-direction: column;<br>            flex-basis: 100%;<br>            flex: 1;<br>            padding: 10px;<br>        }<br>    </style><br><div class=\"wandb-row\"><div class=\"wandb-col\"><h3>Run history:</h3><br/><table class=\"wandb\"><tr><td>epoch</td><td>▁▂▃▃▄▅▆▆▇█</td></tr><tr><td>lr</td><td>█████▃▃▃▃▁</td></tr><tr><td>teacher_forcing_ratio</td><td>█▇▆▅▄▄▃▂▂▁</td></tr><tr><td>train_acc</td><td>▁▆▇▇▇█████</td></tr><tr><td>train_loss</td><td>█▃▂▂▂▁▁▁▁▁</td></tr><tr><td>val_acc</td><td>▁▄▅▇▇▇████</td></tr><tr><td>val_loss</td><td>█▄▄▂▂▃▁▁▁▁</td></tr></table><br/></div><div class=\"wandb-col\"><h3>Run summary:</h3><br/><table class=\"wandb\"><tr><td>epoch</td><td>10</td></tr><tr><td>lr</td><td>0.00025</td></tr><tr><td>teacher_forcing_ratio</td><td>0.31512</td></tr><tr><td>train_acc</td><td>0.91915</td></tr><tr><td>train_loss</td><td>0.31319</td></tr><tr><td>val_acc</td><td>0.85993</td></tr><tr><td>val_loss</td><td>0.63321</td></tr></table><br/></div></div>"
      ],
      "text/plain": [
       "<IPython.core.display.HTML object>"
      ]
     },
     "metadata": {},
     "output_type": "display_data"
    },
    {
     "data": {
      "text/html": [
       " View run <strong style=\"color:#cdcd00\">apricot-sweep-12</strong> at: <a href='https://wandb.ai/roohiparveen/DA6401%20ASSIGNMENT%203/runs/qxqru1lc' target=\"_blank\">https://wandb.ai/roohiparveen/DA6401%20ASSIGNMENT%203/runs/qxqru1lc</a><br> View project at: <a href='https://wandb.ai/roohiparveen/DA6401%20ASSIGNMENT%203' target=\"_blank\">https://wandb.ai/roohiparveen/DA6401%20ASSIGNMENT%203</a><br>Synced 5 W&B file(s), 0 media file(s), 0 artifact file(s) and 0 other file(s)"
      ],
      "text/plain": [
       "<IPython.core.display.HTML object>"
      ]
     },
     "metadata": {},
     "output_type": "display_data"
    },
    {
     "data": {
      "text/html": [
       "Find logs at: <code>./wandb/run-20250520_115056-qxqru1lc/logs</code>"
      ],
      "text/plain": [
       "<IPython.core.display.HTML object>"
      ]
     },
     "metadata": {},
     "output_type": "display_data"
    },
    {
     "name": "stderr",
     "output_type": "stream",
     "text": [
      "\u001b[34m\u001b[1mwandb\u001b[0m: Agent Starting Run: 4f079xna with config:\n",
      "\u001b[34m\u001b[1mwandb\u001b[0m: \tdropout: 0.3\n",
      "\u001b[34m\u001b[1mwandb\u001b[0m: \tembedding_dim: 64\n",
      "\u001b[34m\u001b[1mwandb\u001b[0m: \thidden_dim: 128\n",
      "\u001b[34m\u001b[1mwandb\u001b[0m: \tlearning_rate: 0.001\n",
      "\u001b[34m\u001b[1mwandb\u001b[0m: \tnum_layers: 1\n",
      "\u001b[34m\u001b[1mwandb\u001b[0m: \tteacher_forcing_ratio: 0.5\n"
     ]
    },
    {
     "data": {
      "text/html": [
       "Tracking run with wandb version 0.19.9"
      ],
      "text/plain": [
       "<IPython.core.display.HTML object>"
      ]
     },
     "metadata": {},
     "output_type": "display_data"
    },
    {
     "data": {
      "text/html": [
       "Run data is saved locally in <code>/kaggle/working/wandb/run-20250520_115959-4f079xna</code>"
      ],
      "text/plain": [
       "<IPython.core.display.HTML object>"
      ]
     },
     "metadata": {},
     "output_type": "display_data"
    },
    {
     "data": {
      "text/html": [
       "Syncing run <strong><a href='https://wandb.ai/roohiparveen/DA6401%20ASSIGNMENT%203/runs/4f079xna' target=\"_blank\">easy-sweep-13</a></strong> to <a href='https://wandb.ai/roohiparveen/DA6401%20ASSIGNMENT%203' target=\"_blank\">Weights & Biases</a> (<a href='https://wandb.me/developer-guide' target=\"_blank\">docs</a>)<br>Sweep page: <a href='https://wandb.ai/roohiparveen/DA6401%20ASSIGNMENT%203/sweeps/vdneipdr' target=\"_blank\">https://wandb.ai/roohiparveen/DA6401%20ASSIGNMENT%203/sweeps/vdneipdr</a>"
      ],
      "text/plain": [
       "<IPython.core.display.HTML object>"
      ]
     },
     "metadata": {},
     "output_type": "display_data"
    },
    {
     "data": {
      "text/html": [
       " View project at <a href='https://wandb.ai/roohiparveen/DA6401%20ASSIGNMENT%203' target=\"_blank\">https://wandb.ai/roohiparveen/DA6401%20ASSIGNMENT%203</a>"
      ],
      "text/plain": [
       "<IPython.core.display.HTML object>"
      ]
     },
     "metadata": {},
     "output_type": "display_data"
    },
    {
     "data": {
      "text/html": [
       " View sweep at <a href='https://wandb.ai/roohiparveen/DA6401%20ASSIGNMENT%203/sweeps/vdneipdr' target=\"_blank\">https://wandb.ai/roohiparveen/DA6401%20ASSIGNMENT%203/sweeps/vdneipdr</a>"
      ],
      "text/plain": [
       "<IPython.core.display.HTML object>"
      ]
     },
     "metadata": {},
     "output_type": "display_data"
    },
    {
     "data": {
      "text/html": [
       " View run at <a href='https://wandb.ai/roohiparveen/DA6401%20ASSIGNMENT%203/runs/4f079xna' target=\"_blank\">https://wandb.ai/roohiparveen/DA6401%20ASSIGNMENT%203/runs/4f079xna</a>"
      ],
      "text/plain": [
       "<IPython.core.display.HTML object>"
      ]
     },
     "metadata": {},
     "output_type": "display_data"
    },
    {
     "data": {
      "text/html": [],
      "text/plain": [
       "<IPython.core.display.HTML object>"
      ]
     },
     "metadata": {},
     "output_type": "display_data"
    },
    {
     "data": {
      "text/html": [
       "<br>    <style><br>        .wandb-row {<br>            display: flex;<br>            flex-direction: row;<br>            flex-wrap: wrap;<br>            justify-content: flex-start;<br>            width: 100%;<br>        }<br>        .wandb-col {<br>            display: flex;<br>            flex-direction: column;<br>            flex-basis: 100%;<br>            flex: 1;<br>            padding: 10px;<br>        }<br>    </style><br><div class=\"wandb-row\"><div class=\"wandb-col\"><h3>Run history:</h3><br/><table class=\"wandb\"><tr><td>epoch</td><td>▁▂▃▃▄▅▆▆▇█</td></tr><tr><td>lr</td><td>█████████▁</td></tr><tr><td>teacher_forcing_ratio</td><td>█▇▆▅▄▄▃▂▂▁</td></tr><tr><td>train_acc</td><td>▁▇▇▇██████</td></tr><tr><td>train_loss</td><td>█▃▂▂▂▁▁▁▁▁</td></tr><tr><td>val_acc</td><td>▁▄▆▇▇█▇██▇</td></tr><tr><td>val_loss</td><td>█▆▃▂▃▂▁▁▁▂</td></tr></table><br/></div><div class=\"wandb-col\"><h3>Run summary:</h3><br/><table class=\"wandb\"><tr><td>epoch</td><td>10</td></tr><tr><td>lr</td><td>0.0005</td></tr><tr><td>teacher_forcing_ratio</td><td>0.31512</td></tr><tr><td>train_acc</td><td>0.91689</td></tr><tr><td>train_loss</td><td>0.32316</td></tr><tr><td>val_acc</td><td>0.85221</td></tr><tr><td>val_loss</td><td>0.66842</td></tr></table><br/></div></div>"
      ],
      "text/plain": [
       "<IPython.core.display.HTML object>"
      ]
     },
     "metadata": {},
     "output_type": "display_data"
    },
    {
     "data": {
      "text/html": [
       " View run <strong style=\"color:#cdcd00\">easy-sweep-13</strong> at: <a href='https://wandb.ai/roohiparveen/DA6401%20ASSIGNMENT%203/runs/4f079xna' target=\"_blank\">https://wandb.ai/roohiparveen/DA6401%20ASSIGNMENT%203/runs/4f079xna</a><br> View project at: <a href='https://wandb.ai/roohiparveen/DA6401%20ASSIGNMENT%203' target=\"_blank\">https://wandb.ai/roohiparveen/DA6401%20ASSIGNMENT%203</a><br>Synced 5 W&B file(s), 0 media file(s), 0 artifact file(s) and 0 other file(s)"
      ],
      "text/plain": [
       "<IPython.core.display.HTML object>"
      ]
     },
     "metadata": {},
     "output_type": "display_data"
    },
    {
     "data": {
      "text/html": [
       "Find logs at: <code>./wandb/run-20250520_115959-4f079xna/logs</code>"
      ],
      "text/plain": [
       "<IPython.core.display.HTML object>"
      ]
     },
     "metadata": {},
     "output_type": "display_data"
    },
    {
     "name": "stderr",
     "output_type": "stream",
     "text": [
      "\u001b[34m\u001b[1mwandb\u001b[0m: Agent Starting Run: rq2cco6n with config:\n",
      "\u001b[34m\u001b[1mwandb\u001b[0m: \tdropout: 0.3\n",
      "\u001b[34m\u001b[1mwandb\u001b[0m: \tembedding_dim: 64\n",
      "\u001b[34m\u001b[1mwandb\u001b[0m: \thidden_dim: 128\n",
      "\u001b[34m\u001b[1mwandb\u001b[0m: \tlearning_rate: 0.001\n",
      "\u001b[34m\u001b[1mwandb\u001b[0m: \tnum_layers: 1\n",
      "\u001b[34m\u001b[1mwandb\u001b[0m: \tteacher_forcing_ratio: 0.5\n"
     ]
    },
    {
     "data": {
      "text/html": [
       "Tracking run with wandb version 0.19.9"
      ],
      "text/plain": [
       "<IPython.core.display.HTML object>"
      ]
     },
     "metadata": {},
     "output_type": "display_data"
    },
    {
     "data": {
      "text/html": [
       "Run data is saved locally in <code>/kaggle/working/wandb/run-20250520_120907-rq2cco6n</code>"
      ],
      "text/plain": [
       "<IPython.core.display.HTML object>"
      ]
     },
     "metadata": {},
     "output_type": "display_data"
    },
    {
     "data": {
      "text/html": [
       "Syncing run <strong><a href='https://wandb.ai/roohiparveen/DA6401%20ASSIGNMENT%203/runs/rq2cco6n' target=\"_blank\">desert-sweep-14</a></strong> to <a href='https://wandb.ai/roohiparveen/DA6401%20ASSIGNMENT%203' target=\"_blank\">Weights & Biases</a> (<a href='https://wandb.me/developer-guide' target=\"_blank\">docs</a>)<br>Sweep page: <a href='https://wandb.ai/roohiparveen/DA6401%20ASSIGNMENT%203/sweeps/vdneipdr' target=\"_blank\">https://wandb.ai/roohiparveen/DA6401%20ASSIGNMENT%203/sweeps/vdneipdr</a>"
      ],
      "text/plain": [
       "<IPython.core.display.HTML object>"
      ]
     },
     "metadata": {},
     "output_type": "display_data"
    },
    {
     "data": {
      "text/html": [
       " View project at <a href='https://wandb.ai/roohiparveen/DA6401%20ASSIGNMENT%203' target=\"_blank\">https://wandb.ai/roohiparveen/DA6401%20ASSIGNMENT%203</a>"
      ],
      "text/plain": [
       "<IPython.core.display.HTML object>"
      ]
     },
     "metadata": {},
     "output_type": "display_data"
    },
    {
     "data": {
      "text/html": [
       " View sweep at <a href='https://wandb.ai/roohiparveen/DA6401%20ASSIGNMENT%203/sweeps/vdneipdr' target=\"_blank\">https://wandb.ai/roohiparveen/DA6401%20ASSIGNMENT%203/sweeps/vdneipdr</a>"
      ],
      "text/plain": [
       "<IPython.core.display.HTML object>"
      ]
     },
     "metadata": {},
     "output_type": "display_data"
    },
    {
     "data": {
      "text/html": [
       " View run at <a href='https://wandb.ai/roohiparveen/DA6401%20ASSIGNMENT%203/runs/rq2cco6n' target=\"_blank\">https://wandb.ai/roohiparveen/DA6401%20ASSIGNMENT%203/runs/rq2cco6n</a>"
      ],
      "text/plain": [
       "<IPython.core.display.HTML object>"
      ]
     },
     "metadata": {},
     "output_type": "display_data"
    },
    {
     "data": {
      "text/html": [],
      "text/plain": [
       "<IPython.core.display.HTML object>"
      ]
     },
     "metadata": {},
     "output_type": "display_data"
    },
    {
     "data": {
      "text/html": [
       "<br>    <style><br>        .wandb-row {<br>            display: flex;<br>            flex-direction: row;<br>            flex-wrap: wrap;<br>            justify-content: flex-start;<br>            width: 100%;<br>        }<br>        .wandb-col {<br>            display: flex;<br>            flex-direction: column;<br>            flex-basis: 100%;<br>            flex: 1;<br>            padding: 10px;<br>        }<br>    </style><br><div class=\"wandb-row\"><div class=\"wandb-col\"><h3>Run history:</h3><br/><table class=\"wandb\"><tr><td>epoch</td><td>▁▂▃▃▄▅▆▆▇█</td></tr><tr><td>lr</td><td>█████████▁</td></tr><tr><td>teacher_forcing_ratio</td><td>█▇▆▅▄▄▃▂▂▁</td></tr><tr><td>train_acc</td><td>▁▆▇▇██████</td></tr><tr><td>train_loss</td><td>█▃▂▂▂▁▁▁▁▁</td></tr><tr><td>val_acc</td><td>▁▅▅▆▇▇██▇█</td></tr><tr><td>val_loss</td><td>█▄▄▃▃▂▂▁▂▂</td></tr></table><br/></div><div class=\"wandb-col\"><h3>Run summary:</h3><br/><table class=\"wandb\"><tr><td>epoch</td><td>10</td></tr><tr><td>lr</td><td>0.0005</td></tr><tr><td>teacher_forcing_ratio</td><td>0.31512</td></tr><tr><td>train_acc</td><td>0.91702</td></tr><tr><td>train_loss</td><td>0.32315</td></tr><tr><td>val_acc</td><td>0.85461</td></tr><tr><td>val_loss</td><td>0.64993</td></tr></table><br/></div></div>"
      ],
      "text/plain": [
       "<IPython.core.display.HTML object>"
      ]
     },
     "metadata": {},
     "output_type": "display_data"
    },
    {
     "data": {
      "text/html": [
       " View run <strong style=\"color:#cdcd00\">desert-sweep-14</strong> at: <a href='https://wandb.ai/roohiparveen/DA6401%20ASSIGNMENT%203/runs/rq2cco6n' target=\"_blank\">https://wandb.ai/roohiparveen/DA6401%20ASSIGNMENT%203/runs/rq2cco6n</a><br> View project at: <a href='https://wandb.ai/roohiparveen/DA6401%20ASSIGNMENT%203' target=\"_blank\">https://wandb.ai/roohiparveen/DA6401%20ASSIGNMENT%203</a><br>Synced 5 W&B file(s), 0 media file(s), 0 artifact file(s) and 0 other file(s)"
      ],
      "text/plain": [
       "<IPython.core.display.HTML object>"
      ]
     },
     "metadata": {},
     "output_type": "display_data"
    },
    {
     "data": {
      "text/html": [
       "Find logs at: <code>./wandb/run-20250520_120907-rq2cco6n/logs</code>"
      ],
      "text/plain": [
       "<IPython.core.display.HTML object>"
      ]
     },
     "metadata": {},
     "output_type": "display_data"
    },
    {
     "name": "stderr",
     "output_type": "stream",
     "text": [
      "\u001b[34m\u001b[1mwandb\u001b[0m: Agent Starting Run: sum4agwb with config:\n",
      "\u001b[34m\u001b[1mwandb\u001b[0m: \tdropout: 0.3\n",
      "\u001b[34m\u001b[1mwandb\u001b[0m: \tembedding_dim: 64\n",
      "\u001b[34m\u001b[1mwandb\u001b[0m: \thidden_dim: 128\n",
      "\u001b[34m\u001b[1mwandb\u001b[0m: \tlearning_rate: 0.001\n",
      "\u001b[34m\u001b[1mwandb\u001b[0m: \tnum_layers: 1\n",
      "\u001b[34m\u001b[1mwandb\u001b[0m: \tteacher_forcing_ratio: 0.5\n"
     ]
    },
    {
     "data": {
      "text/html": [
       "Tracking run with wandb version 0.19.9"
      ],
      "text/plain": [
       "<IPython.core.display.HTML object>"
      ]
     },
     "metadata": {},
     "output_type": "display_data"
    },
    {
     "data": {
      "text/html": [
       "Run data is saved locally in <code>/kaggle/working/wandb/run-20250520_121821-sum4agwb</code>"
      ],
      "text/plain": [
       "<IPython.core.display.HTML object>"
      ]
     },
     "metadata": {},
     "output_type": "display_data"
    },
    {
     "data": {
      "text/html": [
       "Syncing run <strong><a href='https://wandb.ai/roohiparveen/DA6401%20ASSIGNMENT%203/runs/sum4agwb' target=\"_blank\">lemon-sweep-15</a></strong> to <a href='https://wandb.ai/roohiparveen/DA6401%20ASSIGNMENT%203' target=\"_blank\">Weights & Biases</a> (<a href='https://wandb.me/developer-guide' target=\"_blank\">docs</a>)<br>Sweep page: <a href='https://wandb.ai/roohiparveen/DA6401%20ASSIGNMENT%203/sweeps/vdneipdr' target=\"_blank\">https://wandb.ai/roohiparveen/DA6401%20ASSIGNMENT%203/sweeps/vdneipdr</a>"
      ],
      "text/plain": [
       "<IPython.core.display.HTML object>"
      ]
     },
     "metadata": {},
     "output_type": "display_data"
    },
    {
     "data": {
      "text/html": [
       " View project at <a href='https://wandb.ai/roohiparveen/DA6401%20ASSIGNMENT%203' target=\"_blank\">https://wandb.ai/roohiparveen/DA6401%20ASSIGNMENT%203</a>"
      ],
      "text/plain": [
       "<IPython.core.display.HTML object>"
      ]
     },
     "metadata": {},
     "output_type": "display_data"
    },
    {
     "data": {
      "text/html": [
       " View sweep at <a href='https://wandb.ai/roohiparveen/DA6401%20ASSIGNMENT%203/sweeps/vdneipdr' target=\"_blank\">https://wandb.ai/roohiparveen/DA6401%20ASSIGNMENT%203/sweeps/vdneipdr</a>"
      ],
      "text/plain": [
       "<IPython.core.display.HTML object>"
      ]
     },
     "metadata": {},
     "output_type": "display_data"
    },
    {
     "data": {
      "text/html": [
       " View run at <a href='https://wandb.ai/roohiparveen/DA6401%20ASSIGNMENT%203/runs/sum4agwb' target=\"_blank\">https://wandb.ai/roohiparveen/DA6401%20ASSIGNMENT%203/runs/sum4agwb</a>"
      ],
      "text/plain": [
       "<IPython.core.display.HTML object>"
      ]
     },
     "metadata": {},
     "output_type": "display_data"
    },
    {
     "data": {
      "text/html": [],
      "text/plain": [
       "<IPython.core.display.HTML object>"
      ]
     },
     "metadata": {},
     "output_type": "display_data"
    },
    {
     "data": {
      "text/html": [
       "<br>    <style><br>        .wandb-row {<br>            display: flex;<br>            flex-direction: row;<br>            flex-wrap: wrap;<br>            justify-content: flex-start;<br>            width: 100%;<br>        }<br>        .wandb-col {<br>            display: flex;<br>            flex-direction: column;<br>            flex-basis: 100%;<br>            flex: 1;<br>            padding: 10px;<br>        }<br>    </style><br><div class=\"wandb-row\"><div class=\"wandb-col\"><h3>Run history:</h3><br/><table class=\"wandb\"><tr><td>epoch</td><td>▁▂▃▃▄▅▆▆▇█</td></tr><tr><td>lr</td><td>███████▁▁▁</td></tr><tr><td>teacher_forcing_ratio</td><td>█▇▆▅▄▄▃▂▂▁</td></tr><tr><td>train_acc</td><td>▁▆▇▇▇▇████</td></tr><tr><td>train_loss</td><td>█▃▂▂▂▂▁▁▁▁</td></tr><tr><td>val_acc</td><td>▁▅▅▆▇█▆▇██</td></tr><tr><td>val_loss</td><td>█▄▅▄▁▁▃▂▁▁</td></tr></table><br/></div><div class=\"wandb-col\"><h3>Run summary:</h3><br/><table class=\"wandb\"><tr><td>epoch</td><td>10</td></tr><tr><td>lr</td><td>0.0005</td></tr><tr><td>teacher_forcing_ratio</td><td>0.31512</td></tr><tr><td>train_acc</td><td>0.92204</td></tr><tr><td>train_loss</td><td>0.30361</td></tr><tr><td>val_acc</td><td>0.85545</td></tr><tr><td>val_loss</td><td>0.65685</td></tr></table><br/></div></div>"
      ],
      "text/plain": [
       "<IPython.core.display.HTML object>"
      ]
     },
     "metadata": {},
     "output_type": "display_data"
    },
    {
     "data": {
      "text/html": [
       " View run <strong style=\"color:#cdcd00\">lemon-sweep-15</strong> at: <a href='https://wandb.ai/roohiparveen/DA6401%20ASSIGNMENT%203/runs/sum4agwb' target=\"_blank\">https://wandb.ai/roohiparveen/DA6401%20ASSIGNMENT%203/runs/sum4agwb</a><br> View project at: <a href='https://wandb.ai/roohiparveen/DA6401%20ASSIGNMENT%203' target=\"_blank\">https://wandb.ai/roohiparveen/DA6401%20ASSIGNMENT%203</a><br>Synced 5 W&B file(s), 0 media file(s), 0 artifact file(s) and 0 other file(s)"
      ],
      "text/plain": [
       "<IPython.core.display.HTML object>"
      ]
     },
     "metadata": {},
     "output_type": "display_data"
    },
    {
     "data": {
      "text/html": [
       "Find logs at: <code>./wandb/run-20250520_121821-sum4agwb/logs</code>"
      ],
      "text/plain": [
       "<IPython.core.display.HTML object>"
      ]
     },
     "metadata": {},
     "output_type": "display_data"
    },
    {
     "name": "stderr",
     "output_type": "stream",
     "text": [
      "\u001b[34m\u001b[1mwandb\u001b[0m: Sweep Agent: Waiting for job.\n",
      "\u001b[34m\u001b[1mwandb\u001b[0m: Job received.\n",
      "\u001b[34m\u001b[1mwandb\u001b[0m: Agent Starting Run: 9kssojiq with config:\n",
      "\u001b[34m\u001b[1mwandb\u001b[0m: \tdropout: 0.3\n",
      "\u001b[34m\u001b[1mwandb\u001b[0m: \tembedding_dim: 64\n",
      "\u001b[34m\u001b[1mwandb\u001b[0m: \thidden_dim: 128\n",
      "\u001b[34m\u001b[1mwandb\u001b[0m: \tlearning_rate: 0.001\n",
      "\u001b[34m\u001b[1mwandb\u001b[0m: \tnum_layers: 1\n",
      "\u001b[34m\u001b[1mwandb\u001b[0m: \tteacher_forcing_ratio: 0.5\n"
     ]
    },
    {
     "data": {
      "text/html": [
       "Tracking run with wandb version 0.19.9"
      ],
      "text/plain": [
       "<IPython.core.display.HTML object>"
      ]
     },
     "metadata": {},
     "output_type": "display_data"
    },
    {
     "data": {
      "text/html": [
       "Run data is saved locally in <code>/kaggle/working/wandb/run-20250520_122738-9kssojiq</code>"
      ],
      "text/plain": [
       "<IPython.core.display.HTML object>"
      ]
     },
     "metadata": {},
     "output_type": "display_data"
    },
    {
     "data": {
      "text/html": [
       "Syncing run <strong><a href='https://wandb.ai/roohiparveen/DA6401%20ASSIGNMENT%203/runs/9kssojiq' target=\"_blank\">charmed-sweep-16</a></strong> to <a href='https://wandb.ai/roohiparveen/DA6401%20ASSIGNMENT%203' target=\"_blank\">Weights & Biases</a> (<a href='https://wandb.me/developer-guide' target=\"_blank\">docs</a>)<br>Sweep page: <a href='https://wandb.ai/roohiparveen/DA6401%20ASSIGNMENT%203/sweeps/vdneipdr' target=\"_blank\">https://wandb.ai/roohiparveen/DA6401%20ASSIGNMENT%203/sweeps/vdneipdr</a>"
      ],
      "text/plain": [
       "<IPython.core.display.HTML object>"
      ]
     },
     "metadata": {},
     "output_type": "display_data"
    },
    {
     "data": {
      "text/html": [
       " View project at <a href='https://wandb.ai/roohiparveen/DA6401%20ASSIGNMENT%203' target=\"_blank\">https://wandb.ai/roohiparveen/DA6401%20ASSIGNMENT%203</a>"
      ],
      "text/plain": [
       "<IPython.core.display.HTML object>"
      ]
     },
     "metadata": {},
     "output_type": "display_data"
    },
    {
     "data": {
      "text/html": [
       " View sweep at <a href='https://wandb.ai/roohiparveen/DA6401%20ASSIGNMENT%203/sweeps/vdneipdr' target=\"_blank\">https://wandb.ai/roohiparveen/DA6401%20ASSIGNMENT%203/sweeps/vdneipdr</a>"
      ],
      "text/plain": [
       "<IPython.core.display.HTML object>"
      ]
     },
     "metadata": {},
     "output_type": "display_data"
    },
    {
     "data": {
      "text/html": [
       " View run at <a href='https://wandb.ai/roohiparveen/DA6401%20ASSIGNMENT%203/runs/9kssojiq' target=\"_blank\">https://wandb.ai/roohiparveen/DA6401%20ASSIGNMENT%203/runs/9kssojiq</a>"
      ],
      "text/plain": [
       "<IPython.core.display.HTML object>"
      ]
     },
     "metadata": {},
     "output_type": "display_data"
    },
    {
     "data": {
      "text/html": [],
      "text/plain": [
       "<IPython.core.display.HTML object>"
      ]
     },
     "metadata": {},
     "output_type": "display_data"
    },
    {
     "data": {
      "text/html": [
       "<br>    <style><br>        .wandb-row {<br>            display: flex;<br>            flex-direction: row;<br>            flex-wrap: wrap;<br>            justify-content: flex-start;<br>            width: 100%;<br>        }<br>        .wandb-col {<br>            display: flex;<br>            flex-direction: column;<br>            flex-basis: 100%;<br>            flex: 1;<br>            padding: 10px;<br>        }<br>    </style><br><div class=\"wandb-row\"><div class=\"wandb-col\"><h3>Run history:</h3><br/><table class=\"wandb\"><tr><td>epoch</td><td>▁▂▃▃▄▅▆▆▇█</td></tr><tr><td>lr</td><td>███████▁▁▁</td></tr><tr><td>teacher_forcing_ratio</td><td>█▇▆▅▄▄▃▂▂▁</td></tr><tr><td>train_acc</td><td>▁▆▇▇▇▇████</td></tr><tr><td>train_loss</td><td>█▃▂▂▂▂▁▁▁▁</td></tr><tr><td>val_acc</td><td>▁▄▆▇▇██▇██</td></tr><tr><td>val_loss</td><td>█▄▄▂▃▁▂▃▁▁</td></tr></table><br/></div><div class=\"wandb-col\"><h3>Run summary:</h3><br/><table class=\"wandb\"><tr><td>epoch</td><td>10</td></tr><tr><td>lr</td><td>0.0005</td></tr><tr><td>teacher_forcing_ratio</td><td>0.31512</td></tr><tr><td>train_acc</td><td>0.92193</td></tr><tr><td>train_loss</td><td>0.30319</td></tr><tr><td>val_acc</td><td>0.85478</td></tr><tr><td>val_loss</td><td>0.63805</td></tr></table><br/></div></div>"
      ],
      "text/plain": [
       "<IPython.core.display.HTML object>"
      ]
     },
     "metadata": {},
     "output_type": "display_data"
    },
    {
     "data": {
      "text/html": [
       " View run <strong style=\"color:#cdcd00\">charmed-sweep-16</strong> at: <a href='https://wandb.ai/roohiparveen/DA6401%20ASSIGNMENT%203/runs/9kssojiq' target=\"_blank\">https://wandb.ai/roohiparveen/DA6401%20ASSIGNMENT%203/runs/9kssojiq</a><br> View project at: <a href='https://wandb.ai/roohiparveen/DA6401%20ASSIGNMENT%203' target=\"_blank\">https://wandb.ai/roohiparveen/DA6401%20ASSIGNMENT%203</a><br>Synced 5 W&B file(s), 0 media file(s), 0 artifact file(s) and 0 other file(s)"
      ],
      "text/plain": [
       "<IPython.core.display.HTML object>"
      ]
     },
     "metadata": {},
     "output_type": "display_data"
    },
    {
     "data": {
      "text/html": [
       "Find logs at: <code>./wandb/run-20250520_122738-9kssojiq/logs</code>"
      ],
      "text/plain": [
       "<IPython.core.display.HTML object>"
      ]
     },
     "metadata": {},
     "output_type": "display_data"
    },
    {
     "name": "stderr",
     "output_type": "stream",
     "text": [
      "\u001b[34m\u001b[1mwandb\u001b[0m: Sweep Agent: Waiting for job.\n",
      "\u001b[34m\u001b[1mwandb\u001b[0m: Job received.\n",
      "\u001b[34m\u001b[1mwandb\u001b[0m: Agent Starting Run: e1g6db5f with config:\n",
      "\u001b[34m\u001b[1mwandb\u001b[0m: \tdropout: 0.3\n",
      "\u001b[34m\u001b[1mwandb\u001b[0m: \tembedding_dim: 32\n",
      "\u001b[34m\u001b[1mwandb\u001b[0m: \thidden_dim: 128\n",
      "\u001b[34m\u001b[1mwandb\u001b[0m: \tlearning_rate: 0.001\n",
      "\u001b[34m\u001b[1mwandb\u001b[0m: \tnum_layers: 1\n",
      "\u001b[34m\u001b[1mwandb\u001b[0m: \tteacher_forcing_ratio: 0.5\n"
     ]
    },
    {
     "data": {
      "text/html": [
       "Tracking run with wandb version 0.19.9"
      ],
      "text/plain": [
       "<IPython.core.display.HTML object>"
      ]
     },
     "metadata": {},
     "output_type": "display_data"
    },
    {
     "data": {
      "text/html": [
       "Run data is saved locally in <code>/kaggle/working/wandb/run-20250520_123651-e1g6db5f</code>"
      ],
      "text/plain": [
       "<IPython.core.display.HTML object>"
      ]
     },
     "metadata": {},
     "output_type": "display_data"
    },
    {
     "data": {
      "text/html": [
       "Syncing run <strong><a href='https://wandb.ai/roohiparveen/DA6401%20ASSIGNMENT%203/runs/e1g6db5f' target=\"_blank\">winter-sweep-17</a></strong> to <a href='https://wandb.ai/roohiparveen/DA6401%20ASSIGNMENT%203' target=\"_blank\">Weights & Biases</a> (<a href='https://wandb.me/developer-guide' target=\"_blank\">docs</a>)<br>Sweep page: <a href='https://wandb.ai/roohiparveen/DA6401%20ASSIGNMENT%203/sweeps/vdneipdr' target=\"_blank\">https://wandb.ai/roohiparveen/DA6401%20ASSIGNMENT%203/sweeps/vdneipdr</a>"
      ],
      "text/plain": [
       "<IPython.core.display.HTML object>"
      ]
     },
     "metadata": {},
     "output_type": "display_data"
    },
    {
     "data": {
      "text/html": [
       " View project at <a href='https://wandb.ai/roohiparveen/DA6401%20ASSIGNMENT%203' target=\"_blank\">https://wandb.ai/roohiparveen/DA6401%20ASSIGNMENT%203</a>"
      ],
      "text/plain": [
       "<IPython.core.display.HTML object>"
      ]
     },
     "metadata": {},
     "output_type": "display_data"
    },
    {
     "data": {
      "text/html": [
       " View sweep at <a href='https://wandb.ai/roohiparveen/DA6401%20ASSIGNMENT%203/sweeps/vdneipdr' target=\"_blank\">https://wandb.ai/roohiparveen/DA6401%20ASSIGNMENT%203/sweeps/vdneipdr</a>"
      ],
      "text/plain": [
       "<IPython.core.display.HTML object>"
      ]
     },
     "metadata": {},
     "output_type": "display_data"
    },
    {
     "data": {
      "text/html": [
       " View run at <a href='https://wandb.ai/roohiparveen/DA6401%20ASSIGNMENT%203/runs/e1g6db5f' target=\"_blank\">https://wandb.ai/roohiparveen/DA6401%20ASSIGNMENT%203/runs/e1g6db5f</a>"
      ],
      "text/plain": [
       "<IPython.core.display.HTML object>"
      ]
     },
     "metadata": {},
     "output_type": "display_data"
    },
    {
     "data": {
      "text/html": [],
      "text/plain": [
       "<IPython.core.display.HTML object>"
      ]
     },
     "metadata": {},
     "output_type": "display_data"
    },
    {
     "data": {
      "text/html": [
       "<br>    <style><br>        .wandb-row {<br>            display: flex;<br>            flex-direction: row;<br>            flex-wrap: wrap;<br>            justify-content: flex-start;<br>            width: 100%;<br>        }<br>        .wandb-col {<br>            display: flex;<br>            flex-direction: column;<br>            flex-basis: 100%;<br>            flex: 1;<br>            padding: 10px;<br>        }<br>    </style><br><div class=\"wandb-row\"><div class=\"wandb-col\"><h3>Run history:</h3><br/><table class=\"wandb\"><tr><td>epoch</td><td>▁▂▃▃▄▅▆▆▇█</td></tr><tr><td>lr</td><td>▁▁▁▁▁▁▁▁▁▁</td></tr><tr><td>teacher_forcing_ratio</td><td>█▇▆▅▄▄▃▂▂▁</td></tr><tr><td>train_acc</td><td>▁▇▇▇██████</td></tr><tr><td>train_loss</td><td>█▃▂▂▁▁▁▁▁▁</td></tr><tr><td>val_acc</td><td>▁▄▆▇▇█████</td></tr><tr><td>val_loss</td><td>█▅▃▃▂▂▁▂▁▂</td></tr></table><br/></div><div class=\"wandb-col\"><h3>Run summary:</h3><br/><table class=\"wandb\"><tr><td>epoch</td><td>10</td></tr><tr><td>lr</td><td>0.001</td></tr><tr><td>teacher_forcing_ratio</td><td>0.31512</td></tr><tr><td>train_acc</td><td>0.90869</td></tr><tr><td>train_loss</td><td>0.35265</td></tr><tr><td>val_acc</td><td>0.85721</td></tr><tr><td>val_loss</td><td>0.62925</td></tr></table><br/></div></div>"
      ],
      "text/plain": [
       "<IPython.core.display.HTML object>"
      ]
     },
     "metadata": {},
     "output_type": "display_data"
    },
    {
     "data": {
      "text/html": [
       " View run <strong style=\"color:#cdcd00\">winter-sweep-17</strong> at: <a href='https://wandb.ai/roohiparveen/DA6401%20ASSIGNMENT%203/runs/e1g6db5f' target=\"_blank\">https://wandb.ai/roohiparveen/DA6401%20ASSIGNMENT%203/runs/e1g6db5f</a><br> View project at: <a href='https://wandb.ai/roohiparveen/DA6401%20ASSIGNMENT%203' target=\"_blank\">https://wandb.ai/roohiparveen/DA6401%20ASSIGNMENT%203</a><br>Synced 5 W&B file(s), 0 media file(s), 0 artifact file(s) and 0 other file(s)"
      ],
      "text/plain": [
       "<IPython.core.display.HTML object>"
      ]
     },
     "metadata": {},
     "output_type": "display_data"
    },
    {
     "data": {
      "text/html": [
       "Find logs at: <code>./wandb/run-20250520_123651-e1g6db5f/logs</code>"
      ],
      "text/plain": [
       "<IPython.core.display.HTML object>"
      ]
     },
     "metadata": {},
     "output_type": "display_data"
    },
    {
     "name": "stderr",
     "output_type": "stream",
     "text": [
      "\u001b[34m\u001b[1mwandb\u001b[0m: Agent Starting Run: nuxzghay with config:\n",
      "\u001b[34m\u001b[1mwandb\u001b[0m: \tdropout: 0.3\n",
      "\u001b[34m\u001b[1mwandb\u001b[0m: \tembedding_dim: 32\n",
      "\u001b[34m\u001b[1mwandb\u001b[0m: \thidden_dim: 128\n",
      "\u001b[34m\u001b[1mwandb\u001b[0m: \tlearning_rate: 0.001\n",
      "\u001b[34m\u001b[1mwandb\u001b[0m: \tnum_layers: 1\n",
      "\u001b[34m\u001b[1mwandb\u001b[0m: \tteacher_forcing_ratio: 0.5\n"
     ]
    },
    {
     "data": {
      "text/html": [
       "Tracking run with wandb version 0.19.9"
      ],
      "text/plain": [
       "<IPython.core.display.HTML object>"
      ]
     },
     "metadata": {},
     "output_type": "display_data"
    },
    {
     "data": {
      "text/html": [
       "Run data is saved locally in <code>/kaggle/working/wandb/run-20250520_124601-nuxzghay</code>"
      ],
      "text/plain": [
       "<IPython.core.display.HTML object>"
      ]
     },
     "metadata": {},
     "output_type": "display_data"
    },
    {
     "data": {
      "text/html": [
       "Syncing run <strong><a href='https://wandb.ai/roohiparveen/DA6401%20ASSIGNMENT%203/runs/nuxzghay' target=\"_blank\">laced-sweep-18</a></strong> to <a href='https://wandb.ai/roohiparveen/DA6401%20ASSIGNMENT%203' target=\"_blank\">Weights & Biases</a> (<a href='https://wandb.me/developer-guide' target=\"_blank\">docs</a>)<br>Sweep page: <a href='https://wandb.ai/roohiparveen/DA6401%20ASSIGNMENT%203/sweeps/vdneipdr' target=\"_blank\">https://wandb.ai/roohiparveen/DA6401%20ASSIGNMENT%203/sweeps/vdneipdr</a>"
      ],
      "text/plain": [
       "<IPython.core.display.HTML object>"
      ]
     },
     "metadata": {},
     "output_type": "display_data"
    },
    {
     "data": {
      "text/html": [
       " View project at <a href='https://wandb.ai/roohiparveen/DA6401%20ASSIGNMENT%203' target=\"_blank\">https://wandb.ai/roohiparveen/DA6401%20ASSIGNMENT%203</a>"
      ],
      "text/plain": [
       "<IPython.core.display.HTML object>"
      ]
     },
     "metadata": {},
     "output_type": "display_data"
    },
    {
     "data": {
      "text/html": [
       " View sweep at <a href='https://wandb.ai/roohiparveen/DA6401%20ASSIGNMENT%203/sweeps/vdneipdr' target=\"_blank\">https://wandb.ai/roohiparveen/DA6401%20ASSIGNMENT%203/sweeps/vdneipdr</a>"
      ],
      "text/plain": [
       "<IPython.core.display.HTML object>"
      ]
     },
     "metadata": {},
     "output_type": "display_data"
    },
    {
     "data": {
      "text/html": [
       " View run at <a href='https://wandb.ai/roohiparveen/DA6401%20ASSIGNMENT%203/runs/nuxzghay' target=\"_blank\">https://wandb.ai/roohiparveen/DA6401%20ASSIGNMENT%203/runs/nuxzghay</a>"
      ],
      "text/plain": [
       "<IPython.core.display.HTML object>"
      ]
     },
     "metadata": {},
     "output_type": "display_data"
    },
    {
     "data": {
      "text/html": [],
      "text/plain": [
       "<IPython.core.display.HTML object>"
      ]
     },
     "metadata": {},
     "output_type": "display_data"
    },
    {
     "data": {
      "text/html": [
       "<br>    <style><br>        .wandb-row {<br>            display: flex;<br>            flex-direction: row;<br>            flex-wrap: wrap;<br>            justify-content: flex-start;<br>            width: 100%;<br>        }<br>        .wandb-col {<br>            display: flex;<br>            flex-direction: column;<br>            flex-basis: 100%;<br>            flex: 1;<br>            padding: 10px;<br>        }<br>    </style><br><div class=\"wandb-row\"><div class=\"wandb-col\"><h3>Run history:</h3><br/><table class=\"wandb\"><tr><td>epoch</td><td>▁▂▃▃▄▅▆▆▇█</td></tr><tr><td>lr</td><td>▁▁▁▁▁▁▁▁▁▁</td></tr><tr><td>teacher_forcing_ratio</td><td>█▇▆▅▄▄▃▂▂▁</td></tr><tr><td>train_acc</td><td>▁▇▇▇██████</td></tr><tr><td>train_loss</td><td>█▃▂▂▁▁▁▁▁▁</td></tr><tr><td>val_acc</td><td>▁▃▆▇█▇████</td></tr><tr><td>val_loss</td><td>█▆▄▃▂▂▂▁▁▁</td></tr></table><br/></div><div class=\"wandb-col\"><h3>Run summary:</h3><br/><table class=\"wandb\"><tr><td>epoch</td><td>10</td></tr><tr><td>lr</td><td>0.001</td></tr><tr><td>teacher_forcing_ratio</td><td>0.31512</td></tr><tr><td>train_acc</td><td>0.90833</td></tr><tr><td>train_loss</td><td>0.35188</td></tr><tr><td>val_acc</td><td>0.85184</td></tr><tr><td>val_loss</td><td>0.64795</td></tr></table><br/></div></div>"
      ],
      "text/plain": [
       "<IPython.core.display.HTML object>"
      ]
     },
     "metadata": {},
     "output_type": "display_data"
    },
    {
     "data": {
      "text/html": [
       " View run <strong style=\"color:#cdcd00\">laced-sweep-18</strong> at: <a href='https://wandb.ai/roohiparveen/DA6401%20ASSIGNMENT%203/runs/nuxzghay' target=\"_blank\">https://wandb.ai/roohiparveen/DA6401%20ASSIGNMENT%203/runs/nuxzghay</a><br> View project at: <a href='https://wandb.ai/roohiparveen/DA6401%20ASSIGNMENT%203' target=\"_blank\">https://wandb.ai/roohiparveen/DA6401%20ASSIGNMENT%203</a><br>Synced 5 W&B file(s), 0 media file(s), 0 artifact file(s) and 0 other file(s)"
      ],
      "text/plain": [
       "<IPython.core.display.HTML object>"
      ]
     },
     "metadata": {},
     "output_type": "display_data"
    },
    {
     "data": {
      "text/html": [
       "Find logs at: <code>./wandb/run-20250520_124601-nuxzghay/logs</code>"
      ],
      "text/plain": [
       "<IPython.core.display.HTML object>"
      ]
     },
     "metadata": {},
     "output_type": "display_data"
    },
    {
     "name": "stderr",
     "output_type": "stream",
     "text": [
      "\u001b[34m\u001b[1mwandb\u001b[0m: Agent Starting Run: ucm84k2k with config:\n",
      "\u001b[34m\u001b[1mwandb\u001b[0m: \tdropout: 0.3\n",
      "\u001b[34m\u001b[1mwandb\u001b[0m: \tembedding_dim: 32\n",
      "\u001b[34m\u001b[1mwandb\u001b[0m: \thidden_dim: 128\n",
      "\u001b[34m\u001b[1mwandb\u001b[0m: \tlearning_rate: 0.001\n",
      "\u001b[34m\u001b[1mwandb\u001b[0m: \tnum_layers: 1\n",
      "\u001b[34m\u001b[1mwandb\u001b[0m: \tteacher_forcing_ratio: 0.5\n"
     ]
    },
    {
     "data": {
      "text/html": [
       "Tracking run with wandb version 0.19.9"
      ],
      "text/plain": [
       "<IPython.core.display.HTML object>"
      ]
     },
     "metadata": {},
     "output_type": "display_data"
    },
    {
     "data": {
      "text/html": [
       "Run data is saved locally in <code>/kaggle/working/wandb/run-20250520_125503-ucm84k2k</code>"
      ],
      "text/plain": [
       "<IPython.core.display.HTML object>"
      ]
     },
     "metadata": {},
     "output_type": "display_data"
    },
    {
     "data": {
      "text/html": [
       "Syncing run <strong><a href='https://wandb.ai/roohiparveen/DA6401%20ASSIGNMENT%203/runs/ucm84k2k' target=\"_blank\">dashing-sweep-19</a></strong> to <a href='https://wandb.ai/roohiparveen/DA6401%20ASSIGNMENT%203' target=\"_blank\">Weights & Biases</a> (<a href='https://wandb.me/developer-guide' target=\"_blank\">docs</a>)<br>Sweep page: <a href='https://wandb.ai/roohiparveen/DA6401%20ASSIGNMENT%203/sweeps/vdneipdr' target=\"_blank\">https://wandb.ai/roohiparveen/DA6401%20ASSIGNMENT%203/sweeps/vdneipdr</a>"
      ],
      "text/plain": [
       "<IPython.core.display.HTML object>"
      ]
     },
     "metadata": {},
     "output_type": "display_data"
    },
    {
     "data": {
      "text/html": [
       " View project at <a href='https://wandb.ai/roohiparveen/DA6401%20ASSIGNMENT%203' target=\"_blank\">https://wandb.ai/roohiparveen/DA6401%20ASSIGNMENT%203</a>"
      ],
      "text/plain": [
       "<IPython.core.display.HTML object>"
      ]
     },
     "metadata": {},
     "output_type": "display_data"
    },
    {
     "data": {
      "text/html": [
       " View sweep at <a href='https://wandb.ai/roohiparveen/DA6401%20ASSIGNMENT%203/sweeps/vdneipdr' target=\"_blank\">https://wandb.ai/roohiparveen/DA6401%20ASSIGNMENT%203/sweeps/vdneipdr</a>"
      ],
      "text/plain": [
       "<IPython.core.display.HTML object>"
      ]
     },
     "metadata": {},
     "output_type": "display_data"
    },
    {
     "data": {
      "text/html": [
       " View run at <a href='https://wandb.ai/roohiparveen/DA6401%20ASSIGNMENT%203/runs/ucm84k2k' target=\"_blank\">https://wandb.ai/roohiparveen/DA6401%20ASSIGNMENT%203/runs/ucm84k2k</a>"
      ],
      "text/plain": [
       "<IPython.core.display.HTML object>"
      ]
     },
     "metadata": {},
     "output_type": "display_data"
    },
    {
     "data": {
      "text/html": [],
      "text/plain": [
       "<IPython.core.display.HTML object>"
      ]
     },
     "metadata": {},
     "output_type": "display_data"
    },
    {
     "data": {
      "text/html": [
       "<br>    <style><br>        .wandb-row {<br>            display: flex;<br>            flex-direction: row;<br>            flex-wrap: wrap;<br>            justify-content: flex-start;<br>            width: 100%;<br>        }<br>        .wandb-col {<br>            display: flex;<br>            flex-direction: column;<br>            flex-basis: 100%;<br>            flex: 1;<br>            padding: 10px;<br>        }<br>    </style><br><div class=\"wandb-row\"><div class=\"wandb-col\"><h3>Run history:</h3><br/><table class=\"wandb\"><tr><td>epoch</td><td>▁▂▃▃▄▅▆▆▇█</td></tr><tr><td>lr</td><td>█████████▁</td></tr><tr><td>teacher_forcing_ratio</td><td>█▇▆▅▄▄▃▂▂▁</td></tr><tr><td>train_acc</td><td>▁▇▇▇██████</td></tr><tr><td>train_loss</td><td>█▃▂▂▁▁▁▁▁▁</td></tr><tr><td>val_acc</td><td>▁▅▆▇▇█████</td></tr><tr><td>val_loss</td><td>█▄▃▂▃▂▁▁▁▁</td></tr></table><br/></div><div class=\"wandb-col\"><h3>Run summary:</h3><br/><table class=\"wandb\"><tr><td>epoch</td><td>10</td></tr><tr><td>lr</td><td>0.0005</td></tr><tr><td>teacher_forcing_ratio</td><td>0.31512</td></tr><tr><td>train_acc</td><td>0.90748</td></tr><tr><td>train_loss</td><td>0.35466</td></tr><tr><td>val_acc</td><td>0.85413</td></tr><tr><td>val_loss</td><td>0.64353</td></tr></table><br/></div></div>"
      ],
      "text/plain": [
       "<IPython.core.display.HTML object>"
      ]
     },
     "metadata": {},
     "output_type": "display_data"
    },
    {
     "data": {
      "text/html": [
       " View run <strong style=\"color:#cdcd00\">dashing-sweep-19</strong> at: <a href='https://wandb.ai/roohiparveen/DA6401%20ASSIGNMENT%203/runs/ucm84k2k' target=\"_blank\">https://wandb.ai/roohiparveen/DA6401%20ASSIGNMENT%203/runs/ucm84k2k</a><br> View project at: <a href='https://wandb.ai/roohiparveen/DA6401%20ASSIGNMENT%203' target=\"_blank\">https://wandb.ai/roohiparveen/DA6401%20ASSIGNMENT%203</a><br>Synced 5 W&B file(s), 0 media file(s), 0 artifact file(s) and 0 other file(s)"
      ],
      "text/plain": [
       "<IPython.core.display.HTML object>"
      ]
     },
     "metadata": {},
     "output_type": "display_data"
    },
    {
     "data": {
      "text/html": [
       "Find logs at: <code>./wandb/run-20250520_125503-ucm84k2k/logs</code>"
      ],
      "text/plain": [
       "<IPython.core.display.HTML object>"
      ]
     },
     "metadata": {},
     "output_type": "display_data"
    },
    {
     "name": "stderr",
     "output_type": "stream",
     "text": [
      "\u001b[34m\u001b[1mwandb\u001b[0m: Agent Starting Run: namz22xq with config:\n",
      "\u001b[34m\u001b[1mwandb\u001b[0m: \tdropout: 0.3\n",
      "\u001b[34m\u001b[1mwandb\u001b[0m: \tembedding_dim: 32\n",
      "\u001b[34m\u001b[1mwandb\u001b[0m: \thidden_dim: 128\n",
      "\u001b[34m\u001b[1mwandb\u001b[0m: \tlearning_rate: 0.001\n",
      "\u001b[34m\u001b[1mwandb\u001b[0m: \tnum_layers: 1\n",
      "\u001b[34m\u001b[1mwandb\u001b[0m: \tteacher_forcing_ratio: 0.5\n"
     ]
    },
    {
     "data": {
      "text/html": [
       "Tracking run with wandb version 0.19.9"
      ],
      "text/plain": [
       "<IPython.core.display.HTML object>"
      ]
     },
     "metadata": {},
     "output_type": "display_data"
    },
    {
     "data": {
      "text/html": [
       "Run data is saved locally in <code>/kaggle/working/wandb/run-20250520_130407-namz22xq</code>"
      ],
      "text/plain": [
       "<IPython.core.display.HTML object>"
      ]
     },
     "metadata": {},
     "output_type": "display_data"
    },
    {
     "data": {
      "text/html": [
       "Syncing run <strong><a href='https://wandb.ai/roohiparveen/DA6401%20ASSIGNMENT%203/runs/namz22xq' target=\"_blank\">driven-sweep-20</a></strong> to <a href='https://wandb.ai/roohiparveen/DA6401%20ASSIGNMENT%203' target=\"_blank\">Weights & Biases</a> (<a href='https://wandb.me/developer-guide' target=\"_blank\">docs</a>)<br>Sweep page: <a href='https://wandb.ai/roohiparveen/DA6401%20ASSIGNMENT%203/sweeps/vdneipdr' target=\"_blank\">https://wandb.ai/roohiparveen/DA6401%20ASSIGNMENT%203/sweeps/vdneipdr</a>"
      ],
      "text/plain": [
       "<IPython.core.display.HTML object>"
      ]
     },
     "metadata": {},
     "output_type": "display_data"
    },
    {
     "data": {
      "text/html": [
       " View project at <a href='https://wandb.ai/roohiparveen/DA6401%20ASSIGNMENT%203' target=\"_blank\">https://wandb.ai/roohiparveen/DA6401%20ASSIGNMENT%203</a>"
      ],
      "text/plain": [
       "<IPython.core.display.HTML object>"
      ]
     },
     "metadata": {},
     "output_type": "display_data"
    },
    {
     "data": {
      "text/html": [
       " View sweep at <a href='https://wandb.ai/roohiparveen/DA6401%20ASSIGNMENT%203/sweeps/vdneipdr' target=\"_blank\">https://wandb.ai/roohiparveen/DA6401%20ASSIGNMENT%203/sweeps/vdneipdr</a>"
      ],
      "text/plain": [
       "<IPython.core.display.HTML object>"
      ]
     },
     "metadata": {},
     "output_type": "display_data"
    },
    {
     "data": {
      "text/html": [
       " View run at <a href='https://wandb.ai/roohiparveen/DA6401%20ASSIGNMENT%203/runs/namz22xq' target=\"_blank\">https://wandb.ai/roohiparveen/DA6401%20ASSIGNMENT%203/runs/namz22xq</a>"
      ],
      "text/plain": [
       "<IPython.core.display.HTML object>"
      ]
     },
     "metadata": {},
     "output_type": "display_data"
    },
    {
     "data": {
      "text/html": [],
      "text/plain": [
       "<IPython.core.display.HTML object>"
      ]
     },
     "metadata": {},
     "output_type": "display_data"
    },
    {
     "data": {
      "text/html": [
       "<br>    <style><br>        .wandb-row {<br>            display: flex;<br>            flex-direction: row;<br>            flex-wrap: wrap;<br>            justify-content: flex-start;<br>            width: 100%;<br>        }<br>        .wandb-col {<br>            display: flex;<br>            flex-direction: column;<br>            flex-basis: 100%;<br>            flex: 1;<br>            padding: 10px;<br>        }<br>    </style><br><div class=\"wandb-row\"><div class=\"wandb-col\"><h3>Run history:</h3><br/><table class=\"wandb\"><tr><td>epoch</td><td>▁▂▃▃▄▅▆▆▇█</td></tr><tr><td>lr</td><td>▁▁▁▁▁▁▁▁▁▁</td></tr><tr><td>teacher_forcing_ratio</td><td>█▇▆▅▄▄▃▂▂▁</td></tr><tr><td>train_acc</td><td>▁▇▇▇██████</td></tr><tr><td>train_loss</td><td>█▃▂▂▁▁▁▁▁▁</td></tr><tr><td>val_acc</td><td>▁▅▆▇▇▇████</td></tr><tr><td>val_loss</td><td>█▄▃▂▂▂▂▂▁▁</td></tr></table><br/></div><div class=\"wandb-col\"><h3>Run summary:</h3><br/><table class=\"wandb\"><tr><td>epoch</td><td>10</td></tr><tr><td>lr</td><td>0.001</td></tr><tr><td>teacher_forcing_ratio</td><td>0.31512</td></tr><tr><td>train_acc</td><td>0.90983</td></tr><tr><td>train_loss</td><td>0.34922</td></tr><tr><td>val_acc</td><td>0.8605</td></tr><tr><td>val_loss</td><td>0.61863</td></tr></table><br/></div></div>"
      ],
      "text/plain": [
       "<IPython.core.display.HTML object>"
      ]
     },
     "metadata": {},
     "output_type": "display_data"
    },
    {
     "data": {
      "text/html": [
       " View run <strong style=\"color:#cdcd00\">driven-sweep-20</strong> at: <a href='https://wandb.ai/roohiparveen/DA6401%20ASSIGNMENT%203/runs/namz22xq' target=\"_blank\">https://wandb.ai/roohiparveen/DA6401%20ASSIGNMENT%203/runs/namz22xq</a><br> View project at: <a href='https://wandb.ai/roohiparveen/DA6401%20ASSIGNMENT%203' target=\"_blank\">https://wandb.ai/roohiparveen/DA6401%20ASSIGNMENT%203</a><br>Synced 5 W&B file(s), 0 media file(s), 0 artifact file(s) and 0 other file(s)"
      ],
      "text/plain": [
       "<IPython.core.display.HTML object>"
      ]
     },
     "metadata": {},
     "output_type": "display_data"
    },
    {
     "data": {
      "text/html": [
       "Find logs at: <code>./wandb/run-20250520_130407-namz22xq/logs</code>"
      ],
      "text/plain": [
       "<IPython.core.display.HTML object>"
      ]
     },
     "metadata": {},
     "output_type": "display_data"
    }
   ],
   "source": [
    "sweep_id = wandb.sweep(sweep_config, project=\"DA6401 Assignment 3\")\n",
    "wandb.agent(sweep_id, function=sweep_train, count=20)"
   ]
  },
  {
   "cell_type": "code",
   "execution_count": 11,
   "metadata": {
    "execution": {
     "iopub.execute_input": "2025-05-20T13:23:41.475505Z",
     "iopub.status.busy": "2025-05-20T13:23:41.474891Z",
     "iopub.status.idle": "2025-05-20T13:36:37.836804Z",
     "shell.execute_reply": "2025-05-20T13:36:37.836200Z",
     "shell.execute_reply.started": "2025-05-20T13:23:41.475484Z"
    },
    "trusted": true
   },
   "outputs": [],
   "source": [
    "import os\n",
    "import torch\n",
    "import torch.nn as nn\n",
    "from torch.utils.data import Dataset, DataLoader\n",
    "from collections import Counter, namedtuple\n",
    "import pandas as pd\n",
    "import random\n",
    "from IPython.display import HTML, display\n",
    "import heapq\n",
    "\n",
    "# ---------------------------\n",
    "# Vocab Utilities\n",
    "# ---------------------------\n",
    "def build_vocab_from_data(path, column=0):\n",
    "    counter = Counter()\n",
    "    with open(path, encoding='utf-8') as f:\n",
    "        for line in f:\n",
    "            parts = line.strip().split('\\t')\n",
    "            if len(parts) < 2:\n",
    "                continue\n",
    "            text = parts[column]\n",
    "            counter.update(list(text))\n",
    "    chars = sorted(counter.keys())\n",
    "    vocab = {'<pad>': 0, '<unk>': 1, '<sos>': 2, '<eos>': 3}\n",
    "    for i, char in enumerate(chars, start=4):\n",
    "        vocab[char] = i\n",
    "    return vocab\n",
    "\n",
    "def inverse_vocab(vocab):\n",
    "    return {idx: char for char, idx in vocab.items()}\n",
    "\n",
    "# ---------------------------\n",
    "# Dataset\n",
    "# ---------------------------\n",
    "class TestDataset(Dataset):\n",
    "    def __init__(self, path, input_vocab):\n",
    "        self.data = []\n",
    "        self.words = []\n",
    "        with open(path, encoding='utf-8') as f:\n",
    "            for line in f:\n",
    "                parts = line.strip().split('\\t')\n",
    "                if len(parts) < 2:\n",
    "                    continue\n",
    "                tgt, src = parts[0], parts[1]\n",
    "                self.words.append((src, tgt))\n",
    "                src_ids = [input_vocab['<sos>']] + [input_vocab.get(c, input_vocab['<unk>']) for c in src] + [input_vocab['<eos>']]\n",
    "                self.data.append((src_ids, tgt))\n",
    "\n",
    "    def __len__(self):\n",
    "        return len(self.data)\n",
    "\n",
    "    def __getitem__(self, idx):\n",
    "        return self.data[idx]\n",
    "\n",
    "# ---------------------------\n",
    "# Model Definitions\n",
    "# ---------------------------\n",
    "class Attention(nn.Module):\n",
    "    def __init__(self, enc_hidden_dim, dec_hidden_dim):\n",
    "        super().__init__()\n",
    "        self.attn = nn.Linear(enc_hidden_dim + dec_hidden_dim, dec_hidden_dim)\n",
    "        self.v = nn.Linear(dec_hidden_dim, 1, bias=False)\n",
    "\n",
    "    def forward(self, hidden, encoder_outputs, mask=None):\n",
    "        src_len = encoder_outputs.size(1)\n",
    "        hidden = hidden.unsqueeze(1).repeat(1, src_len, 1)\n",
    "        energy = torch.tanh(self.attn(torch.cat((hidden, encoder_outputs), dim=2)))\n",
    "        attention = self.v(energy).squeeze(2)\n",
    "        return torch.softmax(attention, dim=1)\n",
    "\n",
    "class Encoder(nn.Module):\n",
    "    def __init__(self, input_dim, emb_dim, hidden_dim, num_layers, dropout):\n",
    "        super().__init__()\n",
    "        self.embedding = nn.Embedding(input_dim, emb_dim)\n",
    "        self.rnn = nn.GRU(emb_dim, hidden_dim, num_layers=num_layers, batch_first=True, dropout=dropout if num_layers > 1 else 0)\n",
    "\n",
    "    def forward(self, src):\n",
    "        embedded = self.embedding(src)\n",
    "        outputs, hidden = self.rnn(embedded)\n",
    "        return outputs, hidden[-1]\n",
    "\n",
    "class Decoder(nn.Module):\n",
    "    def __init__(self, output_dim, emb_dim, enc_hidden_dim, dec_hidden_dim, attention, dropout):\n",
    "        super().__init__()\n",
    "        self.output_dim = output_dim\n",
    "        self.embedding = nn.Embedding(output_dim, emb_dim)\n",
    "        self.attention = attention\n",
    "        self.rnn = nn.GRU(enc_hidden_dim + emb_dim, dec_hidden_dim, batch_first=True)\n",
    "        self.fc_out = nn.Linear(enc_hidden_dim + dec_hidden_dim + emb_dim, output_dim)\n",
    "        self.dropout = nn.Dropout(dropout)\n",
    "\n",
    "    def forward(self, input, hidden, encoder_outputs):\n",
    "        input = input.unsqueeze(1)\n",
    "        embedded = self.dropout(self.embedding(input))\n",
    "        a = self.attention(hidden, encoder_outputs)\n",
    "        a = a.unsqueeze(1)\n",
    "        weighted = torch.bmm(a, encoder_outputs)\n",
    "        rnn_input = torch.cat((embedded, weighted), dim=2)\n",
    "        output, hidden = self.rnn(rnn_input, hidden.unsqueeze(0))\n",
    "        output = output.squeeze(1)\n",
    "        weighted = weighted.squeeze(1)\n",
    "        embedded = embedded.squeeze(1)\n",
    "        prediction = self.fc_out(torch.cat((output, weighted, embedded), dim=1))\n",
    "        return prediction, hidden.squeeze(0)\n",
    "\n",
    "class Seq2Seq(nn.Module):\n",
    "    def __init__(self, encoder, decoder):\n",
    "        super().__init__()\n",
    "        self.encoder = encoder\n",
    "        self.decoder = decoder\n",
    "\n",
    "    def forward(self, src, trg, teacher_forcing_ratio=0.5):\n",
    "        batch_size = src.shape[0]\n",
    "        trg_len = trg.shape[1]\n",
    "        trg_vocab_size = self.decoder.output_dim\n",
    "\n",
    "        outputs = torch.zeros(batch_size, trg_len, trg_vocab_size).to(src.device)\n",
    "\n",
    "        encoder_outputs, hidden = self.encoder(src)\n",
    "        input = trg[:, 0]\n",
    "\n",
    "        for t in range(1, trg_len):\n",
    "            output, hidden = self.decoder(input, hidden, encoder_outputs)\n",
    "            outputs[:, t] = output\n",
    "            teacher_force = torch.rand(1).item() < teacher_forcing_ratio\n",
    "            input = trg[:, t] if teacher_force else output.argmax(1)\n",
    "\n",
    "        return outputs\n",
    "\n",
    "# ---------------------------\n",
    "# Beam Search Decoding\n",
    "# ---------------------------\n",
    "Hypothesis = namedtuple('Hypothesis', ['tokens', 'log_prob', 'hidden'])\n",
    "\n",
    "def beam_search_decode(model, src_tensor, output_vocab, inv_output_vocab, beam_width=5, max_len=30):\n",
    "    model.eval()\n",
    "    with torch.no_grad():\n",
    "        encoder_outputs, hidden = model.encoder(src_tensor)\n",
    "\n",
    "        start_token = output_vocab['<sos>']\n",
    "        end_token = output_vocab['<eos>']\n",
    "        beam = [Hypothesis(tokens=[start_token], log_prob=0.0, hidden=hidden)]\n",
    "\n",
    "        completed_hypotheses = []\n",
    "\n",
    "        for _ in range(max_len):\n",
    "            new_beam = []\n",
    "            for hyp in beam:\n",
    "                input_token = torch.tensor([hyp.tokens[-1]]).to(src_tensor.device)\n",
    "                output, new_hidden = model.decoder(input_token, hyp.hidden, encoder_outputs)\n",
    "                log_probs = torch.log_softmax(output, dim=1).squeeze(0)\n",
    "\n",
    "                top_log_probs, top_indices = torch.topk(log_probs, beam_width)\n",
    "                for log_prob, idx in zip(top_log_probs.tolist(), top_indices.tolist()):\n",
    "                    new_tokens = hyp.tokens + [idx]\n",
    "                    new_log_prob = hyp.log_prob + log_prob\n",
    "                    new_hyp = Hypothesis(tokens=new_tokens, log_prob=new_log_prob, hidden=new_hidden)\n",
    "\n",
    "                    if idx == end_token:\n",
    "                        completed_hypotheses.append(new_hyp)\n",
    "                    else:\n",
    "                        new_beam.append(new_hyp)\n",
    "\n",
    "            beam = heapq.nlargest(beam_width, new_beam, key=lambda h: h.log_prob)\n",
    "\n",
    "            if len(beam) == 0:\n",
    "                break\n",
    "\n",
    "        best_hyp = max(completed_hypotheses, key=lambda h: h.log_prob) if completed_hypotheses else beam[0]\n",
    "        pred_ids = best_hyp.tokens[1:]\n",
    "        if end_token in pred_ids:\n",
    "            pred_ids = pred_ids[:pred_ids.index(end_token)]\n",
    "\n",
    "        pred_word = ''.join([inv_output_vocab[i] for i in pred_ids])\n",
    "        return pred_word\n",
    "\n",
    "# ---------------------------\n",
    "# Paths and Vocab building\n",
    "# ---------------------------\n",
    "data_path = \"/kaggle/input/dakshina-dataset/dakshina_dataset_v1.0/ta/lexicons\"\n",
    "train_file = os.path.join(data_path, \"ta.translit.sampled.train.tsv\")\n",
    "test_file = os.path.join(data_path, \"ta.translit.sampled.test.tsv\")\n",
    "\n",
    "input_vocab = build_vocab_from_data(train_file, column=1)\n",
    "output_vocab = build_vocab_from_data(train_file, column=0)\n",
    "inv_output_vocab = inverse_vocab(output_vocab)\n",
    "\n",
    "# ---------------------------\n",
    "# Create Test Dataset\n",
    "# ---------------------------\n",
    "test_dataset = TestDataset(test_file, input_vocab)\n",
    "test_loader = DataLoader(test_dataset, batch_size=1, shuffle=False)\n",
    "\n",
    "# ---------------------------\n",
    "# Load best model\n",
    "# ---------------------------\n",
    "device = torch.device(\"cuda\" if torch.cuda.is_available() else \"cpu\")\n",
    "\n",
    "embedding_dim = 32\n",
    "hidden_dim = 128\n",
    "num_layers = 1\n",
    "dropout = 0.3\n",
    "\n",
    "\n",
    "attention = Attention(hidden_dim, hidden_dim)\n",
    "encoder = Encoder(len(input_vocab), embedding_dim, hidden_dim, num_layers, dropout)\n",
    "decoder = Decoder(len(output_vocab), embedding_dim, hidden_dim, hidden_dim, attention, dropout)\n",
    "model = Seq2Seq(encoder, decoder).to(device)\n",
    "\n",
    "model.load_state_dict(torch.load(\"best_attention_model.pt\", map_location=device))\n",
    "model.eval()\n",
    "\n",
    "# ---------------------------\n",
    "# Predict with Beam Search\n",
    "# ---------------------------\n",
    "predictions = []\n",
    "correct_preds = []\n",
    "beam_width = 5\n",
    "\n",
    "with torch.no_grad():\n",
    "    for i, (src_ids, tgt_word) in enumerate(test_dataset):\n",
    "        src_tensor = torch.tensor([src_ids]).to(device)\n",
    "        pred_word = beam_search_decode(model, src_tensor, output_vocab, inv_output_vocab, beam_width=beam_width)\n",
    "\n",
    "        src_word = test_dataset.words[i][0]\n",
    "        predictions.append((tgt_word, src_word, pred_word))\n",
    "\n",
    "        if pred_word == tgt_word:\n",
    "            correct_preds.append((src_word, pred_word))\n",
    "\n",
    "# Save predictions\n",
    "os.makedirs(\"predictions_attn\", exist_ok=True)\n",
    "df = pd.DataFrame(predictions, columns=[\"target\", \"input\", \"predicted\"])\n",
    "df.to_csv(\"predictions_attn/test_predictions_attention.tsv\", sep='\\t', index=False)\n"
   ]
  },
  {
   "cell_type": "code",
   "execution_count": 12,
   "metadata": {
    "execution": {
     "iopub.execute_input": "2025-05-20T13:39:53.532309Z",
     "iopub.status.busy": "2025-05-20T13:39:53.531564Z",
     "iopub.status.idle": "2025-05-20T13:39:53.538130Z",
     "shell.execute_reply": "2025-05-20T13:39:53.537429Z",
     "shell.execute_reply.started": "2025-05-20T13:39:53.532284Z"
    },
    "trusted": true
   },
   "outputs": [
    {
     "data": {
      "text/html": [
       "<table border='1' style='border-collapse: collapse;'><tr><th>Input</th><th>Predicted (Correct)</th></tr><tr><td style='padding:5px;font-family:monospace'>pirkaalangkalil</td><td style='padding:5px;font-family:monospace'>பிற்காலங்களில்</td></tr><tr><td style='padding:5px;font-family:monospace'>valangkappaduvathu</td><td style='padding:5px;font-family:monospace'>வழங்கப்படுவது</td></tr><tr><td style='padding:5px;font-family:monospace'>matrtravarkalum</td><td style='padding:5px;font-family:monospace'>மற்றவர்களும்</td></tr><tr><td style='padding:5px;font-family:monospace'>naveenaththuvam</td><td style='padding:5px;font-family:monospace'>நவீனத்துவம்</td></tr><tr><td style='padding:5px;font-family:monospace'>thuvangappatta</td><td style='padding:5px;font-family:monospace'>துவங்கப்பட்ட</td></tr><tr><td style='padding:5px;font-family:monospace'>pulavargal</td><td style='padding:5px;font-family:monospace'>புலவர்கள்</td></tr><tr><td style='padding:5px;font-family:monospace'>kattamaikkappatta</td><td style='padding:5px;font-family:monospace'>கட்டமைக்கப்பட்ட</td></tr><tr><td style='padding:5px;font-family:monospace'>thalaimaiyidam</td><td style='padding:5px;font-family:monospace'>தலைமையிடம்</td></tr><tr><td style='padding:5px;font-family:monospace'>cheythavaruku</td><td style='padding:5px;font-family:monospace'>செய்தவருக்கு</td></tr><tr><td style='padding:5px;font-family:monospace'>earpaduthal</td><td style='padding:5px;font-family:monospace'>ஏற்படுதல்</td></tr></table>"
      ],
      "text/plain": [
       "<IPython.core.display.HTML object>"
      ]
     },
     "metadata": {},
     "output_type": "display_data"
    }
   ],
   "source": [
    "# Display sample correct predictions\n",
    "sample_correct = random.sample(correct_preds, min(10, len(correct_preds)))\n",
    "html = \"<table border='1' style='border-collapse: collapse;'><tr><th>Input</th><th>Predicted (Correct)</th></tr>\"\n",
    "for src, pred in sample_correct:\n",
    "    html += f\"<tr><td style='padding:5px;font-family:monospace'>{src}</td><td style='padding:5px;font-family:monospace'>{pred}</td></tr>\"\n",
    "html += \"</table>\"\n",
    "display(HTML(html))"
   ]
  },
  {
   "cell_type": "code",
   "execution_count": 13,
   "metadata": {
    "execution": {
     "iopub.execute_input": "2025-05-20T13:42:00.726329Z",
     "iopub.status.busy": "2025-05-20T13:42:00.725738Z",
     "iopub.status.idle": "2025-05-20T13:42:47.957319Z",
     "shell.execute_reply": "2025-05-20T13:42:47.956461Z",
     "shell.execute_reply.started": "2025-05-20T13:42:00.726301Z"
    },
    "trusted": true
   },
   "outputs": [
    {
     "name": "stdout",
     "output_type": "stream",
     "text": [
      "Test Loss: 3.2515\n",
      "Test Accuracy (char-level): 48.66%\n"
     ]
    }
   ],
   "source": [
    "# ---------------------------\n",
    "# Evaluation: Test Accuracy and Loss\n",
    "# ---------------------------\n",
    "criterion = nn.CrossEntropyLoss(ignore_index=output_vocab['<pad>'])\n",
    "\n",
    "total_loss = 0\n",
    "total_correct = 0\n",
    "total_chars = 0\n",
    "model.eval()\n",
    "\n",
    "with torch.no_grad():\n",
    "    for src_ids, tgt_word in test_dataset:\n",
    "        src_tensor = torch.tensor([src_ids]).to(device)\n",
    "        trg_ids = [output_vocab['<sos>']] + [output_vocab.get(c, output_vocab['<unk>']) for c in tgt_word] + [output_vocab['<eos>']]\n",
    "        trg_tensor = torch.tensor([trg_ids]).to(device)\n",
    "\n",
    "        output = model(src_tensor, trg_tensor, teacher_forcing_ratio=0.0)  # no teacher forcing\n",
    "        output_dim = output.shape[-1]\n",
    "\n",
    "        output = output[:, 1:].reshape(-1, output_dim)  # ignore <sos>\n",
    "        trg = trg_tensor[:, 1:].reshape(-1)             # ignore <sos>\n",
    "\n",
    "        loss = criterion(output, trg)\n",
    "        total_loss += loss.item()\n",
    "\n",
    "        pred_ids = output.argmax(1).tolist()\n",
    "        true_ids = trg.tolist()\n",
    "\n",
    "        for p, t in zip(pred_ids, true_ids):\n",
    "            if t == output_vocab['<pad>']:\n",
    "                continue\n",
    "            if p == t:\n",
    "                total_correct += 1\n",
    "            total_chars += 1\n",
    "\n",
    "# Final metrics\n",
    "avg_loss = total_loss / len(test_dataset)\n",
    "accuracy = total_correct / total_chars * 100\n",
    "\n",
    "print(f\"Test Loss: {avg_loss:.4f}\")\n",
    "print(f\"Test Accuracy (char-level): {accuracy:.2f}%\")\n"
   ]
  },
  {
   "cell_type": "code",
   "execution_count": 14,
   "metadata": {
    "execution": {
     "iopub.execute_input": "2025-05-20T13:44:26.169996Z",
     "iopub.status.busy": "2025-05-20T13:44:26.169435Z",
     "iopub.status.idle": "2025-05-20T13:45:08.108976Z",
     "shell.execute_reply": "2025-05-20T13:45:08.108293Z",
     "shell.execute_reply.started": "2025-05-20T13:44:26.169974Z"
    },
    "trusted": true
   },
   "outputs": [
    {
     "name": "stdout",
     "output_type": "stream",
     "text": [
      "Exact Match Accuracy: 18.33%\n"
     ]
    }
   ],
   "source": [
    "# ---------------------------\n",
    "# Compute Exact Match Accuracy\n",
    "# ---------------------------\n",
    "exact_matches = 0\n",
    "total_samples = len(test_dataset)\n",
    "\n",
    "model.eval()\n",
    "with torch.no_grad():\n",
    "    for i, (src_ids, tgt_word) in enumerate(test_dataset):\n",
    "        src_tensor = torch.tensor([src_ids]).to(device)\n",
    "        encoder_outputs, hidden = model.encoder(src_tensor)\n",
    "\n",
    "        input_token = torch.tensor([output_vocab['<sos>']]).to(device)\n",
    "        generated_ids = []\n",
    "\n",
    "        for _ in range(30):  # max generation length\n",
    "            output, hidden = model.decoder(input_token, hidden, encoder_outputs)\n",
    "            top1 = output.argmax(1).item()\n",
    "            if top1 == output_vocab['<eos>']:\n",
    "                break\n",
    "            generated_ids.append(top1)\n",
    "            input_token = torch.tensor([top1]).to(device)\n",
    "\n",
    "        pred_word = ''.join([inv_output_vocab[i] for i in generated_ids])\n",
    "        tgt_word = test_dataset.words[i][1]  # ground truth\n",
    "\n",
    "        if pred_word == tgt_word:\n",
    "            exact_matches += 1\n",
    "\n",
    "exact_match_accuracy = exact_matches / total_samples * 100\n",
    "print(f\"Exact Match Accuracy: {exact_match_accuracy:.2f}%\")\n"
   ]
  },
  {
   "cell_type": "code",
   "execution_count": 17,
   "metadata": {
    "execution": {
     "iopub.execute_input": "2025-05-20T14:12:00.729399Z",
     "iopub.status.busy": "2025-05-20T14:12:00.729082Z",
     "iopub.status.idle": "2025-05-20T14:12:02.977754Z",
     "shell.execute_reply": "2025-05-20T14:12:02.976956Z",
     "shell.execute_reply.started": "2025-05-20T14:12:00.729379Z"
    },
    "trusted": true
   },
   "outputs": [
    {
     "name": "stderr",
     "output_type": "stream",
     "text": [
      "/tmp/ipykernel_35/1482324413.py:38: UserWarning: Creating a tensor from a list of numpy.ndarrays is extremely slow. Please consider converting the list to a single numpy.ndarray with numpy.array() before converting to a tensor. (Triggered internally at /pytorch/torch/csrc/utils/tensor_new.cpp:254.)\n",
      "  attn_matrix = torch.tensor(attention_weights[:len(output_chars)])  # shape: [tgt_len, src_len]\n",
      "/tmp/ipykernel_35/1482324413.py:41: UserWarning: FixedFormatter should only be used together with FixedLocator\n",
      "  ax.set_xticklabels([''] + input_chars, rotation=90)\n",
      "/tmp/ipykernel_35/1482324413.py:42: UserWarning: FixedFormatter should only be used together with FixedLocator\n",
      "  ax.set_yticklabels([''] + output_chars)\n",
      "/tmp/ipykernel_35/1482324413.py:59: UserWarning: Glyph 2959 (\\N{TAMIL LETTER EE}) missing from current font.\n",
      "  plt.tight_layout()\n",
      "/tmp/ipykernel_35/1482324413.py:59: UserWarning: Matplotlib currently does not support Tamil natively.\n",
      "  plt.tight_layout()\n",
      "/tmp/ipykernel_35/1482324413.py:59: UserWarning: Glyph 2993 (\\N{TAMIL LETTER RRA}) missing from current font.\n",
      "  plt.tight_layout()\n",
      "/tmp/ipykernel_35/1482324413.py:59: UserWarning: Glyph 3009 (\\N{TAMIL VOWEL SIGN U}) missing from current font.\n",
      "  plt.tight_layout()\n",
      "/tmp/ipykernel_35/1482324413.py:59: UserWarning: Glyph 2990 (\\N{TAMIL LETTER MA}) missing from current font.\n",
      "  plt.tight_layout()\n",
      "/tmp/ipykernel_35/1482324413.py:59: UserWarning: Glyph 3016 (\\N{TAMIL VOWEL SIGN AI}) missing from current font.\n",
      "  plt.tight_layout()\n",
      "/tmp/ipykernel_35/1482324413.py:59: UserWarning: Glyph 2991 (\\N{TAMIL LETTER YA}) missing from current font.\n",
      "  plt.tight_layout()\n",
      "/tmp/ipykernel_35/1482324413.py:59: UserWarning: Glyph 3006 (\\N{TAMIL VOWEL SIGN AA}) missing from current font.\n",
      "  plt.tight_layout()\n",
      "/tmp/ipykernel_35/1482324413.py:59: UserWarning: Glyph 2965 (\\N{TAMIL LETTER KA}) missing from current font.\n",
      "  plt.tight_layout()\n",
      "/tmp/ipykernel_35/1482324413.py:59: UserWarning: Glyph 2992 (\\N{TAMIL LETTER RA}) missing from current font.\n",
      "  plt.tight_layout()\n",
      "/tmp/ipykernel_35/1482324413.py:59: UserWarning: Glyph 3015 (\\N{TAMIL VOWEL SIGN EE}) missing from current font.\n",
      "  plt.tight_layout()\n",
      "/tmp/ipykernel_35/1482324413.py:59: UserWarning: Glyph 2985 (\\N{TAMIL LETTER NNNA}) missing from current font.\n",
      "  plt.tight_layout()\n",
      "/tmp/ipykernel_35/1482324413.py:59: UserWarning: Glyph 3021 (\\N{TAMIL SIGN VIRAMA}) missing from current font.\n",
      "  plt.tight_layout()\n",
      "/tmp/ipykernel_35/1482324413.py:59: UserWarning: Glyph 2970 (\\N{TAMIL LETTER CA}) missing from current font.\n",
      "  plt.tight_layout()\n",
      "/tmp/ipykernel_35/1482324413.py:59: UserWarning: Glyph 2980 (\\N{TAMIL LETTER TA}) missing from current font.\n",
      "  plt.tight_layout()\n",
      "/tmp/ipykernel_35/1482324413.py:59: UserWarning: Glyph 3007 (\\N{TAMIL VOWEL SIGN I}) missing from current font.\n",
      "  plt.tight_layout()\n",
      "/tmp/ipykernel_35/1482324413.py:59: UserWarning: Glyph 2995 (\\N{TAMIL LETTER LLA}) missing from current font.\n",
      "  plt.tight_layout()\n",
      "/tmp/ipykernel_35/1482324413.py:59: UserWarning: Glyph 2994 (\\N{TAMIL LETTER LA}) missing from current font.\n",
      "  plt.tight_layout()\n",
      "/tmp/ipykernel_35/1482324413.py:59: UserWarning: Glyph 2975 (\\N{TAMIL LETTER TTA}) missing from current font.\n",
      "  plt.tight_layout()\n",
      "/tmp/ipykernel_35/1482324413.py:59: UserWarning: Glyph 2997 (\\N{TAMIL LETTER VA}) missing from current font.\n",
      "  plt.tight_layout()\n",
      "/usr/local/lib/python3.11/dist-packages/IPython/core/pylabtools.py:151: UserWarning: Glyph 2959 (\\N{TAMIL LETTER EE}) missing from current font.\n",
      "  fig.canvas.print_figure(bytes_io, **kw)\n",
      "/usr/local/lib/python3.11/dist-packages/IPython/core/pylabtools.py:151: UserWarning: Matplotlib currently does not support Tamil natively.\n",
      "  fig.canvas.print_figure(bytes_io, **kw)\n",
      "/usr/local/lib/python3.11/dist-packages/IPython/core/pylabtools.py:151: UserWarning: Glyph 2993 (\\N{TAMIL LETTER RRA}) missing from current font.\n",
      "  fig.canvas.print_figure(bytes_io, **kw)\n",
      "/usr/local/lib/python3.11/dist-packages/IPython/core/pylabtools.py:151: UserWarning: Glyph 3009 (\\N{TAMIL VOWEL SIGN U}) missing from current font.\n",
      "  fig.canvas.print_figure(bytes_io, **kw)\n",
      "/usr/local/lib/python3.11/dist-packages/IPython/core/pylabtools.py:151: UserWarning: Glyph 2990 (\\N{TAMIL LETTER MA}) missing from current font.\n",
      "  fig.canvas.print_figure(bytes_io, **kw)\n",
      "/usr/local/lib/python3.11/dist-packages/IPython/core/pylabtools.py:151: UserWarning: Glyph 3016 (\\N{TAMIL VOWEL SIGN AI}) missing from current font.\n",
      "  fig.canvas.print_figure(bytes_io, **kw)\n",
      "/usr/local/lib/python3.11/dist-packages/IPython/core/pylabtools.py:151: UserWarning: Glyph 2991 (\\N{TAMIL LETTER YA}) missing from current font.\n",
      "  fig.canvas.print_figure(bytes_io, **kw)\n",
      "/usr/local/lib/python3.11/dist-packages/IPython/core/pylabtools.py:151: UserWarning: Glyph 3006 (\\N{TAMIL VOWEL SIGN AA}) missing from current font.\n",
      "  fig.canvas.print_figure(bytes_io, **kw)\n",
      "/usr/local/lib/python3.11/dist-packages/IPython/core/pylabtools.py:151: UserWarning: Glyph 2965 (\\N{TAMIL LETTER KA}) missing from current font.\n",
      "  fig.canvas.print_figure(bytes_io, **kw)\n",
      "/usr/local/lib/python3.11/dist-packages/IPython/core/pylabtools.py:151: UserWarning: Glyph 2992 (\\N{TAMIL LETTER RA}) missing from current font.\n",
      "  fig.canvas.print_figure(bytes_io, **kw)\n",
      "/usr/local/lib/python3.11/dist-packages/IPython/core/pylabtools.py:151: UserWarning: Glyph 3015 (\\N{TAMIL VOWEL SIGN EE}) missing from current font.\n",
      "  fig.canvas.print_figure(bytes_io, **kw)\n",
      "/usr/local/lib/python3.11/dist-packages/IPython/core/pylabtools.py:151: UserWarning: Glyph 2985 (\\N{TAMIL LETTER NNNA}) missing from current font.\n",
      "  fig.canvas.print_figure(bytes_io, **kw)\n",
      "/usr/local/lib/python3.11/dist-packages/IPython/core/pylabtools.py:151: UserWarning: Glyph 3021 (\\N{TAMIL SIGN VIRAMA}) missing from current font.\n",
      "  fig.canvas.print_figure(bytes_io, **kw)\n",
      "/usr/local/lib/python3.11/dist-packages/IPython/core/pylabtools.py:151: UserWarning: Glyph 2970 (\\N{TAMIL LETTER CA}) missing from current font.\n",
      "  fig.canvas.print_figure(bytes_io, **kw)\n",
      "/usr/local/lib/python3.11/dist-packages/IPython/core/pylabtools.py:151: UserWarning: Glyph 2980 (\\N{TAMIL LETTER TA}) missing from current font.\n",
      "  fig.canvas.print_figure(bytes_io, **kw)\n",
      "/usr/local/lib/python3.11/dist-packages/IPython/core/pylabtools.py:151: UserWarning: Glyph 3007 (\\N{TAMIL VOWEL SIGN I}) missing from current font.\n",
      "  fig.canvas.print_figure(bytes_io, **kw)\n",
      "/usr/local/lib/python3.11/dist-packages/IPython/core/pylabtools.py:151: UserWarning: Glyph 2995 (\\N{TAMIL LETTER LLA}) missing from current font.\n",
      "  fig.canvas.print_figure(bytes_io, **kw)\n",
      "/usr/local/lib/python3.11/dist-packages/IPython/core/pylabtools.py:151: UserWarning: Glyph 2994 (\\N{TAMIL LETTER LA}) missing from current font.\n",
      "  fig.canvas.print_figure(bytes_io, **kw)\n",
      "/usr/local/lib/python3.11/dist-packages/IPython/core/pylabtools.py:151: UserWarning: Glyph 2975 (\\N{TAMIL LETTER TTA}) missing from current font.\n",
      "  fig.canvas.print_figure(bytes_io, **kw)\n",
      "/usr/local/lib/python3.11/dist-packages/IPython/core/pylabtools.py:151: UserWarning: Glyph 2997 (\\N{TAMIL LETTER VA}) missing from current font.\n",
      "  fig.canvas.print_figure(bytes_io, **kw)\n"
     ]
    },
    {
     "data": {
      "image/png": "[encoded data removed]",
      "text/plain": [
       "<Figure size 1500x1500 with 9 Axes>"
      ]
     },
     "metadata": {},
     "output_type": "display_data"
    }
   ],
   "source": [
    "import matplotlib.pyplot as plt\n",
    "import matplotlib.ticker as ticker\n",
    "import random\n",
    "import torch\n",
    "\n",
    "# Ensure model is in eval mode\n",
    "model.eval()\n",
    "\n",
    "def get_attention_without_model_change(src_ids):\n",
    "    src_tensor = torch.tensor([src_ids]).to(device)\n",
    "    encoder_outputs, hidden = model.encoder(src_tensor)\n",
    "    input_token = torch.tensor([output_vocab['<sos>']]).to(device)\n",
    "\n",
    "    generated_ids = []\n",
    "    attention_weights = []\n",
    "\n",
    "    for _ in range(30):  # max output length\n",
    "        output, hidden = model.decoder(input_token, hidden, encoder_outputs)\n",
    "\n",
    "        # Recompute attention manually\n",
    "        attn = model.decoder.attention(hidden, encoder_outputs)  # shape: [1, src_len]\n",
    "        attention_weights.append(attn.squeeze(0).detach().cpu().numpy())  # ✅ FIXED LINE\n",
    "\n",
    "        top1 = output.argmax(1).item()\n",
    "        if top1 == output_vocab['<eos>']:\n",
    "            break\n",
    "\n",
    "        generated_ids.append(top1)\n",
    "        input_token = torch.tensor([top1]).to(device)\n",
    "\n",
    "    return generated_ids, attention_weights\n",
    "\n",
    "# Plot a single heatmap\n",
    "def plot_single_attention(src_ids, output_ids, attention_weights, ax, title=\"\"):\n",
    "    input_chars = [inv_input_vocab[i] for i in src_ids]\n",
    "    output_chars = [inv_output_vocab[i] for i in output_ids]\n",
    "\n",
    "    attn_matrix = torch.tensor(attention_weights[:len(output_chars)])  # shape: [tgt_len, src_len]\n",
    "\n",
    "    cax = ax.matshow(attn_matrix.numpy(), cmap='viridis')\n",
    "    ax.set_xticklabels([''] + input_chars, rotation=90)\n",
    "    ax.set_yticklabels([''] + output_chars)\n",
    "    ax.set_title(title, fontsize=10)\n",
    "    ax.xaxis.set_major_locator(ticker.MultipleLocator(1))\n",
    "    ax.yaxis.set_major_locator(ticker.MultipleLocator(1))\n",
    "\n",
    "# Pick 9 random samples from test data\n",
    "sample_indices = random.sample(range(len(test_dataset)), 9)\n",
    "\n",
    "fig, axes = plt.subplots(3, 3, figsize=(15, 15))\n",
    "\n",
    "for idx, sample_idx in enumerate(sample_indices):\n",
    "    src_ids, tgt_word = test_dataset[sample_idx]\n",
    "    output_ids, attn_weights = get_attention_without_model_change(src_ids)\n",
    "\n",
    "    ax = axes[idx // 3, idx % 3]\n",
    "    plot_single_attention(src_ids, output_ids, attn_weights, ax, title=f\"Example {idx+1}\")\n",
    "\n",
    "plt.tight_layout()\n",
    "plt.show()\n"
   ]
  },
  {
   "cell_type": "code",
   "execution_count": 18,
   "metadata": {
    "execution": {
     "iopub.execute_input": "2025-05-20T14:19:45.041964Z",
     "iopub.status.busy": "2025-05-20T14:19:45.041238Z",
     "iopub.status.idle": "2025-05-20T14:19:45.254437Z",
     "shell.execute_reply": "2025-05-20T14:19:45.253693Z",
     "shell.execute_reply.started": "2025-05-20T14:19:45.041941Z"
    },
    "trusted": true
   },
   "outputs": [
    {
     "name": "stderr",
     "output_type": "stream",
     "text": [
      "/tmp/ipykernel_35/2885363866.py:19: UserWarning: Glyph 2990 (\\N{TAMIL LETTER MA}) missing from current font.\n",
      "  plt.tight_layout()\n",
      "/tmp/ipykernel_35/2885363866.py:19: UserWarning: Matplotlib currently does not support Tamil natively.\n",
      "  plt.tight_layout()\n",
      "/tmp/ipykernel_35/2885363866.py:19: UserWarning: Glyph 3021 (\\N{TAMIL SIGN VIRAMA}) missing from current font.\n",
      "  plt.tight_layout()\n"
     ]
    },
    {
     "data": {
      "image/png": "[encoded data removed]",
      "text/plain": [
       "<Figure size 800x600 with 2 Axes>"
      ]
     },
     "metadata": {},
     "output_type": "display_data"
    }
   ],
   "source": [
    "import matplotlib.pyplot as plt\n",
    "import matplotlib.ticker as ticker\n",
    "\n",
    "def plot_connectivity(src_ids, output_ids, attention_weights):\n",
    "    input_chars = [inv_input_vocab[i] for i in src_ids]\n",
    "    output_chars = [inv_output_vocab[i] for i in output_ids]\n",
    "\n",
    "    attn_matrix = torch.tensor(attention_weights[:len(output_chars)])  # shape: [output_len, input_len]\n",
    "\n",
    "    plt.figure(figsize=(8, 6))\n",
    "    plt.imshow(attn_matrix, interpolation='nearest', cmap='viridis')\n",
    "    plt.colorbar(label='Attention weight')\n",
    "\n",
    "    plt.xticks(ticks=range(len(input_chars)), labels=input_chars, rotation=90)\n",
    "    plt.yticks(ticks=range(len(output_chars)), labels=output_chars)\n",
    "    plt.xlabel(\"Input characters\")\n",
    "    plt.ylabel(\"Output characters\")\n",
    "    plt.title(\"Attention Connectivity: Which input character the model looks at for each output character\")\n",
    "    plt.tight_layout()\n",
    "    plt.show()\n",
    "\n",
    "# Example usage for a single test example\n",
    "sample_idx = 0\n",
    "src_ids, tgt_word = test_dataset[sample_idx]\n",
    "output_ids, attn_weights = get_attention_without_model_change(src_ids)\n",
    "plot_connectivity(src_ids, output_ids, attn_weights)\n"
   ]
  },
  {
   "cell_type": "code",
   "execution_count": null,
   "metadata": {
    "trusted": true
   },
   "outputs": [],
   "source": []
  }
 ],
 "metadata": {
  "kaggle": {
   "accelerator": "nvidiaTeslaT4",
   "dataSources": [
    {
     "datasetId": 7467933,
     "sourceId": 11882326,
     "sourceType": "datasetVersion"
    }
   ],
   "dockerImageVersionId": 31041,
   "isGpuEnabled": true,
   "isInternetEnabled": true,
   "language": "python",
   "sourceType": "notebook"
  },
  "kernelspec": {
   "display_name": "Python 3",
   "language": "python",
   "name": "python3"
  },
  "language_info": {
   "codemirror_mode": {
    "name": "ipython",
    "version": 3
   },
   "file_extension": ".py",
   "mimetype": "text/x-python",
   "name": "python",
   "nbconvert_exporter": "python",
   "pygments_lexer": "ipython3",
   "version": "3.11.11"
  }
 },
 "nbformat": 4,
 "nbformat_minor": 4
}
