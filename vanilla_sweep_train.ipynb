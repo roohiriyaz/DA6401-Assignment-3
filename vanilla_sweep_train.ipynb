{
 "cells": [
  {
   "cell_type": "code",
   "execution_count": 4,
   "metadata": {
    "execution": {
     "iopub.execute_input": "2025-05-20T11:35:16.453843Z",
     "iopub.status.busy": "2025-05-20T11:35:16.453300Z",
     "iopub.status.idle": "2025-05-20T11:35:16.830556Z",
     "shell.execute_reply": "2025-05-20T11:35:16.830023Z",
     "shell.execute_reply.started": "2025-05-20T11:35:16.453820Z"
    },
    "trusted": true
   },
   "outputs": [
    {
     "name": "stderr",
     "output_type": "stream",
     "text": [
      "\u001b[34m\u001b[1mwandb\u001b[0m: \u001b[33mWARNING\u001b[0m If you're specifying your api key in code, ensure this code is not shared publicly.\n",
      "\u001b[34m\u001b[1mwandb\u001b[0m: \u001b[33mWARNING\u001b[0m Consider setting the WANDB_API_KEY environment variable, or running `wandb login` from the command line.\n",
      "\u001b[34m\u001b[1mwandb\u001b[0m: No netrc file found, creating one.\n",
      "\u001b[34m\u001b[1mwandb\u001b[0m: Appending key for api.wandb.ai to your netrc file: /root/.netrc\n",
      "\u001b[34m\u001b[1mwandb\u001b[0m: Currently logged in as: \u001b[33mroohmr1011\u001b[0m (\u001b[33mroohiparveen\u001b[0m) to \u001b[32mhttps://api.wandb.ai\u001b[0m. Use \u001b[1m`wandb login --relogin`\u001b[0m to force relogin\n"
     ]
    },
    {
     "data": {
      "text/plain": [
       "True"
      ]
     },
     "execution_count": 4,
     "metadata": {},
     "output_type": "execute_result"
    }
   ],
   "source": [
    "import os\n",
    "import random\n",
    "import torch\n",
    "import torch.nn as nn\n",
    "import torch.optim as optim\n",
    "from torch.utils.data import Dataset, DataLoader\n",
    "import wandb\n",
    "wandb.login(key=\"8b9afebd4705d9e357dd7b2fa957f97e19705bf1\")"
   ]
  },
  {
   "cell_type": "code",
   "execution_count": 5,
   "metadata": {
    "execution": {
     "iopub.execute_input": "2025-05-20T11:35:20.416113Z",
     "iopub.status.busy": "2025-05-20T11:35:20.415813Z",
     "iopub.status.idle": "2025-05-20T11:35:20.419714Z",
     "shell.execute_reply": "2025-05-20T11:35:20.419029Z",
     "shell.execute_reply.started": "2025-05-20T11:35:20.416091Z"
    },
    "trusted": true
   },
   "outputs": [],
   "source": [
    "from collections import Counter\n",
    "from tqdm import tqdm"
   ]
  },
  {
   "cell_type": "code",
   "execution_count": 19,
   "metadata": {
    "execution": {
     "iopub.execute_input": "2025-05-20T11:55:21.942161Z",
     "iopub.status.busy": "2025-05-20T11:55:21.941529Z",
     "iopub.status.idle": "2025-05-20T11:55:23.824543Z",
     "shell.execute_reply": "2025-05-20T11:55:23.823825Z",
     "shell.execute_reply.started": "2025-05-20T11:55:21.942130Z"
    },
    "trusted": true
   },
   "outputs": [],
   "source": [
    "# ---------------------------\n",
    "# Vocabulary Builder (no torchtext)\n",
    "# ---------------------------\n",
    "def build_vocab_from_data(path, column=0):\n",
    "    counter = Counter()\n",
    "    with open(path, encoding='utf-8') as f:\n",
    "        for line in f:\n",
    "            parts = line.strip().split('\\t')\n",
    "            if len(parts) < 2:\n",
    "                continue\n",
    "            text = parts[column]\n",
    "            counter.update(list(text))\n",
    "\n",
    "    chars = sorted(counter.keys())\n",
    "    vocab = {'<pad>': 0, '<unk>': 1, '<sos>': 2, '<eos>': 3}\n",
    "    for i, char in enumerate(chars, start=4):\n",
    "        vocab[char] = i\n",
    "    return vocab\n",
    "\n",
    "def inverse_vocab(vocab):\n",
    "    return {idx: char for char, idx in vocab.items()}\n",
    "\n",
    "# ---------------------------\n",
    "# Dataset & Collate Function\n",
    "# ---------------------------\n",
    "class TransliterationDataset(Dataset):\n",
    "    def __init__(self, path, input_vocab, output_vocab):\n",
    "        self.data = []\n",
    "        with open(path, encoding='utf-8') as f:\n",
    "            for line in f:\n",
    "                parts = line.strip().split('\\t')\n",
    "                if len(parts) < 2:\n",
    "                    continue\n",
    "                target, latin = parts[0], parts[1]\n",
    "                src_ids = [input_vocab['<sos>']] + [input_vocab.get(c, input_vocab['<unk>']) for c in latin] + [input_vocab['<eos>']]\n",
    "                tgt_ids = [output_vocab['<sos>']] + [output_vocab.get(c, output_vocab['<unk>']) for c in target] + [output_vocab['<eos>']]\n",
    "                self.data.append((torch.tensor(src_ids, dtype=torch.long), torch.tensor(tgt_ids, dtype=torch.long)))\n",
    "\n",
    "\n",
    "    def __len__(self):\n",
    "        return len(self.data)\n",
    "\n",
    "    def __getitem__(self, idx):\n",
    "        return self.data[idx]\n",
    "    \n",
    "    def pad_collate_fn(batch, pad_idx_input, pad_idx_output):\n",
    "        src_batch, trg_batch = zip(*batch)\n",
    "        src_lens = [len(seq) for seq in src_batch]\n",
    "        trg_lens = [len(seq) for seq in trg_batch]\n",
    "        max_src_len, max_trg_len = max(src_lens), max(trg_lens)\n",
    "    \n",
    "        pad_src = [torch.cat([seq, torch.full((max_src_len - len(seq),), pad_idx_input, dtype=torch.long)]) for seq in src_batch]\n",
    "        pad_trg = [torch.cat([seq, torch.full((max_trg_len - len(seq),), pad_idx_output, dtype=torch.long)]) for seq in trg_batch]\n",
    "\n",
    "        return torch.stack(pad_src), torch.stack(pad_trg)\n",
    "\n",
    "# Setup Paths and Build Vocab\n",
    "# ---------------------------\n",
    "data_path = \"/kaggle/input/dakshina-dataset/dakshina_dataset_v1.0/ta/lexicons\"\n",
    "train_file = os.path.join(data_path, \"/kaggle/input/dakshina-dataset/dakshina_dataset_v1.0/ta/lexicons/ta.translit.sampled.train.tsv\")\n",
    "dev_file = os.path.join(data_path, \"/kaggle/input/dakshina-dataset/dakshina_dataset_v1.0/ta/lexicons/ta.translit.sampled.dev.tsv\")\n",
    "\n",
    "input_vocab = build_vocab_from_data(train_file, column=1)   # Latin script\n",
    "output_vocab = build_vocab_from_data(train_file, column=0)  # Native script\n",
    "\n",
    "inv_input_vocab = inverse_vocab(input_vocab)\n",
    "inv_output_vocab = inverse_vocab(output_vocab)\n",
    "\n",
    "PAD_IDX = output_vocab['<pad>']\n",
    "\n",
    "# ---------------------------\n",
    "# Create Datasets and Loaders\n",
    "# ---------------------------\n",
    "train_dataset = TransliterationDataset(train_file, input_vocab, output_vocab)\n",
    "val_dataset = TransliterationDataset(dev_file, input_vocab, output_vocab)\n",
    "\n",
    "PAD_IDX_INPUT = input_vocab['<pad>']\n",
    "PAD_IDX_OUTPUT = output_vocab['<pad>']\n",
    "\n",
    "train_loader = DataLoader(train_dataset, batch_size=32, shuffle=True,\n",
    "                          collate_fn=lambda batch: pad_collate_fn(batch, PAD_IDX_INPUT, PAD_IDX_OUTPUT))\n",
    "\n",
    "val_loader = DataLoader(val_dataset, batch_size=32, shuffle=False,\n",
    "                        collate_fn=lambda batch: pad_collate_fn(batch, PAD_IDX_INPUT, PAD_IDX_OUTPUT))\n",
    "\n",
    "# -------------------------------\n",
    "# Encoder & Decoder\n",
    "# -------------------------------\n",
    "class Encoder(nn.Module):\n",
    "    def __init__(self, input_dim, emb_dim, hidden_dim, num_layers, cell_type='LSTM', dropout=0.0):\n",
    "        super().__init__()\n",
    "        self.embedding = nn.Embedding(input_dim, emb_dim)\n",
    "        self.cell_type = cell_type.upper()\n",
    "        rnn_class = {'RNN': nn.RNN, 'GRU': nn.GRU, 'LSTM': nn.LSTM}[self.cell_type]\n",
    "        self.rnn = rnn_class(emb_dim, hidden_dim, num_layers=num_layers,\n",
    "                             dropout=dropout if num_layers > 1 else 0.0, batch_first=True)\n",
    "\n",
    "    def forward(self, src, lengths):\n",
    "        embedded = self.embedding(src)\n",
    "        packed = nn.utils.rnn.pack_padded_sequence(embedded, lengths.cpu(), batch_first=True, enforce_sorted=False)\n",
    "        outputs, hidden = self.rnn(packed)\n",
    "        return hidden\n",
    "\n",
    "class Decoder(nn.Module):\n",
    "    def __init__(self, output_dim, emb_dim, hidden_dim, num_layers, cell_type='LSTM', dropout=0.0):\n",
    "        super().__init__()\n",
    "        self.embedding = nn.Embedding(output_dim, emb_dim)\n",
    "        self.cell_type = cell_type.upper()\n",
    "        rnn_class = {'RNN': nn.RNN, 'GRU': nn.GRU, 'LSTM': nn.LSTM}[self.cell_type]\n",
    "        self.rnn = rnn_class(emb_dim, hidden_dim, num_layers=num_layers,\n",
    "                             dropout=dropout if num_layers > 1 else 0.0, batch_first=True)\n",
    "        self.fc_out = nn.Linear(hidden_dim, output_dim)\n",
    "        \n",
    "        # Weight tying if dimensions match\n",
    "        if emb_dim == hidden_dim:\n",
    "            self.fc_out.weight = self.embedding.weight\n",
    "\n",
    "    def forward(self, input, hidden):\n",
    "        input = input.unsqueeze(1)\n",
    "        embedded = self.embedding(input)\n",
    "        output, hidden = self.rnn(embedded, hidden)\n",
    "        prediction = self.fc_out(output.squeeze(1))\n",
    "        return prediction, hidden\n",
    "\n",
    "class Seq2Seq(nn.Module):\n",
    "    def __init__(self, encoder, decoder, device):\n",
    "        super().__init__()\n",
    "        self.encoder = encoder\n",
    "        self.decoder = decoder\n",
    "        self.device = device\n",
    "\n",
    "    def forward(self, src, src_lengths, tgt, teacher_forcing_ratio=0.5):\n",
    "        batch_size, tgt_len = tgt.shape\n",
    "        tgt_vocab_size = self.decoder.embedding.num_embeddings\n",
    "        outputs = torch.zeros(batch_size, tgt_len, tgt_vocab_size).to(self.device)\n",
    "        hidden = self.encoder(src, src_lengths)\n",
    "        input = tgt[:, 0]\n",
    "\n",
    "        for t in range(1, tgt_len):\n",
    "            output, hidden = self.decoder(input, hidden)\n",
    "            outputs[:, t] = output\n",
    "            teacher_force = random.random() < teacher_forcing_ratio\n",
    "            input = tgt[:, t] if teacher_force else output.argmax(1)\n",
    "\n",
    "        return outputs\n",
    "\n",
    "class LabelSmoothingCrossEntropy(nn.Module):\n",
    "    def __init__(self, smoothing=0.1):\n",
    "        super().__init__()\n",
    "        self.smoothing = smoothing\n",
    "\n",
    "    def forward(self, pred, target):\n",
    "        confidence = 1.0 - self.smoothing\n",
    "        log_probs = F.log_softmax(pred, dim=-1)\n",
    "        nll_loss = -log_probs.gather(dim=-1, index=target.unsqueeze(1)).squeeze(1)\n",
    "        smooth_loss = -log_probs.mean(dim=-1)\n",
    "        loss = confidence * nll_loss + self.smoothing * smooth_loss\n",
    "        return loss.mean()\n",
    "\n",
    "\n",
    "# -------------------------------\n",
    "# W&B Sweep Training Function\n",
    "# -------------------------------\n",
    "def sweep_train(config=None):\n",
    "    with wandb.init(config=config):\n",
    "        config = wandb.config\n",
    "\n",
    "        device = torch.device(\"cuda\" if torch.cuda.is_available() else \"cpu\")\n",
    "\n",
    "        # Rebuild vocab and dataset\n",
    "        train_dataset = TransliterationDataset(train_file, input_vocab, output_vocab)\n",
    "        val_dataset = TransliterationDataset(dev_file, input_vocab, output_vocab)\n",
    "\n",
    "        train_loader = DataLoader(\n",
    "            train_dataset, batch_size=config.batch_size, shuffle=True, collate_fn=pad_collate_fn\n",
    "        )\n",
    "        val_loader = DataLoader(\n",
    "            val_dataset, batch_size=config.batch_size, shuffle=False, collate_fn=pad_collate_fn\n",
    "        )\n",
    "\n",
    "        encoder = Encoder(\n",
    "            input_dim=len(input_vocab),\n",
    "            emb_dim=config.embedding_dim,\n",
    "            hidden_dim=config.hidden_dim,\n",
    "            num_layers=config.num_layers,\n",
    "            cell_type=config.cell_type,\n",
    "            dropout=config.dropout\n",
    "        )\n",
    "\n",
    "        decoder = Decoder(\n",
    "            output_dim=len(output_vocab),\n",
    "            emb_dim=config.embedding_dim,\n",
    "            hidden_dim=config.hidden_dim,\n",
    "            num_layers=config.num_layers,\n",
    "            cell_type=config.cell_type,\n",
    "            dropout=config.dropout\n",
    "        )\n",
    "\n",
    "        model = Seq2Seq(encoder, decoder, device).to(device)\n",
    "\n",
    "        optimizer = torch.optim.Adam(model.parameters(), lr=config.learning_rate)\n",
    "        scheduler = torch.optim.lr_scheduler.StepLR(optimizer, step_size=5, gamma=0.5)\n",
    "        criterion = nn.CrossEntropyLoss(ignore_index=PAD_IDX)\n",
    "\n",
    "        best_val_loss = float('inf')\n",
    "        initial_tf_ratio = config.teacher_forcing_ratio\n",
    "\n",
    "        for epoch in range(10):  # You can change to config.epochs if you want\n",
    "            # Decay teacher forcing ratio\n",
    "            tf_ratio = max(0.1, initial_tf_ratio * (0.95 ** epoch))\n",
    "\n",
    "            # ---- Training Phase ----\n",
    "            model.train()\n",
    "            total_loss, correct, total = 0, 0, 0\n",
    "            for src, trg in train_loader:\n",
    "                src, trg = src.to(device), trg.to(device)\n",
    "\n",
    "                optimizer.zero_grad()\n",
    "                output = model(src, trg, tf_ratio)\n",
    "                output_dim = output.shape[-1]\n",
    "\n",
    "                output = output[:, 1:].reshape(-1, output_dim)\n",
    "                trg = trg[:, 1:].reshape(-1)\n",
    "\n",
    "                loss = criterion(output, trg)\n",
    "                loss.backward()\n",
    "                optimizer.step()\n",
    "\n",
    "                total_loss += loss.item()\n",
    "                correct += (output.argmax(1) == trg).sum().item()\n",
    "                total += trg.ne(PAD_IDX).sum().item()\n",
    "\n",
    "            train_loss = total_loss / len(train_loader)\n",
    "            train_acc = correct / total\n",
    "\n",
    "            # ---- Validation Phase ----\n",
    "            model.eval()\n",
    "            val_loss, val_correct, val_total = 0, 0, 0\n",
    "            with torch.no_grad():\n",
    "                for src, trg in val_loader:\n",
    "                    src, trg = src.to(device), trg.to(device)\n",
    "                    output = model(src, trg, teacher_forcing_ratio=0)\n",
    "                    output_dim = output.shape[-1]\n",
    "\n",
    "                    output = output[:, 1:].reshape(-1, output_dim)\n",
    "                    trg = trg[:, 1:].reshape(-1)\n",
    "\n",
    "                    loss = criterion(output, trg)\n",
    "                    val_loss += loss.item()\n",
    "                    val_correct += (output.argmax(1) == trg).sum().item()\n",
    "                    val_total += trg.ne(PAD_IDX).sum().item()\n",
    "\n",
    "            val_loss /= len(val_loader)\n",
    "            val_acc = val_correct / val_total\n",
    "\n",
    "            scheduler.step()\n",
    "\n",
    "            # Log to wandb\n",
    "            wandb.log({\n",
    "                'epoch': epoch + 1,\n",
    "                'train_loss': train_loss,\n",
    "                'train_acc': train_acc,\n",
    "                'val_loss': val_loss,\n",
    "                'val_acc': val_acc,\n",
    "                'lr': scheduler.get_last_lr()[0],\n",
    "                'tf_ratio': tf_ratio\n",
    "            })\n",
    "\n",
    "            if val_loss < best_val_loss:\n",
    "                best_val_loss = val_loss\n",
    "                torch.save(model.state_dict(), \"best_model.pt\")\n",
    "\n",
    "# -------------------------------\n",
    "# Sweep Config\n",
    "# -------------------------------\n",
    "sweep_config = {\n",
    "    'method': 'bayes',\n",
    "    'metric': {'name': 'val_loss', 'goal': 'minimize'},\n",
    "    'parameters': {\n",
    "        'embedding_dim': {'values': [16, 32, 64, 256]},\n",
    "        'hidden_dim': {'values': [16, 32, 64, 256]},\n",
    "        'num_layers': {'values': [1, 2, 3]},\n",
    "        'dropout': {'values': [0.2, 0.3]},\n",
    "        'cell_type': {'values': ['LSTM', 'GRU', 'RNN']},\n",
    "        'learning_rate': {'values': [0.001]},\n",
    "        'batch_size': {'values': [32, 64]},\n",
    "        'teacher_forcing_ratio': {'values': [0.7]},\n",
    "        'tf_decay': {'values': [0.95]}, \n",
    "        'epochs': {'value': 15}\n",
    "    }\n",
    "}\n",
    "\n"
   ]
  },
  {
   "cell_type": "markdown",
   "metadata": {},
   "source": []
  },
  {
   "cell_type": "code",
   "execution_count": 22,
   "metadata": {
    "execution": {
     "iopub.execute_input": "2025-05-20T11:59:59.787228Z",
     "iopub.status.busy": "2025-05-20T11:59:59.786753Z",
     "iopub.status.idle": "2025-05-20T13:40:55.298142Z",
     "shell.execute_reply": "2025-05-20T13:40:55.297550Z",
     "shell.execute_reply.started": "2025-05-20T11:59:59.787206Z"
    },
    "trusted": true
   },
   "outputs": [
    {
     "name": "stdout",
     "output_type": "stream",
     "text": [
      "Create sweep with ID: aayppy4c\n",
      "Sweep URL: https://wandb.ai/roohiparveen/DA6401%20ASSIGNMENT%203/sweeps/aayppy4c\n"
     ]
    },
    {
     "name": "stderr",
     "output_type": "stream",
     "text": [
      "\u001b[34m\u001b[1mwandb\u001b[0m: Agent Starting Run: ru5djwaz with config:\n",
      "\u001b[34m\u001b[1mwandb\u001b[0m: \tbatch_size: 64\n",
      "\u001b[34m\u001b[1mwandb\u001b[0m: \tcell_type: LSTM\n",
      "\u001b[34m\u001b[1mwandb\u001b[0m: \tdropout: 0.2\n",
      "\u001b[34m\u001b[1mwandb\u001b[0m: \tembedding_dim: 32\n",
      "\u001b[34m\u001b[1mwandb\u001b[0m: \thidden_dim: 16\n",
      "\u001b[34m\u001b[1mwandb\u001b[0m: \tlearning_rate: 0.001\n",
      "\u001b[34m\u001b[1mwandb\u001b[0m: \tnum_layers: 1\n",
      "\u001b[34m\u001b[1mwandb\u001b[0m: \tteacher_forcing_ratio: 0.5\n"
     ]
    },
    {
     "data": {
      "text/html": [
       "Tracking run with wandb version 0.19.9"
      ],
      "text/plain": [
       "<IPython.core.display.HTML object>"
      ]
     },
     "metadata": {},
     "output_type": "display_data"
    },
    {
     "data": {
      "text/html": [
       "Run data is saved locally in <code>/kaggle/working/wandb/run-20250520_120008-ru5djwaz</code>"
      ],
      "text/plain": [
       "<IPython.core.display.HTML object>"
      ]
     },
     "metadata": {},
     "output_type": "display_data"
    },
    {
     "data": {
      "text/html": [
       "Syncing run <strong><a href='https://wandb.ai/roohiparveen/DA6401%20ASSIGNMENT%203/runs/ru5djwaz' target=\"_blank\">eternal-sweep-1</a></strong> to <a href='https://wandb.ai/roohiparveen/DA6401%20ASSIGNMENT%203' target=\"_blank\">Weights & Biases</a> (<a href='https://wandb.me/developer-guide' target=\"_blank\">docs</a>)<br>Sweep page: <a href='https://wandb.ai/roohiparveen/DA6401%20ASSIGNMENT%203/sweeps/aayppy4c' target=\"_blank\">https://wandb.ai/roohiparveen/DA6401%20ASSIGNMENT%203/sweeps/aayppy4c</a>"
      ],
      "text/plain": [
       "<IPython.core.display.HTML object>"
      ]
     },
     "metadata": {},
     "output_type": "display_data"
    },
    {
     "data": {
      "text/html": [
       " View project at <a href='https://wandb.ai/roohiparveen/DA6401%20ASSIGNMENT%203' target=\"_blank\">https://wandb.ai/roohiparveen/DA6401%20ASSIGNMENT%203</a>"
      ],
      "text/plain": [
       "<IPython.core.display.HTML object>"
      ]
     },
     "metadata": {},
     "output_type": "display_data"
    },
    {
     "data": {
      "text/html": [
       " View sweep at <a href='https://wandb.ai/roohiparveen/DA6401%20ASSIGNMENT%203/sweeps/aayppy4c' target=\"_blank\">https://wandb.ai/roohiparveen/DA6401%20ASSIGNMENT%203/sweeps/aayppy4c</a>"
      ],
      "text/plain": [
       "<IPython.core.display.HTML object>"
      ]
     },
     "metadata": {},
     "output_type": "display_data"
    },
    {
     "data": {
      "text/html": [
       " View run at <a href='https://wandb.ai/roohiparveen/DA6401%20ASSIGNMENT%203/runs/ru5djwaz' target=\"_blank\">https://wandb.ai/roohiparveen/DA6401%20ASSIGNMENT%203/runs/ru5djwaz</a>"
      ],
      "text/plain": [
       "<IPython.core.display.HTML object>"
      ]
     },
     "metadata": {},
     "output_type": "display_data"
    },
    {
     "data": {
      "text/html": [],
      "text/plain": [
       "<IPython.core.display.HTML object>"
      ]
     },
     "metadata": {},
     "output_type": "display_data"
    },
    {
     "data": {
      "text/html": [
       "<br>    <style><br>        .wandb-row {<br>            display: flex;<br>            flex-direction: row;<br>            flex-wrap: wrap;<br>            justify-content: flex-start;<br>            width: 100%;<br>        }<br>        .wandb-col {<br>            display: flex;<br>            flex-direction: column;<br>            flex-basis: 100%;<br>            flex: 1;<br>            padding: 10px;<br>        }<br>    </style><br><div class=\"wandb-row\"><div class=\"wandb-col\"><h3>Run history:</h3><br/><table class=\"wandb\"><tr><td>epoch</td><td>▁▂▃▃▄▅▆▆▇█</td></tr><tr><td>train_acc</td><td>▁▃▄▆▆▇▇███</td></tr><tr><td>train_loss</td><td>█▅▄▃▂▂▂▁▁▁</td></tr><tr><td>val_acc</td><td>▁▃▄▆▆▇▇▇██</td></tr><tr><td>val_loss</td><td>█▆▅▄▃▂▂▂▂▁</td></tr></table><br/></div><div class=\"wandb-col\"><h3>Run summary:</h3><br/><table class=\"wandb\"><tr><td>epoch</td><td>10</td></tr><tr><td>train_acc</td><td>0.47569</td></tr><tr><td>train_loss</td><td>1.79989</td></tr><tr><td>val_acc</td><td>0.34606</td></tr><tr><td>val_loss</td><td>2.21442</td></tr></table><br/></div></div>"
      ],
      "text/plain": [
       "<IPython.core.display.HTML object>"
      ]
     },
     "metadata": {},
     "output_type": "display_data"
    },
    {
     "data": {
      "text/html": [
       " View run <strong style=\"color:#cdcd00\">eternal-sweep-1</strong> at: <a href='https://wandb.ai/roohiparveen/DA6401%20ASSIGNMENT%203/runs/ru5djwaz' target=\"_blank\">https://wandb.ai/roohiparveen/DA6401%20ASSIGNMENT%203/runs/ru5djwaz</a><br> View project at: <a href='https://wandb.ai/roohiparveen/DA6401%20ASSIGNMENT%203' target=\"_blank\">https://wandb.ai/roohiparveen/DA6401%20ASSIGNMENT%203</a><br>Synced 5 W&B file(s), 0 media file(s), 0 artifact file(s) and 0 other file(s)"
      ],
      "text/plain": [
       "<IPython.core.display.HTML object>"
      ]
     },
     "metadata": {},
     "output_type": "display_data"
    },
    {
     "data": {
      "text/html": [
       "Find logs at: <code>./wandb/run-20250520_120008-ru5djwaz/logs</code>"
      ],
      "text/plain": [
       "<IPython.core.display.HTML object>"
      ]
     },
     "metadata": {},
     "output_type": "display_data"
    },
    {
     "name": "stderr",
     "output_type": "stream",
     "text": [
      "\u001b[34m\u001b[1mwandb\u001b[0m: Agent Starting Run: pt1gf1v7 with config:\n",
      "\u001b[34m\u001b[1mwandb\u001b[0m: \tbatch_size: 32\n",
      "\u001b[34m\u001b[1mwandb\u001b[0m: \tcell_type: RNN\n",
      "\u001b[34m\u001b[1mwandb\u001b[0m: \tdropout: 0.2\n",
      "\u001b[34m\u001b[1mwandb\u001b[0m: \tembedding_dim: 64\n",
      "\u001b[34m\u001b[1mwandb\u001b[0m: \thidden_dim: 16\n",
      "\u001b[34m\u001b[1mwandb\u001b[0m: \tlearning_rate: 0.001\n",
      "\u001b[34m\u001b[1mwandb\u001b[0m: \tnum_layers: 2\n",
      "\u001b[34m\u001b[1mwandb\u001b[0m: \tteacher_forcing_ratio: 0.5\n"
     ]
    },
    {
     "data": {
      "text/html": [
       "Tracking run with wandb version 0.19.9"
      ],
      "text/plain": [
       "<IPython.core.display.HTML object>"
      ]
     },
     "metadata": {},
     "output_type": "display_data"
    },
    {
     "data": {
      "text/html": [
       "Run data is saved locally in <code>/kaggle/working/wandb/run-20250520_120453-pt1gf1v7</code>"
      ],
      "text/plain": [
       "<IPython.core.display.HTML object>"
      ]
     },
     "metadata": {},
     "output_type": "display_data"
    },
    {
     "data": {
      "text/html": [
       "Syncing run <strong><a href='https://wandb.ai/roohiparveen/DA6401%20ASSIGNMENT%203/runs/pt1gf1v7' target=\"_blank\">vivid-sweep-2</a></strong> to <a href='https://wandb.ai/roohiparveen/DA6401%20ASSIGNMENT%203' target=\"_blank\">Weights & Biases</a> (<a href='https://wandb.me/developer-guide' target=\"_blank\">docs</a>)<br>Sweep page: <a href='https://wandb.ai/roohiparveen/DA6401%20ASSIGNMENT%203/sweeps/aayppy4c' target=\"_blank\">https://wandb.ai/roohiparveen/DA6401%20ASSIGNMENT%203/sweeps/aayppy4c</a>"
      ],
      "text/plain": [
       "<IPython.core.display.HTML object>"
      ]
     },
     "metadata": {},
     "output_type": "display_data"
    },
    {
     "data": {
      "text/html": [
       " View project at <a href='https://wandb.ai/roohiparveen/DA6401%20ASSIGNMENT%203' target=\"_blank\">https://wandb.ai/roohiparveen/DA6401%20ASSIGNMENT%203</a>"
      ],
      "text/plain": [
       "<IPython.core.display.HTML object>"
      ]
     },
     "metadata": {},
     "output_type": "display_data"
    },
    {
     "data": {
      "text/html": [
       " View sweep at <a href='https://wandb.ai/roohiparveen/DA6401%20ASSIGNMENT%203/sweeps/aayppy4c' target=\"_blank\">https://wandb.ai/roohiparveen/DA6401%20ASSIGNMENT%203/sweeps/aayppy4c</a>"
      ],
      "text/plain": [
       "<IPython.core.display.HTML object>"
      ]
     },
     "metadata": {},
     "output_type": "display_data"
    },
    {
     "data": {
      "text/html": [
       " View run at <a href='https://wandb.ai/roohiparveen/DA6401%20ASSIGNMENT%203/runs/pt1gf1v7' target=\"_blank\">https://wandb.ai/roohiparveen/DA6401%20ASSIGNMENT%203/runs/pt1gf1v7</a>"
      ],
      "text/plain": [
       "<IPython.core.display.HTML object>"
      ]
     },
     "metadata": {},
     "output_type": "display_data"
    },
    {
     "data": {
      "text/html": [],
      "text/plain": [
       "<IPython.core.display.HTML object>"
      ]
     },
     "metadata": {},
     "output_type": "display_data"
    },
    {
     "data": {
      "text/html": [
       "<br>    <style><br>        .wandb-row {<br>            display: flex;<br>            flex-direction: row;<br>            flex-wrap: wrap;<br>            justify-content: flex-start;<br>            width: 100%;<br>        }<br>        .wandb-col {<br>            display: flex;<br>            flex-direction: column;<br>            flex-basis: 100%;<br>            flex: 1;<br>            padding: 10px;<br>        }<br>    </style><br><div class=\"wandb-row\"><div class=\"wandb-col\"><h3>Run history:</h3><br/><table class=\"wandb\"><tr><td>epoch</td><td>▁▂▃▃▄▅▆▆▇█</td></tr><tr><td>train_acc</td><td>▁▄▅▆▇▇████</td></tr><tr><td>train_loss</td><td>█▃▂▂▂▁▁▁▁▁</td></tr><tr><td>val_acc</td><td>▇▆█▁▅▄▅▆▅▅</td></tr><tr><td>val_loss</td><td>▃▃▂█▃▄▂▁▃▁</td></tr></table><br/></div><div class=\"wandb-col\"><h3>Run summary:</h3><br/><table class=\"wandb\"><tr><td>epoch</td><td>10</td></tr><tr><td>train_acc</td><td>0.27396</td></tr><tr><td>train_loss</td><td>2.5099</td></tr><tr><td>val_acc</td><td>0.16904</td></tr><tr><td>val_loss</td><td>2.87858</td></tr></table><br/></div></div>"
      ],
      "text/plain": [
       "<IPython.core.display.HTML object>"
      ]
     },
     "metadata": {},
     "output_type": "display_data"
    },
    {
     "data": {
      "text/html": [
       " View run <strong style=\"color:#cdcd00\">vivid-sweep-2</strong> at: <a href='https://wandb.ai/roohiparveen/DA6401%20ASSIGNMENT%203/runs/pt1gf1v7' target=\"_blank\">https://wandb.ai/roohiparveen/DA6401%20ASSIGNMENT%203/runs/pt1gf1v7</a><br> View project at: <a href='https://wandb.ai/roohiparveen/DA6401%20ASSIGNMENT%203' target=\"_blank\">https://wandb.ai/roohiparveen/DA6401%20ASSIGNMENT%203</a><br>Synced 5 W&B file(s), 0 media file(s), 0 artifact file(s) and 0 other file(s)"
      ],
      "text/plain": [
       "<IPython.core.display.HTML object>"
      ]
     },
     "metadata": {},
     "output_type": "display_data"
    },
    {
     "data": {
      "text/html": [
       "Find logs at: <code>./wandb/run-20250520_120453-pt1gf1v7/logs</code>"
      ],
      "text/plain": [
       "<IPython.core.display.HTML object>"
      ]
     },
     "metadata": {},
     "output_type": "display_data"
    },
    {
     "name": "stderr",
     "output_type": "stream",
     "text": [
      "\u001b[34m\u001b[1mwandb\u001b[0m: Agent Starting Run: 9qa8a18a with config:\n",
      "\u001b[34m\u001b[1mwandb\u001b[0m: \tbatch_size: 64\n",
      "\u001b[34m\u001b[1mwandb\u001b[0m: \tcell_type: GRU\n",
      "\u001b[34m\u001b[1mwandb\u001b[0m: \tdropout: 0.2\n",
      "\u001b[34m\u001b[1mwandb\u001b[0m: \tembedding_dim: 256\n",
      "\u001b[34m\u001b[1mwandb\u001b[0m: \thidden_dim: 32\n",
      "\u001b[34m\u001b[1mwandb\u001b[0m: \tlearning_rate: 0.001\n",
      "\u001b[34m\u001b[1mwandb\u001b[0m: \tnum_layers: 1\n",
      "\u001b[34m\u001b[1mwandb\u001b[0m: \tteacher_forcing_ratio: 0.5\n"
     ]
    },
    {
     "data": {
      "text/html": [
       "Tracking run with wandb version 0.19.9"
      ],
      "text/plain": [
       "<IPython.core.display.HTML object>"
      ]
     },
     "metadata": {},
     "output_type": "display_data"
    },
    {
     "data": {
      "text/html": [
       "Run data is saved locally in <code>/kaggle/working/wandb/run-20250520_120947-9qa8a18a</code>"
      ],
      "text/plain": [
       "<IPython.core.display.HTML object>"
      ]
     },
     "metadata": {},
     "output_type": "display_data"
    },
    {
     "data": {
      "text/html": [
       "Syncing run <strong><a href='https://wandb.ai/roohiparveen/DA6401%20ASSIGNMENT%203/runs/9qa8a18a' target=\"_blank\">floral-sweep-3</a></strong> to <a href='https://wandb.ai/roohiparveen/DA6401%20ASSIGNMENT%203' target=\"_blank\">Weights & Biases</a> (<a href='https://wandb.me/developer-guide' target=\"_blank\">docs</a>)<br>Sweep page: <a href='https://wandb.ai/roohiparveen/DA6401%20ASSIGNMENT%203/sweeps/aayppy4c' target=\"_blank\">https://wandb.ai/roohiparveen/DA6401%20ASSIGNMENT%203/sweeps/aayppy4c</a>"
      ],
      "text/plain": [
       "<IPython.core.display.HTML object>"
      ]
     },
     "metadata": {},
     "output_type": "display_data"
    },
    {
     "data": {
      "text/html": [
       " View project at <a href='https://wandb.ai/roohiparveen/DA6401%20ASSIGNMENT%203' target=\"_blank\">https://wandb.ai/roohiparveen/DA6401%20ASSIGNMENT%203</a>"
      ],
      "text/plain": [
       "<IPython.core.display.HTML object>"
      ]
     },
     "metadata": {},
     "output_type": "display_data"
    },
    {
     "data": {
      "text/html": [
       " View sweep at <a href='https://wandb.ai/roohiparveen/DA6401%20ASSIGNMENT%203/sweeps/aayppy4c' target=\"_blank\">https://wandb.ai/roohiparveen/DA6401%20ASSIGNMENT%203/sweeps/aayppy4c</a>"
      ],
      "text/plain": [
       "<IPython.core.display.HTML object>"
      ]
     },
     "metadata": {},
     "output_type": "display_data"
    },
    {
     "data": {
      "text/html": [
       " View run at <a href='https://wandb.ai/roohiparveen/DA6401%20ASSIGNMENT%203/runs/9qa8a18a' target=\"_blank\">https://wandb.ai/roohiparveen/DA6401%20ASSIGNMENT%203/runs/9qa8a18a</a>"
      ],
      "text/plain": [
       "<IPython.core.display.HTML object>"
      ]
     },
     "metadata": {},
     "output_type": "display_data"
    },
    {
     "data": {
      "text/html": [],
      "text/plain": [
       "<IPython.core.display.HTML object>"
      ]
     },
     "metadata": {},
     "output_type": "display_data"
    },
    {
     "data": {
      "text/html": [
       "<br>    <style><br>        .wandb-row {<br>            display: flex;<br>            flex-direction: row;<br>            flex-wrap: wrap;<br>            justify-content: flex-start;<br>            width: 100%;<br>        }<br>        .wandb-col {<br>            display: flex;<br>            flex-direction: column;<br>            flex-basis: 100%;<br>            flex: 1;<br>            padding: 10px;<br>        }<br>    </style><br><div class=\"wandb-row\"><div class=\"wandb-col\"><h3>Run history:</h3><br/><table class=\"wandb\"><tr><td>epoch</td><td>▁▂▃▃▄▅▆▆▇█</td></tr><tr><td>train_acc</td><td>▁▄▅▆▆▆▇▇██</td></tr><tr><td>train_loss</td><td>█▅▄▃▃▂▂▂▁▁</td></tr><tr><td>val_acc</td><td>▁▃▄▄▅▅▇▇██</td></tr><tr><td>val_loss</td><td>█▆▅▅▄▃▂▂▁▁</td></tr></table><br/></div><div class=\"wandb-col\"><h3>Run summary:</h3><br/><table class=\"wandb\"><tr><td>epoch</td><td>10</td></tr><tr><td>train_acc</td><td>0.51584</td></tr><tr><td>train_loss</td><td>1.71064</td></tr><tr><td>val_acc</td><td>0.37906</td></tr><tr><td>val_loss</td><td>2.19248</td></tr></table><br/></div></div>"
      ],
      "text/plain": [
       "<IPython.core.display.HTML object>"
      ]
     },
     "metadata": {},
     "output_type": "display_data"
    },
    {
     "data": {
      "text/html": [
       " View run <strong style=\"color:#cdcd00\">floral-sweep-3</strong> at: <a href='https://wandb.ai/roohiparveen/DA6401%20ASSIGNMENT%203/runs/9qa8a18a' target=\"_blank\">https://wandb.ai/roohiparveen/DA6401%20ASSIGNMENT%203/runs/9qa8a18a</a><br> View project at: <a href='https://wandb.ai/roohiparveen/DA6401%20ASSIGNMENT%203' target=\"_blank\">https://wandb.ai/roohiparveen/DA6401%20ASSIGNMENT%203</a><br>Synced 5 W&B file(s), 0 media file(s), 0 artifact file(s) and 0 other file(s)"
      ],
      "text/plain": [
       "<IPython.core.display.HTML object>"
      ]
     },
     "metadata": {},
     "output_type": "display_data"
    },
    {
     "data": {
      "text/html": [
       "Find logs at: <code>./wandb/run-20250520_120947-9qa8a18a/logs</code>"
      ],
      "text/plain": [
       "<IPython.core.display.HTML object>"
      ]
     },
     "metadata": {},
     "output_type": "display_data"
    },
    {
     "name": "stderr",
     "output_type": "stream",
     "text": [
      "\u001b[34m\u001b[1mwandb\u001b[0m: Agent Starting Run: uqzkg1mo with config:\n",
      "\u001b[34m\u001b[1mwandb\u001b[0m: \tbatch_size: 64\n",
      "\u001b[34m\u001b[1mwandb\u001b[0m: \tcell_type: RNN\n",
      "\u001b[34m\u001b[1mwandb\u001b[0m: \tdropout: 0.3\n",
      "\u001b[34m\u001b[1mwandb\u001b[0m: \tembedding_dim: 256\n",
      "\u001b[34m\u001b[1mwandb\u001b[0m: \thidden_dim: 32\n",
      "\u001b[34m\u001b[1mwandb\u001b[0m: \tlearning_rate: 0.001\n",
      "\u001b[34m\u001b[1mwandb\u001b[0m: \tnum_layers: 1\n",
      "\u001b[34m\u001b[1mwandb\u001b[0m: \tteacher_forcing_ratio: 0.5\n"
     ]
    },
    {
     "data": {
      "text/html": [
       "Tracking run with wandb version 0.19.9"
      ],
      "text/plain": [
       "<IPython.core.display.HTML object>"
      ]
     },
     "metadata": {},
     "output_type": "display_data"
    },
    {
     "data": {
      "text/html": [
       "Run data is saved locally in <code>/kaggle/working/wandb/run-20250520_121422-uqzkg1mo</code>"
      ],
      "text/plain": [
       "<IPython.core.display.HTML object>"
      ]
     },
     "metadata": {},
     "output_type": "display_data"
    },
    {
     "data": {
      "text/html": [
       "Syncing run <strong><a href='https://wandb.ai/roohiparveen/DA6401%20ASSIGNMENT%203/runs/uqzkg1mo' target=\"_blank\">curious-sweep-4</a></strong> to <a href='https://wandb.ai/roohiparveen/DA6401%20ASSIGNMENT%203' target=\"_blank\">Weights & Biases</a> (<a href='https://wandb.me/developer-guide' target=\"_blank\">docs</a>)<br>Sweep page: <a href='https://wandb.ai/roohiparveen/DA6401%20ASSIGNMENT%203/sweeps/aayppy4c' target=\"_blank\">https://wandb.ai/roohiparveen/DA6401%20ASSIGNMENT%203/sweeps/aayppy4c</a>"
      ],
      "text/plain": [
       "<IPython.core.display.HTML object>"
      ]
     },
     "metadata": {},
     "output_type": "display_data"
    },
    {
     "data": {
      "text/html": [
       " View project at <a href='https://wandb.ai/roohiparveen/DA6401%20ASSIGNMENT%203' target=\"_blank\">https://wandb.ai/roohiparveen/DA6401%20ASSIGNMENT%203</a>"
      ],
      "text/plain": [
       "<IPython.core.display.HTML object>"
      ]
     },
     "metadata": {},
     "output_type": "display_data"
    },
    {
     "data": {
      "text/html": [
       " View sweep at <a href='https://wandb.ai/roohiparveen/DA6401%20ASSIGNMENT%203/sweeps/aayppy4c' target=\"_blank\">https://wandb.ai/roohiparveen/DA6401%20ASSIGNMENT%203/sweeps/aayppy4c</a>"
      ],
      "text/plain": [
       "<IPython.core.display.HTML object>"
      ]
     },
     "metadata": {},
     "output_type": "display_data"
    },
    {
     "data": {
      "text/html": [
       " View run at <a href='https://wandb.ai/roohiparveen/DA6401%20ASSIGNMENT%203/runs/uqzkg1mo' target=\"_blank\">https://wandb.ai/roohiparveen/DA6401%20ASSIGNMENT%203/runs/uqzkg1mo</a>"
      ],
      "text/plain": [
       "<IPython.core.display.HTML object>"
      ]
     },
     "metadata": {},
     "output_type": "display_data"
    },
    {
     "data": {
      "text/html": [],
      "text/plain": [
       "<IPython.core.display.HTML object>"
      ]
     },
     "metadata": {},
     "output_type": "display_data"
    },
    {
     "data": {
      "text/html": [
       "<br>    <style><br>        .wandb-row {<br>            display: flex;<br>            flex-direction: row;<br>            flex-wrap: wrap;<br>            justify-content: flex-start;<br>            width: 100%;<br>        }<br>        .wandb-col {<br>            display: flex;<br>            flex-direction: column;<br>            flex-basis: 100%;<br>            flex: 1;<br>            padding: 10px;<br>        }<br>    </style><br><div class=\"wandb-row\"><div class=\"wandb-col\"><h3>Run history:</h3><br/><table class=\"wandb\"><tr><td>epoch</td><td>▁▂▃▃▄▅▆▆▇█</td></tr><tr><td>train_acc</td><td>▁▅▇▇██████</td></tr><tr><td>train_loss</td><td>█▃▂▂▁▁▁▁▁▁</td></tr><tr><td>val_acc</td><td>▁▁▆█▄▇▄▅▄▂</td></tr><tr><td>val_loss</td><td>█▆▂▁▆▁▃▄▃▂</td></tr></table><br/></div><div class=\"wandb-col\"><h3>Run summary:</h3><br/><table class=\"wandb\"><tr><td>epoch</td><td>10</td></tr><tr><td>train_acc</td><td>0.29271</td></tr><tr><td>train_loss</td><td>2.43934</td></tr><tr><td>val_acc</td><td>0.15184</td></tr><tr><td>val_loss</td><td>2.90872</td></tr></table><br/></div></div>"
      ],
      "text/plain": [
       "<IPython.core.display.HTML object>"
      ]
     },
     "metadata": {},
     "output_type": "display_data"
    },
    {
     "data": {
      "text/html": [
       " View run <strong style=\"color:#cdcd00\">curious-sweep-4</strong> at: <a href='https://wandb.ai/roohiparveen/DA6401%20ASSIGNMENT%203/runs/uqzkg1mo' target=\"_blank\">https://wandb.ai/roohiparveen/DA6401%20ASSIGNMENT%203/runs/uqzkg1mo</a><br> View project at: <a href='https://wandb.ai/roohiparveen/DA6401%20ASSIGNMENT%203' target=\"_blank\">https://wandb.ai/roohiparveen/DA6401%20ASSIGNMENT%203</a><br>Synced 5 W&B file(s), 0 media file(s), 0 artifact file(s) and 0 other file(s)"
      ],
      "text/plain": [
       "<IPython.core.display.HTML object>"
      ]
     },
     "metadata": {},
     "output_type": "display_data"
    },
    {
     "data": {
      "text/html": [
       "Find logs at: <code>./wandb/run-20250520_121422-uqzkg1mo/logs</code>"
      ],
      "text/plain": [
       "<IPython.core.display.HTML object>"
      ]
     },
     "metadata": {},
     "output_type": "display_data"
    },
    {
     "name": "stderr",
     "output_type": "stream",
     "text": [
      "\u001b[34m\u001b[1mwandb\u001b[0m: Agent Starting Run: 2r3c46l1 with config:\n",
      "\u001b[34m\u001b[1mwandb\u001b[0m: \tbatch_size: 32\n",
      "\u001b[34m\u001b[1mwandb\u001b[0m: \tcell_type: RNN\n",
      "\u001b[34m\u001b[1mwandb\u001b[0m: \tdropout: 0.2\n",
      "\u001b[34m\u001b[1mwandb\u001b[0m: \tembedding_dim: 256\n",
      "\u001b[34m\u001b[1mwandb\u001b[0m: \thidden_dim: 16\n",
      "\u001b[34m\u001b[1mwandb\u001b[0m: \tlearning_rate: 0.001\n",
      "\u001b[34m\u001b[1mwandb\u001b[0m: \tnum_layers: 3\n",
      "\u001b[34m\u001b[1mwandb\u001b[0m: \tteacher_forcing_ratio: 0.5\n"
     ]
    },
    {
     "data": {
      "text/html": [
       "Tracking run with wandb version 0.19.9"
      ],
      "text/plain": [
       "<IPython.core.display.HTML object>"
      ]
     },
     "metadata": {},
     "output_type": "display_data"
    },
    {
     "data": {
      "text/html": [
       "Run data is saved locally in <code>/kaggle/working/wandb/run-20250520_121836-2r3c46l1</code>"
      ],
      "text/plain": [
       "<IPython.core.display.HTML object>"
      ]
     },
     "metadata": {},
     "output_type": "display_data"
    },
    {
     "data": {
      "text/html": [
       "Syncing run <strong><a href='https://wandb.ai/roohiparveen/DA6401%20ASSIGNMENT%203/runs/2r3c46l1' target=\"_blank\">proud-sweep-5</a></strong> to <a href='https://wandb.ai/roohiparveen/DA6401%20ASSIGNMENT%203' target=\"_blank\">Weights & Biases</a> (<a href='https://wandb.me/developer-guide' target=\"_blank\">docs</a>)<br>Sweep page: <a href='https://wandb.ai/roohiparveen/DA6401%20ASSIGNMENT%203/sweeps/aayppy4c' target=\"_blank\">https://wandb.ai/roohiparveen/DA6401%20ASSIGNMENT%203/sweeps/aayppy4c</a>"
      ],
      "text/plain": [
       "<IPython.core.display.HTML object>"
      ]
     },
     "metadata": {},
     "output_type": "display_data"
    },
    {
     "data": {
      "text/html": [
       " View project at <a href='https://wandb.ai/roohiparveen/DA6401%20ASSIGNMENT%203' target=\"_blank\">https://wandb.ai/roohiparveen/DA6401%20ASSIGNMENT%203</a>"
      ],
      "text/plain": [
       "<IPython.core.display.HTML object>"
      ]
     },
     "metadata": {},
     "output_type": "display_data"
    },
    {
     "data": {
      "text/html": [
       " View sweep at <a href='https://wandb.ai/roohiparveen/DA6401%20ASSIGNMENT%203/sweeps/aayppy4c' target=\"_blank\">https://wandb.ai/roohiparveen/DA6401%20ASSIGNMENT%203/sweeps/aayppy4c</a>"
      ],
      "text/plain": [
       "<IPython.core.display.HTML object>"
      ]
     },
     "metadata": {},
     "output_type": "display_data"
    },
    {
     "data": {
      "text/html": [
       " View run at <a href='https://wandb.ai/roohiparveen/DA6401%20ASSIGNMENT%203/runs/2r3c46l1' target=\"_blank\">https://wandb.ai/roohiparveen/DA6401%20ASSIGNMENT%203/runs/2r3c46l1</a>"
      ],
      "text/plain": [
       "<IPython.core.display.HTML object>"
      ]
     },
     "metadata": {},
     "output_type": "display_data"
    },
    {
     "data": {
      "text/html": [],
      "text/plain": [
       "<IPython.core.display.HTML object>"
      ]
     },
     "metadata": {},
     "output_type": "display_data"
    },
    {
     "data": {
      "text/html": [
       "<br>    <style><br>        .wandb-row {<br>            display: flex;<br>            flex-direction: row;<br>            flex-wrap: wrap;<br>            justify-content: flex-start;<br>            width: 100%;<br>        }<br>        .wandb-col {<br>            display: flex;<br>            flex-direction: column;<br>            flex-basis: 100%;<br>            flex: 1;<br>            padding: 10px;<br>        }<br>    </style><br><div class=\"wandb-row\"><div class=\"wandb-col\"><h3>Run history:</h3><br/><table class=\"wandb\"><tr><td>epoch</td><td>▁▂▃▃▄▅▆▆▇█</td></tr><tr><td>train_acc</td><td>▁▄▅▆▆▇▇▇██</td></tr><tr><td>train_loss</td><td>█▄▃▃▂▂▂▁▁▁</td></tr><tr><td>val_acc</td><td>▃▃▄▂▁▅█▆▅▆</td></tr><tr><td>val_loss</td><td>▇▇▆▆█▄▁▃▃▁</td></tr></table><br/></div><div class=\"wandb-col\"><h3>Run summary:</h3><br/><table class=\"wandb\"><tr><td>epoch</td><td>10</td></tr><tr><td>train_acc</td><td>0.28957</td></tr><tr><td>train_loss</td><td>2.43937</td></tr><tr><td>val_acc</td><td>0.19954</td></tr><tr><td>val_loss</td><td>2.76052</td></tr></table><br/></div></div>"
      ],
      "text/plain": [
       "<IPython.core.display.HTML object>"
      ]
     },
     "metadata": {},
     "output_type": "display_data"
    },
    {
     "data": {
      "text/html": [
       " View run <strong style=\"color:#cdcd00\">proud-sweep-5</strong> at: <a href='https://wandb.ai/roohiparveen/DA6401%20ASSIGNMENT%203/runs/2r3c46l1' target=\"_blank\">https://wandb.ai/roohiparveen/DA6401%20ASSIGNMENT%203/runs/2r3c46l1</a><br> View project at: <a href='https://wandb.ai/roohiparveen/DA6401%20ASSIGNMENT%203' target=\"_blank\">https://wandb.ai/roohiparveen/DA6401%20ASSIGNMENT%203</a><br>Synced 5 W&B file(s), 0 media file(s), 0 artifact file(s) and 0 other file(s)"
      ],
      "text/plain": [
       "<IPython.core.display.HTML object>"
      ]
     },
     "metadata": {},
     "output_type": "display_data"
    },
    {
     "data": {
      "text/html": [
       "Find logs at: <code>./wandb/run-20250520_121836-2r3c46l1/logs</code>"
      ],
      "text/plain": [
       "<IPython.core.display.HTML object>"
      ]
     },
     "metadata": {},
     "output_type": "display_data"
    },
    {
     "name": "stderr",
     "output_type": "stream",
     "text": [
      "\u001b[34m\u001b[1mwandb\u001b[0m: Agent Starting Run: d1dano18 with config:\n",
      "\u001b[34m\u001b[1mwandb\u001b[0m: \tbatch_size: 64\n",
      "\u001b[34m\u001b[1mwandb\u001b[0m: \tcell_type: LSTM\n",
      "\u001b[34m\u001b[1mwandb\u001b[0m: \tdropout: 0.3\n",
      "\u001b[34m\u001b[1mwandb\u001b[0m: \tembedding_dim: 32\n",
      "\u001b[34m\u001b[1mwandb\u001b[0m: \thidden_dim: 32\n",
      "\u001b[34m\u001b[1mwandb\u001b[0m: \tlearning_rate: 0.001\n",
      "\u001b[34m\u001b[1mwandb\u001b[0m: \tnum_layers: 2\n",
      "\u001b[34m\u001b[1mwandb\u001b[0m: \tteacher_forcing_ratio: 0.5\n"
     ]
    },
    {
     "data": {
      "text/html": [
       "Tracking run with wandb version 0.19.9"
      ],
      "text/plain": [
       "<IPython.core.display.HTML object>"
      ]
     },
     "metadata": {},
     "output_type": "display_data"
    },
    {
     "data": {
      "text/html": [
       "Run data is saved locally in <code>/kaggle/working/wandb/run-20250520_122407-d1dano18</code>"
      ],
      "text/plain": [
       "<IPython.core.display.HTML object>"
      ]
     },
     "metadata": {},
     "output_type": "display_data"
    },
    {
     "data": {
      "text/html": [
       "Syncing run <strong><a href='https://wandb.ai/roohiparveen/DA6401%20ASSIGNMENT%203/runs/d1dano18' target=\"_blank\">polar-sweep-6</a></strong> to <a href='https://wandb.ai/roohiparveen/DA6401%20ASSIGNMENT%203' target=\"_blank\">Weights & Biases</a> (<a href='https://wandb.me/developer-guide' target=\"_blank\">docs</a>)<br>Sweep page: <a href='https://wandb.ai/roohiparveen/DA6401%20ASSIGNMENT%203/sweeps/aayppy4c' target=\"_blank\">https://wandb.ai/roohiparveen/DA6401%20ASSIGNMENT%203/sweeps/aayppy4c</a>"
      ],
      "text/plain": [
       "<IPython.core.display.HTML object>"
      ]
     },
     "metadata": {},
     "output_type": "display_data"
    },
    {
     "data": {
      "text/html": [
       " View project at <a href='https://wandb.ai/roohiparveen/DA6401%20ASSIGNMENT%203' target=\"_blank\">https://wandb.ai/roohiparveen/DA6401%20ASSIGNMENT%203</a>"
      ],
      "text/plain": [
       "<IPython.core.display.HTML object>"
      ]
     },
     "metadata": {},
     "output_type": "display_data"
    },
    {
     "data": {
      "text/html": [
       " View sweep at <a href='https://wandb.ai/roohiparveen/DA6401%20ASSIGNMENT%203/sweeps/aayppy4c' target=\"_blank\">https://wandb.ai/roohiparveen/DA6401%20ASSIGNMENT%203/sweeps/aayppy4c</a>"
      ],
      "text/plain": [
       "<IPython.core.display.HTML object>"
      ]
     },
     "metadata": {},
     "output_type": "display_data"
    },
    {
     "data": {
      "text/html": [
       " View run at <a href='https://wandb.ai/roohiparveen/DA6401%20ASSIGNMENT%203/runs/d1dano18' target=\"_blank\">https://wandb.ai/roohiparveen/DA6401%20ASSIGNMENT%203/runs/d1dano18</a>"
      ],
      "text/plain": [
       "<IPython.core.display.HTML object>"
      ]
     },
     "metadata": {},
     "output_type": "display_data"
    },
    {
     "data": {
      "text/html": [],
      "text/plain": [
       "<IPython.core.display.HTML object>"
      ]
     },
     "metadata": {},
     "output_type": "display_data"
    },
    {
     "data": {
      "text/html": [
       "<br>    <style><br>        .wandb-row {<br>            display: flex;<br>            flex-direction: row;<br>            flex-wrap: wrap;<br>            justify-content: flex-start;<br>            width: 100%;<br>        }<br>        .wandb-col {<br>            display: flex;<br>            flex-direction: column;<br>            flex-basis: 100%;<br>            flex: 1;<br>            padding: 10px;<br>        }<br>    </style><br><div class=\"wandb-row\"><div class=\"wandb-col\"><h3>Run history:</h3><br/><table class=\"wandb\"><tr><td>epoch</td><td>▁▂▃▃▄▅▆▆▇█</td></tr><tr><td>train_acc</td><td>▁▃▅▆▆▇▇███</td></tr><tr><td>train_loss</td><td>█▆▄▃▃▂▂▁▁▁</td></tr><tr><td>val_acc</td><td>▁▃▅▅▆▇▇▇██</td></tr><tr><td>val_loss</td><td>█▆▄▃▂▂▂▁▁▁</td></tr></table><br/></div><div class=\"wandb-col\"><h3>Run summary:</h3><br/><table class=\"wandb\"><tr><td>epoch</td><td>10</td></tr><tr><td>train_acc</td><td>0.70037</td></tr><tr><td>train_loss</td><td>1.05826</td></tr><tr><td>val_acc</td><td>0.63007</td></tr><tr><td>val_loss</td><td>1.34802</td></tr></table><br/></div></div>"
      ],
      "text/plain": [
       "<IPython.core.display.HTML object>"
      ]
     },
     "metadata": {},
     "output_type": "display_data"
    },
    {
     "data": {
      "text/html": [
       " View run <strong style=\"color:#cdcd00\">polar-sweep-6</strong> at: <a href='https://wandb.ai/roohiparveen/DA6401%20ASSIGNMENT%203/runs/d1dano18' target=\"_blank\">https://wandb.ai/roohiparveen/DA6401%20ASSIGNMENT%203/runs/d1dano18</a><br> View project at: <a href='https://wandb.ai/roohiparveen/DA6401%20ASSIGNMENT%203' target=\"_blank\">https://wandb.ai/roohiparveen/DA6401%20ASSIGNMENT%203</a><br>Synced 5 W&B file(s), 0 media file(s), 0 artifact file(s) and 0 other file(s)"
      ],
      "text/plain": [
       "<IPython.core.display.HTML object>"
      ]
     },
     "metadata": {},
     "output_type": "display_data"
    },
    {
     "data": {
      "text/html": [
       "Find logs at: <code>./wandb/run-20250520_122407-d1dano18/logs</code>"
      ],
      "text/plain": [
       "<IPython.core.display.HTML object>"
      ]
     },
     "metadata": {},
     "output_type": "display_data"
    },
    {
     "name": "stderr",
     "output_type": "stream",
     "text": [
      "\u001b[34m\u001b[1mwandb\u001b[0m: Agent Starting Run: gf56peob with config:\n",
      "\u001b[34m\u001b[1mwandb\u001b[0m: \tbatch_size: 64\n",
      "\u001b[34m\u001b[1mwandb\u001b[0m: \tcell_type: LSTM\n",
      "\u001b[34m\u001b[1mwandb\u001b[0m: \tdropout: 0.3\n",
      "\u001b[34m\u001b[1mwandb\u001b[0m: \tembedding_dim: 64\n",
      "\u001b[34m\u001b[1mwandb\u001b[0m: \thidden_dim: 32\n",
      "\u001b[34m\u001b[1mwandb\u001b[0m: \tlearning_rate: 0.001\n",
      "\u001b[34m\u001b[1mwandb\u001b[0m: \tnum_layers: 2\n",
      "\u001b[34m\u001b[1mwandb\u001b[0m: \tteacher_forcing_ratio: 0.5\n"
     ]
    },
    {
     "data": {
      "text/html": [
       "Tracking run with wandb version 0.19.9"
      ],
      "text/plain": [
       "<IPython.core.display.HTML object>"
      ]
     },
     "metadata": {},
     "output_type": "display_data"
    },
    {
     "data": {
      "text/html": [
       "Run data is saved locally in <code>/kaggle/working/wandb/run-20250520_123010-gf56peob</code>"
      ],
      "text/plain": [
       "<IPython.core.display.HTML object>"
      ]
     },
     "metadata": {},
     "output_type": "display_data"
    },
    {
     "data": {
      "text/html": [
       "Syncing run <strong><a href='https://wandb.ai/roohiparveen/DA6401%20ASSIGNMENT%203/runs/gf56peob' target=\"_blank\">comfy-sweep-7</a></strong> to <a href='https://wandb.ai/roohiparveen/DA6401%20ASSIGNMENT%203' target=\"_blank\">Weights & Biases</a> (<a href='https://wandb.me/developer-guide' target=\"_blank\">docs</a>)<br>Sweep page: <a href='https://wandb.ai/roohiparveen/DA6401%20ASSIGNMENT%203/sweeps/aayppy4c' target=\"_blank\">https://wandb.ai/roohiparveen/DA6401%20ASSIGNMENT%203/sweeps/aayppy4c</a>"
      ],
      "text/plain": [
       "<IPython.core.display.HTML object>"
      ]
     },
     "metadata": {},
     "output_type": "display_data"
    },
    {
     "data": {
      "text/html": [
       " View project at <a href='https://wandb.ai/roohiparveen/DA6401%20ASSIGNMENT%203' target=\"_blank\">https://wandb.ai/roohiparveen/DA6401%20ASSIGNMENT%203</a>"
      ],
      "text/plain": [
       "<IPython.core.display.HTML object>"
      ]
     },
     "metadata": {},
     "output_type": "display_data"
    },
    {
     "data": {
      "text/html": [
       " View sweep at <a href='https://wandb.ai/roohiparveen/DA6401%20ASSIGNMENT%203/sweeps/aayppy4c' target=\"_blank\">https://wandb.ai/roohiparveen/DA6401%20ASSIGNMENT%203/sweeps/aayppy4c</a>"
      ],
      "text/plain": [
       "<IPython.core.display.HTML object>"
      ]
     },
     "metadata": {},
     "output_type": "display_data"
    },
    {
     "data": {
      "text/html": [
       " View run at <a href='https://wandb.ai/roohiparveen/DA6401%20ASSIGNMENT%203/runs/gf56peob' target=\"_blank\">https://wandb.ai/roohiparveen/DA6401%20ASSIGNMENT%203/runs/gf56peob</a>"
      ],
      "text/plain": [
       "<IPython.core.display.HTML object>"
      ]
     },
     "metadata": {},
     "output_type": "display_data"
    },
    {
     "data": {
      "text/html": [],
      "text/plain": [
       "<IPython.core.display.HTML object>"
      ]
     },
     "metadata": {},
     "output_type": "display_data"
    },
    {
     "data": {
      "text/html": [
       "<br>    <style><br>        .wandb-row {<br>            display: flex;<br>            flex-direction: row;<br>            flex-wrap: wrap;<br>            justify-content: flex-start;<br>            width: 100%;<br>        }<br>        .wandb-col {<br>            display: flex;<br>            flex-direction: column;<br>            flex-basis: 100%;<br>            flex: 1;<br>            padding: 10px;<br>        }<br>    </style><br><div class=\"wandb-row\"><div class=\"wandb-col\"><h3>Run history:</h3><br/><table class=\"wandb\"><tr><td>epoch</td><td>▁▂▃▃▄▅▆▆▇█</td></tr><tr><td>train_acc</td><td>▁▃▅▅▆▇▇▇██</td></tr><tr><td>train_loss</td><td>█▆▄▃▃▂▂▁▁▁</td></tr><tr><td>val_acc</td><td>▁▃▄▅▆▆▇▇██</td></tr><tr><td>val_loss</td><td>█▆▅▄▃▃▂▂▁▁</td></tr></table><br/></div><div class=\"wandb-col\"><h3>Run summary:</h3><br/><table class=\"wandb\"><tr><td>epoch</td><td>10</td></tr><tr><td>train_acc</td><td>0.69497</td></tr><tr><td>train_loss</td><td>1.08744</td></tr><tr><td>val_acc</td><td>0.62729</td></tr><tr><td>val_loss</td><td>1.35923</td></tr></table><br/></div></div>"
      ],
      "text/plain": [
       "<IPython.core.display.HTML object>"
      ]
     },
     "metadata": {},
     "output_type": "display_data"
    },
    {
     "data": {
      "text/html": [
       " View run <strong style=\"color:#cdcd00\">comfy-sweep-7</strong> at: <a href='https://wandb.ai/roohiparveen/DA6401%20ASSIGNMENT%203/runs/gf56peob' target=\"_blank\">https://wandb.ai/roohiparveen/DA6401%20ASSIGNMENT%203/runs/gf56peob</a><br> View project at: <a href='https://wandb.ai/roohiparveen/DA6401%20ASSIGNMENT%203' target=\"_blank\">https://wandb.ai/roohiparveen/DA6401%20ASSIGNMENT%203</a><br>Synced 5 W&B file(s), 0 media file(s), 0 artifact file(s) and 0 other file(s)"
      ],
      "text/plain": [
       "<IPython.core.display.HTML object>"
      ]
     },
     "metadata": {},
     "output_type": "display_data"
    },
    {
     "data": {
      "text/html": [
       "Find logs at: <code>./wandb/run-20250520_123010-gf56peob/logs</code>"
      ],
      "text/plain": [
       "<IPython.core.display.HTML object>"
      ]
     },
     "metadata": {},
     "output_type": "display_data"
    },
    {
     "name": "stderr",
     "output_type": "stream",
     "text": [
      "\u001b[34m\u001b[1mwandb\u001b[0m: Agent Starting Run: 4qqiqqx2 with config:\n",
      "\u001b[34m\u001b[1mwandb\u001b[0m: \tbatch_size: 64\n",
      "\u001b[34m\u001b[1mwandb\u001b[0m: \tcell_type: LSTM\n",
      "\u001b[34m\u001b[1mwandb\u001b[0m: \tdropout: 0.3\n",
      "\u001b[34m\u001b[1mwandb\u001b[0m: \tembedding_dim: 32\n",
      "\u001b[34m\u001b[1mwandb\u001b[0m: \thidden_dim: 64\n",
      "\u001b[34m\u001b[1mwandb\u001b[0m: \tlearning_rate: 0.001\n",
      "\u001b[34m\u001b[1mwandb\u001b[0m: \tnum_layers: 3\n",
      "\u001b[34m\u001b[1mwandb\u001b[0m: \tteacher_forcing_ratio: 0.5\n"
     ]
    },
    {
     "data": {
      "text/html": [
       "Tracking run with wandb version 0.19.9"
      ],
      "text/plain": [
       "<IPython.core.display.HTML object>"
      ]
     },
     "metadata": {},
     "output_type": "display_data"
    },
    {
     "data": {
      "text/html": [
       "Run data is saved locally in <code>/kaggle/working/wandb/run-20250520_123613-4qqiqqx2</code>"
      ],
      "text/plain": [
       "<IPython.core.display.HTML object>"
      ]
     },
     "metadata": {},
     "output_type": "display_data"
    },
    {
     "data": {
      "text/html": [
       "Syncing run <strong><a href='https://wandb.ai/roohiparveen/DA6401%20ASSIGNMENT%203/runs/4qqiqqx2' target=\"_blank\">golden-sweep-8</a></strong> to <a href='https://wandb.ai/roohiparveen/DA6401%20ASSIGNMENT%203' target=\"_blank\">Weights & Biases</a> (<a href='https://wandb.me/developer-guide' target=\"_blank\">docs</a>)<br>Sweep page: <a href='https://wandb.ai/roohiparveen/DA6401%20ASSIGNMENT%203/sweeps/aayppy4c' target=\"_blank\">https://wandb.ai/roohiparveen/DA6401%20ASSIGNMENT%203/sweeps/aayppy4c</a>"
      ],
      "text/plain": [
       "<IPython.core.display.HTML object>"
      ]
     },
     "metadata": {},
     "output_type": "display_data"
    },
    {
     "data": {
      "text/html": [
       " View project at <a href='https://wandb.ai/roohiparveen/DA6401%20ASSIGNMENT%203' target=\"_blank\">https://wandb.ai/roohiparveen/DA6401%20ASSIGNMENT%203</a>"
      ],
      "text/plain": [
       "<IPython.core.display.HTML object>"
      ]
     },
     "metadata": {},
     "output_type": "display_data"
    },
    {
     "data": {
      "text/html": [
       " View sweep at <a href='https://wandb.ai/roohiparveen/DA6401%20ASSIGNMENT%203/sweeps/aayppy4c' target=\"_blank\">https://wandb.ai/roohiparveen/DA6401%20ASSIGNMENT%203/sweeps/aayppy4c</a>"
      ],
      "text/plain": [
       "<IPython.core.display.HTML object>"
      ]
     },
     "metadata": {},
     "output_type": "display_data"
    },
    {
     "data": {
      "text/html": [
       " View run at <a href='https://wandb.ai/roohiparveen/DA6401%20ASSIGNMENT%203/runs/4qqiqqx2' target=\"_blank\">https://wandb.ai/roohiparveen/DA6401%20ASSIGNMENT%203/runs/4qqiqqx2</a>"
      ],
      "text/plain": [
       "<IPython.core.display.HTML object>"
      ]
     },
     "metadata": {},
     "output_type": "display_data"
    },
    {
     "data": {
      "text/html": [],
      "text/plain": [
       "<IPython.core.display.HTML object>"
      ]
     },
     "metadata": {},
     "output_type": "display_data"
    },
    {
     "data": {
      "text/html": [
       "<br>    <style><br>        .wandb-row {<br>            display: flex;<br>            flex-direction: row;<br>            flex-wrap: wrap;<br>            justify-content: flex-start;<br>            width: 100%;<br>        }<br>        .wandb-col {<br>            display: flex;<br>            flex-direction: column;<br>            flex-basis: 100%;<br>            flex: 1;<br>            padding: 10px;<br>        }<br>    </style><br><div class=\"wandb-row\"><div class=\"wandb-col\"><h3>Run history:</h3><br/><table class=\"wandb\"><tr><td>epoch</td><td>▁▂▃▃▄▅▆▆▇█</td></tr><tr><td>train_acc</td><td>▁▂▄▆▇▇████</td></tr><tr><td>train_loss</td><td>█▇▄▃▂▂▁▁▁▁</td></tr><tr><td>val_acc</td><td>▁▃▅▆▇▇████</td></tr><tr><td>val_loss</td><td>█▆▄▃▂▂▁▁▁▁</td></tr></table><br/></div><div class=\"wandb-col\"><h3>Run summary:</h3><br/><table class=\"wandb\"><tr><td>epoch</td><td>10</td></tr><tr><td>train_acc</td><td>0.84742</td></tr><tr><td>train_loss</td><td>0.57087</td></tr><tr><td>val_acc</td><td>0.79851</td></tr><tr><td>val_loss</td><td>0.85251</td></tr></table><br/></div></div>"
      ],
      "text/plain": [
       "<IPython.core.display.HTML object>"
      ]
     },
     "metadata": {},
     "output_type": "display_data"
    },
    {
     "data": {
      "text/html": [
       " View run <strong style=\"color:#cdcd00\">golden-sweep-8</strong> at: <a href='https://wandb.ai/roohiparveen/DA6401%20ASSIGNMENT%203/runs/4qqiqqx2' target=\"_blank\">https://wandb.ai/roohiparveen/DA6401%20ASSIGNMENT%203/runs/4qqiqqx2</a><br> View project at: <a href='https://wandb.ai/roohiparveen/DA6401%20ASSIGNMENT%203' target=\"_blank\">https://wandb.ai/roohiparveen/DA6401%20ASSIGNMENT%203</a><br>Synced 5 W&B file(s), 0 media file(s), 0 artifact file(s) and 0 other file(s)"
      ],
      "text/plain": [
       "<IPython.core.display.HTML object>"
      ]
     },
     "metadata": {},
     "output_type": "display_data"
    },
    {
     "data": {
      "text/html": [
       "Find logs at: <code>./wandb/run-20250520_123613-4qqiqqx2/logs</code>"
      ],
      "text/plain": [
       "<IPython.core.display.HTML object>"
      ]
     },
     "metadata": {},
     "output_type": "display_data"
    },
    {
     "name": "stderr",
     "output_type": "stream",
     "text": [
      "\u001b[34m\u001b[1mwandb\u001b[0m: Agent Starting Run: na8i2d9a with config:\n",
      "\u001b[34m\u001b[1mwandb\u001b[0m: \tbatch_size: 64\n",
      "\u001b[34m\u001b[1mwandb\u001b[0m: \tcell_type: LSTM\n",
      "\u001b[34m\u001b[1mwandb\u001b[0m: \tdropout: 0.3\n",
      "\u001b[34m\u001b[1mwandb\u001b[0m: \tembedding_dim: 32\n",
      "\u001b[34m\u001b[1mwandb\u001b[0m: \thidden_dim: 256\n",
      "\u001b[34m\u001b[1mwandb\u001b[0m: \tlearning_rate: 0.001\n",
      "\u001b[34m\u001b[1mwandb\u001b[0m: \tnum_layers: 3\n",
      "\u001b[34m\u001b[1mwandb\u001b[0m: \tteacher_forcing_ratio: 0.5\n"
     ]
    },
    {
     "data": {
      "text/html": [
       "Tracking run with wandb version 0.19.9"
      ],
      "text/plain": [
       "<IPython.core.display.HTML object>"
      ]
     },
     "metadata": {},
     "output_type": "display_data"
    },
    {
     "data": {
      "text/html": [
       "Run data is saved locally in <code>/kaggle/working/wandb/run-20250520_124328-na8i2d9a</code>"
      ],
      "text/plain": [
       "<IPython.core.display.HTML object>"
      ]
     },
     "metadata": {},
     "output_type": "display_data"
    },
    {
     "data": {
      "text/html": [
       "Syncing run <strong><a href='https://wandb.ai/roohiparveen/DA6401%20ASSIGNMENT%203/runs/na8i2d9a' target=\"_blank\">summer-sweep-9</a></strong> to <a href='https://wandb.ai/roohiparveen/DA6401%20ASSIGNMENT%203' target=\"_blank\">Weights & Biases</a> (<a href='https://wandb.me/developer-guide' target=\"_blank\">docs</a>)<br>Sweep page: <a href='https://wandb.ai/roohiparveen/DA6401%20ASSIGNMENT%203/sweeps/aayppy4c' target=\"_blank\">https://wandb.ai/roohiparveen/DA6401%20ASSIGNMENT%203/sweeps/aayppy4c</a>"
      ],
      "text/plain": [
       "<IPython.core.display.HTML object>"
      ]
     },
     "metadata": {},
     "output_type": "display_data"
    },
    {
     "data": {
      "text/html": [
       " View project at <a href='https://wandb.ai/roohiparveen/DA6401%20ASSIGNMENT%203' target=\"_blank\">https://wandb.ai/roohiparveen/DA6401%20ASSIGNMENT%203</a>"
      ],
      "text/plain": [
       "<IPython.core.display.HTML object>"
      ]
     },
     "metadata": {},
     "output_type": "display_data"
    },
    {
     "data": {
      "text/html": [
       " View sweep at <a href='https://wandb.ai/roohiparveen/DA6401%20ASSIGNMENT%203/sweeps/aayppy4c' target=\"_blank\">https://wandb.ai/roohiparveen/DA6401%20ASSIGNMENT%203/sweeps/aayppy4c</a>"
      ],
      "text/plain": [
       "<IPython.core.display.HTML object>"
      ]
     },
     "metadata": {},
     "output_type": "display_data"
    },
    {
     "data": {
      "text/html": [
       " View run at <a href='https://wandb.ai/roohiparveen/DA6401%20ASSIGNMENT%203/runs/na8i2d9a' target=\"_blank\">https://wandb.ai/roohiparveen/DA6401%20ASSIGNMENT%203/runs/na8i2d9a</a>"
      ],
      "text/plain": [
       "<IPython.core.display.HTML object>"
      ]
     },
     "metadata": {},
     "output_type": "display_data"
    },
    {
     "data": {
      "text/html": [],
      "text/plain": [
       "<IPython.core.display.HTML object>"
      ]
     },
     "metadata": {},
     "output_type": "display_data"
    },
    {
     "data": {
      "text/html": [
       "<br>    <style><br>        .wandb-row {<br>            display: flex;<br>            flex-direction: row;<br>            flex-wrap: wrap;<br>            justify-content: flex-start;<br>            width: 100%;<br>        }<br>        .wandb-col {<br>            display: flex;<br>            flex-direction: column;<br>            flex-basis: 100%;<br>            flex: 1;<br>            padding: 10px;<br>        }<br>    </style><br><div class=\"wandb-row\"><div class=\"wandb-col\"><h3>Run history:</h3><br/><table class=\"wandb\"><tr><td>epoch</td><td>▁▂▃▃▄▅▆▆▇█</td></tr><tr><td>train_acc</td><td>▁▆▇▇██████</td></tr><tr><td>train_loss</td><td>█▃▂▂▁▁▁▁▁▁</td></tr><tr><td>val_acc</td><td>▁▇████████</td></tr><tr><td>val_loss</td><td>█▂▁▁▁▁▁▂▁▂</td></tr></table><br/></div><div class=\"wandb-col\"><h3>Run summary:</h3><br/><table class=\"wandb\"><tr><td>epoch</td><td>10</td></tr><tr><td>train_acc</td><td>0.95971</td></tr><tr><td>train_loss</td><td>0.14975</td></tr><tr><td>val_acc</td><td>0.83406</td></tr><tr><td>val_loss</td><td>0.88809</td></tr></table><br/></div></div>"
      ],
      "text/plain": [
       "<IPython.core.display.HTML object>"
      ]
     },
     "metadata": {},
     "output_type": "display_data"
    },
    {
     "data": {
      "text/html": [
       " View run <strong style=\"color:#cdcd00\">summer-sweep-9</strong> at: <a href='https://wandb.ai/roohiparveen/DA6401%20ASSIGNMENT%203/runs/na8i2d9a' target=\"_blank\">https://wandb.ai/roohiparveen/DA6401%20ASSIGNMENT%203/runs/na8i2d9a</a><br> View project at: <a href='https://wandb.ai/roohiparveen/DA6401%20ASSIGNMENT%203' target=\"_blank\">https://wandb.ai/roohiparveen/DA6401%20ASSIGNMENT%203</a><br>Synced 5 W&B file(s), 0 media file(s), 0 artifact file(s) and 0 other file(s)"
      ],
      "text/plain": [
       "<IPython.core.display.HTML object>"
      ]
     },
     "metadata": {},
     "output_type": "display_data"
    },
    {
     "data": {
      "text/html": [
       "Find logs at: <code>./wandb/run-20250520_124328-na8i2d9a/logs</code>"
      ],
      "text/plain": [
       "<IPython.core.display.HTML object>"
      ]
     },
     "metadata": {},
     "output_type": "display_data"
    },
    {
     "name": "stderr",
     "output_type": "stream",
     "text": [
      "\u001b[34m\u001b[1mwandb\u001b[0m: Agent Starting Run: 5c4gijwq with config:\n",
      "\u001b[34m\u001b[1mwandb\u001b[0m: \tbatch_size: 64\n",
      "\u001b[34m\u001b[1mwandb\u001b[0m: \tcell_type: LSTM\n",
      "\u001b[34m\u001b[1mwandb\u001b[0m: \tdropout: 0.3\n",
      "\u001b[34m\u001b[1mwandb\u001b[0m: \tembedding_dim: 16\n",
      "\u001b[34m\u001b[1mwandb\u001b[0m: \thidden_dim: 256\n",
      "\u001b[34m\u001b[1mwandb\u001b[0m: \tlearning_rate: 0.001\n",
      "\u001b[34m\u001b[1mwandb\u001b[0m: \tnum_layers: 3\n",
      "\u001b[34m\u001b[1mwandb\u001b[0m: \tteacher_forcing_ratio: 0.5\n"
     ]
    },
    {
     "data": {
      "text/html": [
       "Tracking run with wandb version 0.19.9"
      ],
      "text/plain": [
       "<IPython.core.display.HTML object>"
      ]
     },
     "metadata": {},
     "output_type": "display_data"
    },
    {
     "data": {
      "text/html": [
       "Run data is saved locally in <code>/kaggle/working/wandb/run-20250520_125140-5c4gijwq</code>"
      ],
      "text/plain": [
       "<IPython.core.display.HTML object>"
      ]
     },
     "metadata": {},
     "output_type": "display_data"
    },
    {
     "data": {
      "text/html": [
       "Syncing run <strong><a href='https://wandb.ai/roohiparveen/DA6401%20ASSIGNMENT%203/runs/5c4gijwq' target=\"_blank\">pretty-sweep-10</a></strong> to <a href='https://wandb.ai/roohiparveen/DA6401%20ASSIGNMENT%203' target=\"_blank\">Weights & Biases</a> (<a href='https://wandb.me/developer-guide' target=\"_blank\">docs</a>)<br>Sweep page: <a href='https://wandb.ai/roohiparveen/DA6401%20ASSIGNMENT%203/sweeps/aayppy4c' target=\"_blank\">https://wandb.ai/roohiparveen/DA6401%20ASSIGNMENT%203/sweeps/aayppy4c</a>"
      ],
      "text/plain": [
       "<IPython.core.display.HTML object>"
      ]
     },
     "metadata": {},
     "output_type": "display_data"
    },
    {
     "data": {
      "text/html": [
       " View project at <a href='https://wandb.ai/roohiparveen/DA6401%20ASSIGNMENT%203' target=\"_blank\">https://wandb.ai/roohiparveen/DA6401%20ASSIGNMENT%203</a>"
      ],
      "text/plain": [
       "<IPython.core.display.HTML object>"
      ]
     },
     "metadata": {},
     "output_type": "display_data"
    },
    {
     "data": {
      "text/html": [
       " View sweep at <a href='https://wandb.ai/roohiparveen/DA6401%20ASSIGNMENT%203/sweeps/aayppy4c' target=\"_blank\">https://wandb.ai/roohiparveen/DA6401%20ASSIGNMENT%203/sweeps/aayppy4c</a>"
      ],
      "text/plain": [
       "<IPython.core.display.HTML object>"
      ]
     },
     "metadata": {},
     "output_type": "display_data"
    },
    {
     "data": {
      "text/html": [
       " View run at <a href='https://wandb.ai/roohiparveen/DA6401%20ASSIGNMENT%203/runs/5c4gijwq' target=\"_blank\">https://wandb.ai/roohiparveen/DA6401%20ASSIGNMENT%203/runs/5c4gijwq</a>"
      ],
      "text/plain": [
       "<IPython.core.display.HTML object>"
      ]
     },
     "metadata": {},
     "output_type": "display_data"
    },
    {
     "data": {
      "text/html": [],
      "text/plain": [
       "<IPython.core.display.HTML object>"
      ]
     },
     "metadata": {},
     "output_type": "display_data"
    },
    {
     "data": {
      "text/html": [
       "<br>    <style><br>        .wandb-row {<br>            display: flex;<br>            flex-direction: row;<br>            flex-wrap: wrap;<br>            justify-content: flex-start;<br>            width: 100%;<br>        }<br>        .wandb-col {<br>            display: flex;<br>            flex-direction: column;<br>            flex-basis: 100%;<br>            flex: 1;<br>            padding: 10px;<br>        }<br>    </style><br><div class=\"wandb-row\"><div class=\"wandb-col\"><h3>Run history:</h3><br/><table class=\"wandb\"><tr><td>epoch</td><td>▁▂▃▃▄▅▆▆▇█</td></tr><tr><td>train_acc</td><td>▁▅▇▇██████</td></tr><tr><td>train_loss</td><td>█▄▂▂▂▁▁▁▁▁</td></tr><tr><td>val_acc</td><td>▁▆▇███████</td></tr><tr><td>val_loss</td><td>█▃▁▁▁▁▁▁▁▁</td></tr></table><br/></div><div class=\"wandb-col\"><h3>Run summary:</h3><br/><table class=\"wandb\"><tr><td>epoch</td><td>10</td></tr><tr><td>train_acc</td><td>0.95373</td></tr><tr><td>train_loss</td><td>0.17364</td></tr><tr><td>val_acc</td><td>0.83571</td></tr><tr><td>val_loss</td><td>0.85594</td></tr></table><br/></div></div>"
      ],
      "text/plain": [
       "<IPython.core.display.HTML object>"
      ]
     },
     "metadata": {},
     "output_type": "display_data"
    },
    {
     "data": {
      "text/html": [
       " View run <strong style=\"color:#cdcd00\">pretty-sweep-10</strong> at: <a href='https://wandb.ai/roohiparveen/DA6401%20ASSIGNMENT%203/runs/5c4gijwq' target=\"_blank\">https://wandb.ai/roohiparveen/DA6401%20ASSIGNMENT%203/runs/5c4gijwq</a><br> View project at: <a href='https://wandb.ai/roohiparveen/DA6401%20ASSIGNMENT%203' target=\"_blank\">https://wandb.ai/roohiparveen/DA6401%20ASSIGNMENT%203</a><br>Synced 5 W&B file(s), 0 media file(s), 0 artifact file(s) and 0 other file(s)"
      ],
      "text/plain": [
       "<IPython.core.display.HTML object>"
      ]
     },
     "metadata": {},
     "output_type": "display_data"
    },
    {
     "data": {
      "text/html": [
       "Find logs at: <code>./wandb/run-20250520_125140-5c4gijwq/logs</code>"
      ],
      "text/plain": [
       "<IPython.core.display.HTML object>"
      ]
     },
     "metadata": {},
     "output_type": "display_data"
    },
    {
     "name": "stderr",
     "output_type": "stream",
     "text": [
      "\u001b[34m\u001b[1mwandb\u001b[0m: Agent Starting Run: rync5cs1 with config:\n",
      "\u001b[34m\u001b[1mwandb\u001b[0m: \tbatch_size: 64\n",
      "\u001b[34m\u001b[1mwandb\u001b[0m: \tcell_type: LSTM\n",
      "\u001b[34m\u001b[1mwandb\u001b[0m: \tdropout: 0.3\n",
      "\u001b[34m\u001b[1mwandb\u001b[0m: \tembedding_dim: 16\n",
      "\u001b[34m\u001b[1mwandb\u001b[0m: \thidden_dim: 256\n",
      "\u001b[34m\u001b[1mwandb\u001b[0m: \tlearning_rate: 0.001\n",
      "\u001b[34m\u001b[1mwandb\u001b[0m: \tnum_layers: 3\n",
      "\u001b[34m\u001b[1mwandb\u001b[0m: \tteacher_forcing_ratio: 0.5\n"
     ]
    },
    {
     "data": {
      "text/html": [
       "Tracking run with wandb version 0.19.9"
      ],
      "text/plain": [
       "<IPython.core.display.HTML object>"
      ]
     },
     "metadata": {},
     "output_type": "display_data"
    },
    {
     "data": {
      "text/html": [
       "Run data is saved locally in <code>/kaggle/working/wandb/run-20250520_125954-rync5cs1</code>"
      ],
      "text/plain": [
       "<IPython.core.display.HTML object>"
      ]
     },
     "metadata": {},
     "output_type": "display_data"
    },
    {
     "data": {
      "text/html": [
       "Syncing run <strong><a href='https://wandb.ai/roohiparveen/DA6401%20ASSIGNMENT%203/runs/rync5cs1' target=\"_blank\">rosy-sweep-11</a></strong> to <a href='https://wandb.ai/roohiparveen/DA6401%20ASSIGNMENT%203' target=\"_blank\">Weights & Biases</a> (<a href='https://wandb.me/developer-guide' target=\"_blank\">docs</a>)<br>Sweep page: <a href='https://wandb.ai/roohiparveen/DA6401%20ASSIGNMENT%203/sweeps/aayppy4c' target=\"_blank\">https://wandb.ai/roohiparveen/DA6401%20ASSIGNMENT%203/sweeps/aayppy4c</a>"
      ],
      "text/plain": [
       "<IPython.core.display.HTML object>"
      ]
     },
     "metadata": {},
     "output_type": "display_data"
    },
    {
     "data": {
      "text/html": [
       " View project at <a href='https://wandb.ai/roohiparveen/DA6401%20ASSIGNMENT%203' target=\"_blank\">https://wandb.ai/roohiparveen/DA6401%20ASSIGNMENT%203</a>"
      ],
      "text/plain": [
       "<IPython.core.display.HTML object>"
      ]
     },
     "metadata": {},
     "output_type": "display_data"
    },
    {
     "data": {
      "text/html": [
       " View sweep at <a href='https://wandb.ai/roohiparveen/DA6401%20ASSIGNMENT%203/sweeps/aayppy4c' target=\"_blank\">https://wandb.ai/roohiparveen/DA6401%20ASSIGNMENT%203/sweeps/aayppy4c</a>"
      ],
      "text/plain": [
       "<IPython.core.display.HTML object>"
      ]
     },
     "metadata": {},
     "output_type": "display_data"
    },
    {
     "data": {
      "text/html": [
       " View run at <a href='https://wandb.ai/roohiparveen/DA6401%20ASSIGNMENT%203/runs/rync5cs1' target=\"_blank\">https://wandb.ai/roohiparveen/DA6401%20ASSIGNMENT%203/runs/rync5cs1</a>"
      ],
      "text/plain": [
       "<IPython.core.display.HTML object>"
      ]
     },
     "metadata": {},
     "output_type": "display_data"
    },
    {
     "data": {
      "text/html": [],
      "text/plain": [
       "<IPython.core.display.HTML object>"
      ]
     },
     "metadata": {},
     "output_type": "display_data"
    },
    {
     "data": {
      "text/html": [
       "<br>    <style><br>        .wandb-row {<br>            display: flex;<br>            flex-direction: row;<br>            flex-wrap: wrap;<br>            justify-content: flex-start;<br>            width: 100%;<br>        }<br>        .wandb-col {<br>            display: flex;<br>            flex-direction: column;<br>            flex-basis: 100%;<br>            flex: 1;<br>            padding: 10px;<br>        }<br>    </style><br><div class=\"wandb-row\"><div class=\"wandb-col\"><h3>Run history:</h3><br/><table class=\"wandb\"><tr><td>epoch</td><td>▁▂▃▃▄▅▆▆▇█</td></tr><tr><td>train_acc</td><td>▁▅▇▇██████</td></tr><tr><td>train_loss</td><td>█▄▂▂▂▁▁▁▁▁</td></tr><tr><td>val_acc</td><td>▁▆▇███████</td></tr><tr><td>val_loss</td><td>█▃▁▁▁▁▁▁▁▂</td></tr></table><br/></div><div class=\"wandb-col\"><h3>Run summary:</h3><br/><table class=\"wandb\"><tr><td>epoch</td><td>10</td></tr><tr><td>train_acc</td><td>0.95452</td></tr><tr><td>train_loss</td><td>0.17049</td></tr><tr><td>val_acc</td><td>0.82772</td></tr><tr><td>val_loss</td><td>0.93541</td></tr></table><br/></div></div>"
      ],
      "text/plain": [
       "<IPython.core.display.HTML object>"
      ]
     },
     "metadata": {},
     "output_type": "display_data"
    },
    {
     "data": {
      "text/html": [
       " View run <strong style=\"color:#cdcd00\">rosy-sweep-11</strong> at: <a href='https://wandb.ai/roohiparveen/DA6401%20ASSIGNMENT%203/runs/rync5cs1' target=\"_blank\">https://wandb.ai/roohiparveen/DA6401%20ASSIGNMENT%203/runs/rync5cs1</a><br> View project at: <a href='https://wandb.ai/roohiparveen/DA6401%20ASSIGNMENT%203' target=\"_blank\">https://wandb.ai/roohiparveen/DA6401%20ASSIGNMENT%203</a><br>Synced 5 W&B file(s), 0 media file(s), 0 artifact file(s) and 0 other file(s)"
      ],
      "text/plain": [
       "<IPython.core.display.HTML object>"
      ]
     },
     "metadata": {},
     "output_type": "display_data"
    },
    {
     "data": {
      "text/html": [
       "Find logs at: <code>./wandb/run-20250520_125954-rync5cs1/logs</code>"
      ],
      "text/plain": [
       "<IPython.core.display.HTML object>"
      ]
     },
     "metadata": {},
     "output_type": "display_data"
    },
    {
     "name": "stderr",
     "output_type": "stream",
     "text": [
      "\u001b[34m\u001b[1mwandb\u001b[0m: Agent Starting Run: ypso0sn7 with config:\n",
      "\u001b[34m\u001b[1mwandb\u001b[0m: \tbatch_size: 64\n",
      "\u001b[34m\u001b[1mwandb\u001b[0m: \tcell_type: LSTM\n",
      "\u001b[34m\u001b[1mwandb\u001b[0m: \tdropout: 0.3\n",
      "\u001b[34m\u001b[1mwandb\u001b[0m: \tembedding_dim: 64\n",
      "\u001b[34m\u001b[1mwandb\u001b[0m: \thidden_dim: 256\n",
      "\u001b[34m\u001b[1mwandb\u001b[0m: \tlearning_rate: 0.001\n",
      "\u001b[34m\u001b[1mwandb\u001b[0m: \tnum_layers: 3\n",
      "\u001b[34m\u001b[1mwandb\u001b[0m: \tteacher_forcing_ratio: 0.5\n"
     ]
    },
    {
     "data": {
      "text/html": [
       "Tracking run with wandb version 0.19.9"
      ],
      "text/plain": [
       "<IPython.core.display.HTML object>"
      ]
     },
     "metadata": {},
     "output_type": "display_data"
    },
    {
     "data": {
      "text/html": [
       "Run data is saved locally in <code>/kaggle/working/wandb/run-20250520_130810-ypso0sn7</code>"
      ],
      "text/plain": [
       "<IPython.core.display.HTML object>"
      ]
     },
     "metadata": {},
     "output_type": "display_data"
    },
    {
     "data": {
      "text/html": [
       "Syncing run <strong><a href='https://wandb.ai/roohiparveen/DA6401%20ASSIGNMENT%203/runs/ypso0sn7' target=\"_blank\">visionary-sweep-12</a></strong> to <a href='https://wandb.ai/roohiparveen/DA6401%20ASSIGNMENT%203' target=\"_blank\">Weights & Biases</a> (<a href='https://wandb.me/developer-guide' target=\"_blank\">docs</a>)<br>Sweep page: <a href='https://wandb.ai/roohiparveen/DA6401%20ASSIGNMENT%203/sweeps/aayppy4c' target=\"_blank\">https://wandb.ai/roohiparveen/DA6401%20ASSIGNMENT%203/sweeps/aayppy4c</a>"
      ],
      "text/plain": [
       "<IPython.core.display.HTML object>"
      ]
     },
     "metadata": {},
     "output_type": "display_data"
    },
    {
     "data": {
      "text/html": [
       " View project at <a href='https://wandb.ai/roohiparveen/DA6401%20ASSIGNMENT%203' target=\"_blank\">https://wandb.ai/roohiparveen/DA6401%20ASSIGNMENT%203</a>"
      ],
      "text/plain": [
       "<IPython.core.display.HTML object>"
      ]
     },
     "metadata": {},
     "output_type": "display_data"
    },
    {
     "data": {
      "text/html": [
       " View sweep at <a href='https://wandb.ai/roohiparveen/DA6401%20ASSIGNMENT%203/sweeps/aayppy4c' target=\"_blank\">https://wandb.ai/roohiparveen/DA6401%20ASSIGNMENT%203/sweeps/aayppy4c</a>"
      ],
      "text/plain": [
       "<IPython.core.display.HTML object>"
      ]
     },
     "metadata": {},
     "output_type": "display_data"
    },
    {
     "data": {
      "text/html": [
       " View run at <a href='https://wandb.ai/roohiparveen/DA6401%20ASSIGNMENT%203/runs/ypso0sn7' target=\"_blank\">https://wandb.ai/roohiparveen/DA6401%20ASSIGNMENT%203/runs/ypso0sn7</a>"
      ],
      "text/plain": [
       "<IPython.core.display.HTML object>"
      ]
     },
     "metadata": {},
     "output_type": "display_data"
    },
    {
     "data": {
      "text/html": [],
      "text/plain": [
       "<IPython.core.display.HTML object>"
      ]
     },
     "metadata": {},
     "output_type": "display_data"
    },
    {
     "data": {
      "text/html": [
       "<br>    <style><br>        .wandb-row {<br>            display: flex;<br>            flex-direction: row;<br>            flex-wrap: wrap;<br>            justify-content: flex-start;<br>            width: 100%;<br>        }<br>        .wandb-col {<br>            display: flex;<br>            flex-direction: column;<br>            flex-basis: 100%;<br>            flex: 1;<br>            padding: 10px;<br>        }<br>    </style><br><div class=\"wandb-row\"><div class=\"wandb-col\"><h3>Run history:</h3><br/><table class=\"wandb\"><tr><td>epoch</td><td>▁▂▃▃▄▅▆▆▇█</td></tr><tr><td>train_acc</td><td>▁▆▇▇██████</td></tr><tr><td>train_loss</td><td>█▃▂▂▁▁▁▁▁▁</td></tr><tr><td>val_acc</td><td>▁▆▇███████</td></tr><tr><td>val_loss</td><td>█▂▁▁▁▁▂▂▂▂</td></tr></table><br/></div><div class=\"wandb-col\"><h3>Run summary:</h3><br/><table class=\"wandb\"><tr><td>epoch</td><td>10</td></tr><tr><td>train_acc</td><td>0.95848</td></tr><tr><td>train_loss</td><td>0.15382</td></tr><tr><td>val_acc</td><td>0.83485</td></tr><tr><td>val_loss</td><td>0.90476</td></tr></table><br/></div></div>"
      ],
      "text/plain": [
       "<IPython.core.display.HTML object>"
      ]
     },
     "metadata": {},
     "output_type": "display_data"
    },
    {
     "data": {
      "text/html": [
       " View run <strong style=\"color:#cdcd00\">visionary-sweep-12</strong> at: <a href='https://wandb.ai/roohiparveen/DA6401%20ASSIGNMENT%203/runs/ypso0sn7' target=\"_blank\">https://wandb.ai/roohiparveen/DA6401%20ASSIGNMENT%203/runs/ypso0sn7</a><br> View project at: <a href='https://wandb.ai/roohiparveen/DA6401%20ASSIGNMENT%203' target=\"_blank\">https://wandb.ai/roohiparveen/DA6401%20ASSIGNMENT%203</a><br>Synced 5 W&B file(s), 0 media file(s), 0 artifact file(s) and 0 other file(s)"
      ],
      "text/plain": [
       "<IPython.core.display.HTML object>"
      ]
     },
     "metadata": {},
     "output_type": "display_data"
    },
    {
     "data": {
      "text/html": [
       "Find logs at: <code>./wandb/run-20250520_130810-ypso0sn7/logs</code>"
      ],
      "text/plain": [
       "<IPython.core.display.HTML object>"
      ]
     },
     "metadata": {},
     "output_type": "display_data"
    },
    {
     "name": "stderr",
     "output_type": "stream",
     "text": [
      "\u001b[34m\u001b[1mwandb\u001b[0m: Sweep Agent: Waiting for job.\n",
      "\u001b[34m\u001b[1mwandb\u001b[0m: Job received.\n",
      "\u001b[34m\u001b[1mwandb\u001b[0m: Agent Starting Run: t7iyy6ww with config:\n",
      "\u001b[34m\u001b[1mwandb\u001b[0m: \tbatch_size: 64\n",
      "\u001b[34m\u001b[1mwandb\u001b[0m: \tcell_type: LSTM\n",
      "\u001b[34m\u001b[1mwandb\u001b[0m: \tdropout: 0.3\n",
      "\u001b[34m\u001b[1mwandb\u001b[0m: \tembedding_dim: 32\n",
      "\u001b[34m\u001b[1mwandb\u001b[0m: \thidden_dim: 256\n",
      "\u001b[34m\u001b[1mwandb\u001b[0m: \tlearning_rate: 0.001\n",
      "\u001b[34m\u001b[1mwandb\u001b[0m: \tnum_layers: 3\n",
      "\u001b[34m\u001b[1mwandb\u001b[0m: \tteacher_forcing_ratio: 0.5\n"
     ]
    },
    {
     "data": {
      "text/html": [
       "Tracking run with wandb version 0.19.9"
      ],
      "text/plain": [
       "<IPython.core.display.HTML object>"
      ]
     },
     "metadata": {},
     "output_type": "display_data"
    },
    {
     "data": {
      "text/html": [
       "Run data is saved locally in <code>/kaggle/working/wandb/run-20250520_131647-t7iyy6ww</code>"
      ],
      "text/plain": [
       "<IPython.core.display.HTML object>"
      ]
     },
     "metadata": {},
     "output_type": "display_data"
    },
    {
     "data": {
      "text/html": [
       "Syncing run <strong><a href='https://wandb.ai/roohiparveen/DA6401%20ASSIGNMENT%203/runs/t7iyy6ww' target=\"_blank\">fancy-sweep-13</a></strong> to <a href='https://wandb.ai/roohiparveen/DA6401%20ASSIGNMENT%203' target=\"_blank\">Weights & Biases</a> (<a href='https://wandb.me/developer-guide' target=\"_blank\">docs</a>)<br>Sweep page: <a href='https://wandb.ai/roohiparveen/DA6401%20ASSIGNMENT%203/sweeps/aayppy4c' target=\"_blank\">https://wandb.ai/roohiparveen/DA6401%20ASSIGNMENT%203/sweeps/aayppy4c</a>"
      ],
      "text/plain": [
       "<IPython.core.display.HTML object>"
      ]
     },
     "metadata": {},
     "output_type": "display_data"
    },
    {
     "data": {
      "text/html": [
       " View project at <a href='https://wandb.ai/roohiparveen/DA6401%20ASSIGNMENT%203' target=\"_blank\">https://wandb.ai/roohiparveen/DA6401%20ASSIGNMENT%203</a>"
      ],
      "text/plain": [
       "<IPython.core.display.HTML object>"
      ]
     },
     "metadata": {},
     "output_type": "display_data"
    },
    {
     "data": {
      "text/html": [
       " View sweep at <a href='https://wandb.ai/roohiparveen/DA6401%20ASSIGNMENT%203/sweeps/aayppy4c' target=\"_blank\">https://wandb.ai/roohiparveen/DA6401%20ASSIGNMENT%203/sweeps/aayppy4c</a>"
      ],
      "text/plain": [
       "<IPython.core.display.HTML object>"
      ]
     },
     "metadata": {},
     "output_type": "display_data"
    },
    {
     "data": {
      "text/html": [
       " View run at <a href='https://wandb.ai/roohiparveen/DA6401%20ASSIGNMENT%203/runs/t7iyy6ww' target=\"_blank\">https://wandb.ai/roohiparveen/DA6401%20ASSIGNMENT%203/runs/t7iyy6ww</a>"
      ],
      "text/plain": [
       "<IPython.core.display.HTML object>"
      ]
     },
     "metadata": {},
     "output_type": "display_data"
    },
    {
     "data": {
      "text/html": [],
      "text/plain": [
       "<IPython.core.display.HTML object>"
      ]
     },
     "metadata": {},
     "output_type": "display_data"
    },
    {
     "data": {
      "text/html": [
       "<br>    <style><br>        .wandb-row {<br>            display: flex;<br>            flex-direction: row;<br>            flex-wrap: wrap;<br>            justify-content: flex-start;<br>            width: 100%;<br>        }<br>        .wandb-col {<br>            display: flex;<br>            flex-direction: column;<br>            flex-basis: 100%;<br>            flex: 1;<br>            padding: 10px;<br>        }<br>    </style><br><div class=\"wandb-row\"><div class=\"wandb-col\"><h3>Run history:</h3><br/><table class=\"wandb\"><tr><td>epoch</td><td>▁▂▃▃▄▅▆▆▇█</td></tr><tr><td>train_acc</td><td>▁▅▇▇██████</td></tr><tr><td>train_loss</td><td>█▄▂▂▁▁▁▁▁▁</td></tr><tr><td>val_acc</td><td>▁▇████████</td></tr><tr><td>val_loss</td><td>█▂▁▁▁▁▁▂▁▂</td></tr></table><br/></div><div class=\"wandb-col\"><h3>Run summary:</h3><br/><table class=\"wandb\"><tr><td>epoch</td><td>10</td></tr><tr><td>train_acc</td><td>0.95494</td></tr><tr><td>train_loss</td><td>0.16792</td></tr><tr><td>val_acc</td><td>0.8375</td></tr><tr><td>val_loss</td><td>0.86154</td></tr></table><br/></div></div>"
      ],
      "text/plain": [
       "<IPython.core.display.HTML object>"
      ]
     },
     "metadata": {},
     "output_type": "display_data"
    },
    {
     "data": {
      "text/html": [
       " View run <strong style=\"color:#cdcd00\">fancy-sweep-13</strong> at: <a href='https://wandb.ai/roohiparveen/DA6401%20ASSIGNMENT%203/runs/t7iyy6ww' target=\"_blank\">https://wandb.ai/roohiparveen/DA6401%20ASSIGNMENT%203/runs/t7iyy6ww</a><br> View project at: <a href='https://wandb.ai/roohiparveen/DA6401%20ASSIGNMENT%203' target=\"_blank\">https://wandb.ai/roohiparveen/DA6401%20ASSIGNMENT%203</a><br>Synced 5 W&B file(s), 0 media file(s), 0 artifact file(s) and 0 other file(s)"
      ],
      "text/plain": [
       "<IPython.core.display.HTML object>"
      ]
     },
     "metadata": {},
     "output_type": "display_data"
    },
    {
     "data": {
      "text/html": [
       "Find logs at: <code>./wandb/run-20250520_131647-t7iyy6ww/logs</code>"
      ],
      "text/plain": [
       "<IPython.core.display.HTML object>"
      ]
     },
     "metadata": {},
     "output_type": "display_data"
    },
    {
     "name": "stderr",
     "output_type": "stream",
     "text": [
      "\u001b[34m\u001b[1mwandb\u001b[0m: Sweep Agent: Waiting for job.\n",
      "\u001b[34m\u001b[1mwandb\u001b[0m: Job received.\n",
      "\u001b[34m\u001b[1mwandb\u001b[0m: Agent Starting Run: zy0u96rc with config:\n",
      "\u001b[34m\u001b[1mwandb\u001b[0m: \tbatch_size: 64\n",
      "\u001b[34m\u001b[1mwandb\u001b[0m: \tcell_type: LSTM\n",
      "\u001b[34m\u001b[1mwandb\u001b[0m: \tdropout: 0.3\n",
      "\u001b[34m\u001b[1mwandb\u001b[0m: \tembedding_dim: 64\n",
      "\u001b[34m\u001b[1mwandb\u001b[0m: \thidden_dim: 64\n",
      "\u001b[34m\u001b[1mwandb\u001b[0m: \tlearning_rate: 0.001\n",
      "\u001b[34m\u001b[1mwandb\u001b[0m: \tnum_layers: 3\n",
      "\u001b[34m\u001b[1mwandb\u001b[0m: \tteacher_forcing_ratio: 0.5\n"
     ]
    },
    {
     "data": {
      "text/html": [
       "Tracking run with wandb version 0.19.9"
      ],
      "text/plain": [
       "<IPython.core.display.HTML object>"
      ]
     },
     "metadata": {},
     "output_type": "display_data"
    },
    {
     "data": {
      "text/html": [
       "Run data is saved locally in <code>/kaggle/working/wandb/run-20250520_132527-zy0u96rc</code>"
      ],
      "text/plain": [
       "<IPython.core.display.HTML object>"
      ]
     },
     "metadata": {},
     "output_type": "display_data"
    },
    {
     "data": {
      "text/html": [
       "Syncing run <strong><a href='https://wandb.ai/roohiparveen/DA6401%20ASSIGNMENT%203/runs/zy0u96rc' target=\"_blank\">fast-sweep-14</a></strong> to <a href='https://wandb.ai/roohiparveen/DA6401%20ASSIGNMENT%203' target=\"_blank\">Weights & Biases</a> (<a href='https://wandb.me/developer-guide' target=\"_blank\">docs</a>)<br>Sweep page: <a href='https://wandb.ai/roohiparveen/DA6401%20ASSIGNMENT%203/sweeps/aayppy4c' target=\"_blank\">https://wandb.ai/roohiparveen/DA6401%20ASSIGNMENT%203/sweeps/aayppy4c</a>"
      ],
      "text/plain": [
       "<IPython.core.display.HTML object>"
      ]
     },
     "metadata": {},
     "output_type": "display_data"
    },
    {
     "data": {
      "text/html": [
       " View project at <a href='https://wandb.ai/roohiparveen/DA6401%20ASSIGNMENT%203' target=\"_blank\">https://wandb.ai/roohiparveen/DA6401%20ASSIGNMENT%203</a>"
      ],
      "text/plain": [
       "<IPython.core.display.HTML object>"
      ]
     },
     "metadata": {},
     "output_type": "display_data"
    },
    {
     "data": {
      "text/html": [
       " View sweep at <a href='https://wandb.ai/roohiparveen/DA6401%20ASSIGNMENT%203/sweeps/aayppy4c' target=\"_blank\">https://wandb.ai/roohiparveen/DA6401%20ASSIGNMENT%203/sweeps/aayppy4c</a>"
      ],
      "text/plain": [
       "<IPython.core.display.HTML object>"
      ]
     },
     "metadata": {},
     "output_type": "display_data"
    },
    {
     "data": {
      "text/html": [
       " View run at <a href='https://wandb.ai/roohiparveen/DA6401%20ASSIGNMENT%203/runs/zy0u96rc' target=\"_blank\">https://wandb.ai/roohiparveen/DA6401%20ASSIGNMENT%203/runs/zy0u96rc</a>"
      ],
      "text/plain": [
       "<IPython.core.display.HTML object>"
      ]
     },
     "metadata": {},
     "output_type": "display_data"
    },
    {
     "data": {
      "text/html": [],
      "text/plain": [
       "<IPython.core.display.HTML object>"
      ]
     },
     "metadata": {},
     "output_type": "display_data"
    },
    {
     "data": {
      "text/html": [
       "<br>    <style><br>        .wandb-row {<br>            display: flex;<br>            flex-direction: row;<br>            flex-wrap: wrap;<br>            justify-content: flex-start;<br>            width: 100%;<br>        }<br>        .wandb-col {<br>            display: flex;<br>            flex-direction: column;<br>            flex-basis: 100%;<br>            flex: 1;<br>            padding: 10px;<br>        }<br>    </style><br><div class=\"wandb-row\"><div class=\"wandb-col\"><h3>Run history:</h3><br/><table class=\"wandb\"><tr><td>epoch</td><td>▁▂▃▃▄▅▆▆▇█</td></tr><tr><td>train_acc</td><td>▁▃▆▇▇▇████</td></tr><tr><td>train_loss</td><td>█▅▃▂▂▂▁▁▁▁</td></tr><tr><td>val_acc</td><td>▁▄▆▇▇█████</td></tr><tr><td>val_loss</td><td>█▅▃▂▂▁▁▁▁▁</td></tr></table><br/></div><div class=\"wandb-col\"><h3>Run summary:</h3><br/><table class=\"wandb\"><tr><td>epoch</td><td>10</td></tr><tr><td>train_acc</td><td>0.85151</td></tr><tr><td>train_loss</td><td>0.55459</td></tr><tr><td>val_acc</td><td>0.79586</td></tr><tr><td>val_loss</td><td>0.86701</td></tr></table><br/></div></div>"
      ],
      "text/plain": [
       "<IPython.core.display.HTML object>"
      ]
     },
     "metadata": {},
     "output_type": "display_data"
    },
    {
     "data": {
      "text/html": [
       " View run <strong style=\"color:#cdcd00\">fast-sweep-14</strong> at: <a href='https://wandb.ai/roohiparveen/DA6401%20ASSIGNMENT%203/runs/zy0u96rc' target=\"_blank\">https://wandb.ai/roohiparveen/DA6401%20ASSIGNMENT%203/runs/zy0u96rc</a><br> View project at: <a href='https://wandb.ai/roohiparveen/DA6401%20ASSIGNMENT%203' target=\"_blank\">https://wandb.ai/roohiparveen/DA6401%20ASSIGNMENT%203</a><br>Synced 5 W&B file(s), 0 media file(s), 0 artifact file(s) and 0 other file(s)"
      ],
      "text/plain": [
       "<IPython.core.display.HTML object>"
      ]
     },
     "metadata": {},
     "output_type": "display_data"
    },
    {
     "data": {
      "text/html": [
       "Find logs at: <code>./wandb/run-20250520_132527-zy0u96rc/logs</code>"
      ],
      "text/plain": [
       "<IPython.core.display.HTML object>"
      ]
     },
     "metadata": {},
     "output_type": "display_data"
    },
    {
     "name": "stderr",
     "output_type": "stream",
     "text": [
      "\u001b[34m\u001b[1mwandb\u001b[0m: Agent Starting Run: z0xowoni with config:\n",
      "\u001b[34m\u001b[1mwandb\u001b[0m: \tbatch_size: 64\n",
      "\u001b[34m\u001b[1mwandb\u001b[0m: \tcell_type: LSTM\n",
      "\u001b[34m\u001b[1mwandb\u001b[0m: \tdropout: 0.2\n",
      "\u001b[34m\u001b[1mwandb\u001b[0m: \tembedding_dim: 256\n",
      "\u001b[34m\u001b[1mwandb\u001b[0m: \thidden_dim: 256\n",
      "\u001b[34m\u001b[1mwandb\u001b[0m: \tlearning_rate: 0.001\n",
      "\u001b[34m\u001b[1mwandb\u001b[0m: \tnum_layers: 3\n",
      "\u001b[34m\u001b[1mwandb\u001b[0m: \tteacher_forcing_ratio: 0.5\n"
     ]
    },
    {
     "data": {
      "text/html": [
       "Tracking run with wandb version 0.19.9"
      ],
      "text/plain": [
       "<IPython.core.display.HTML object>"
      ]
     },
     "metadata": {},
     "output_type": "display_data"
    },
    {
     "data": {
      "text/html": [
       "Run data is saved locally in <code>/kaggle/working/wandb/run-20250520_133248-z0xowoni</code>"
      ],
      "text/plain": [
       "<IPython.core.display.HTML object>"
      ]
     },
     "metadata": {},
     "output_type": "display_data"
    },
    {
     "data": {
      "text/html": [
       "Syncing run <strong><a href='https://wandb.ai/roohiparveen/DA6401%20ASSIGNMENT%203/runs/z0xowoni' target=\"_blank\">light-sweep-15</a></strong> to <a href='https://wandb.ai/roohiparveen/DA6401%20ASSIGNMENT%203' target=\"_blank\">Weights & Biases</a> (<a href='https://wandb.me/developer-guide' target=\"_blank\">docs</a>)<br>Sweep page: <a href='https://wandb.ai/roohiparveen/DA6401%20ASSIGNMENT%203/sweeps/aayppy4c' target=\"_blank\">https://wandb.ai/roohiparveen/DA6401%20ASSIGNMENT%203/sweeps/aayppy4c</a>"
      ],
      "text/plain": [
       "<IPython.core.display.HTML object>"
      ]
     },
     "metadata": {},
     "output_type": "display_data"
    },
    {
     "data": {
      "text/html": [
       " View project at <a href='https://wandb.ai/roohiparveen/DA6401%20ASSIGNMENT%203' target=\"_blank\">https://wandb.ai/roohiparveen/DA6401%20ASSIGNMENT%203</a>"
      ],
      "text/plain": [
       "<IPython.core.display.HTML object>"
      ]
     },
     "metadata": {},
     "output_type": "display_data"
    },
    {
     "data": {
      "text/html": [
       " View sweep at <a href='https://wandb.ai/roohiparveen/DA6401%20ASSIGNMENT%203/sweeps/aayppy4c' target=\"_blank\">https://wandb.ai/roohiparveen/DA6401%20ASSIGNMENT%203/sweeps/aayppy4c</a>"
      ],
      "text/plain": [
       "<IPython.core.display.HTML object>"
      ]
     },
     "metadata": {},
     "output_type": "display_data"
    },
    {
     "data": {
      "text/html": [
       " View run at <a href='https://wandb.ai/roohiparveen/DA6401%20ASSIGNMENT%203/runs/z0xowoni' target=\"_blank\">https://wandb.ai/roohiparveen/DA6401%20ASSIGNMENT%203/runs/z0xowoni</a>"
      ],
      "text/plain": [
       "<IPython.core.display.HTML object>"
      ]
     },
     "metadata": {},
     "output_type": "display_data"
    },
    {
     "data": {
      "text/html": [],
      "text/plain": [
       "<IPython.core.display.HTML object>"
      ]
     },
     "metadata": {},
     "output_type": "display_data"
    },
    {
     "data": {
      "text/html": [
       "<br>    <style><br>        .wandb-row {<br>            display: flex;<br>            flex-direction: row;<br>            flex-wrap: wrap;<br>            justify-content: flex-start;<br>            width: 100%;<br>        }<br>        .wandb-col {<br>            display: flex;<br>            flex-direction: column;<br>            flex-basis: 100%;<br>            flex: 1;<br>            padding: 10px;<br>        }<br>    </style><br><div class=\"wandb-row\"><div class=\"wandb-col\"><h3>Run history:</h3><br/><table class=\"wandb\"><tr><td>epoch</td><td>▁▂▃▃▄▅▆▆▇█</td></tr><tr><td>train_acc</td><td>▁▆▇▇██████</td></tr><tr><td>train_loss</td><td>█▃▂▂▁▁▁▁▁▁</td></tr><tr><td>val_acc</td><td>▁▆▇███████</td></tr><tr><td>val_loss</td><td>█▂▁▁▂▂▂▂▂▃</td></tr></table><br/></div><div class=\"wandb-col\"><h3>Run summary:</h3><br/><table class=\"wandb\"><tr><td>epoch</td><td>10</td></tr><tr><td>train_acc</td><td>0.96119</td></tr><tr><td>train_loss</td><td>0.1434</td></tr><tr><td>val_acc</td><td>0.82345</td></tr><tr><td>val_loss</td><td>0.95153</td></tr></table><br/></div></div>"
      ],
      "text/plain": [
       "<IPython.core.display.HTML object>"
      ]
     },
     "metadata": {},
     "output_type": "display_data"
    },
    {
     "data": {
      "text/html": [
       " View run <strong style=\"color:#cdcd00\">light-sweep-15</strong> at: <a href='https://wandb.ai/roohiparveen/DA6401%20ASSIGNMENT%203/runs/z0xowoni' target=\"_blank\">https://wandb.ai/roohiparveen/DA6401%20ASSIGNMENT%203/runs/z0xowoni</a><br> View project at: <a href='https://wandb.ai/roohiparveen/DA6401%20ASSIGNMENT%203' target=\"_blank\">https://wandb.ai/roohiparveen/DA6401%20ASSIGNMENT%203</a><br>Synced 5 W&B file(s), 0 media file(s), 0 artifact file(s) and 0 other file(s)"
      ],
      "text/plain": [
       "<IPython.core.display.HTML object>"
      ]
     },
     "metadata": {},
     "output_type": "display_data"
    },
    {
     "data": {
      "text/html": [
       "Find logs at: <code>./wandb/run-20250520_133248-z0xowoni/logs</code>"
      ],
      "text/plain": [
       "<IPython.core.display.HTML object>"
      ]
     },
     "metadata": {},
     "output_type": "display_data"
    }
   ],
   "source": [
    "# Optional: To run the sweep (outside the script, after loading)\n",
    "# import wandb\n",
    "sweep_id = wandb.sweep(sweep_config, project=\"DA6401 Assignment 3\")\n",
    "wandb.agent(sweep_id, function=sweep_train, count=15)"
   ]
  },
  {
   "cell_type": "code",
   "execution_count": 43,
   "metadata": {
    "execution": {
     "iopub.execute_input": "2025-05-20T14:51:40.383540Z",
     "iopub.status.busy": "2025-05-20T14:51:40.383292Z",
     "iopub.status.idle": "2025-05-20T15:07:29.402199Z",
     "shell.execute_reply": "2025-05-20T15:07:29.401310Z",
     "shell.execute_reply.started": "2025-05-20T14:51:40.383523Z"
    },
    "trusted": true
   },
   "outputs": [
    {
     "name": "stdout",
     "output_type": "stream",
     "text": [
      "✅ Test Loss: 0.8357\n",
      "✅ Test Accuracy: 81.49%\n",
      "\n",
      "🔍 Beam Search Transliteration Samples:\n",
      "Input: faarm → Predicted: பார்ம்\n",
      "Input: farm → Predicted: பார்\n",
      "Input: form → Predicted: போர்ம்\n",
      "Input: hpaarm → Predicted: யார்ம்\n",
      "Input: face → Predicted: பேக்\n",
      "Input: hpaes → Predicted: யேஸ்\n",
      "Input: pace → Predicted: பேக்\n",
      "Input: paes → Predicted: பேஸ்\n",
      "Input: phase → Predicted: பேச்\n",
      "Input: aeathimuka → Predicted: ஏதிமுக\n"
     ]
    }
   ],
   "source": [
    "import torch\n",
    "from torch.utils.data import Dataset, DataLoader\n",
    "import os\n",
    "from collections import Counter\n",
    "import torch.nn as nn\n",
    "\n",
    "# --------------------------\n",
    "# Vocabulary\n",
    "# --------------------------\n",
    "def build_vocab_from_data(path, column=0):\n",
    "    counter = Counter()\n",
    "    with open(path, encoding='utf-8') as f:\n",
    "        for line in f:\n",
    "            parts = line.strip().split('\\t')\n",
    "            if len(parts) < 2:\n",
    "                continue\n",
    "            text = parts[column]\n",
    "            counter.update(list(text))\n",
    "    vocab = {'<pad>': 0, '<unk>': 1, '<sos>': 2, '<eos>': 3}\n",
    "    for i, char in enumerate(sorted(counter.keys()), start=4):\n",
    "        vocab[char] = i\n",
    "    return vocab\n",
    "\n",
    "# --------------------------\n",
    "# Dataset\n",
    "# --------------------------\n",
    "class TransliterationDataset(Dataset):\n",
    "    def __init__(self, path, input_vocab, output_vocab):\n",
    "        self.data = []\n",
    "        with open(path, encoding='utf-8') as f:\n",
    "            for line in f:\n",
    "                parts = line.strip().split('\\t')\n",
    "                if len(parts) < 2:\n",
    "                    continue\n",
    "                target, latin = parts[0], parts[1]\n",
    "                src = [input_vocab['<sos>']] + [input_vocab.get(c, input_vocab['<unk>']) for c in latin] + [input_vocab['<eos>']]\n",
    "                trg = [output_vocab['<sos>']] + [output_vocab.get(c, output_vocab['<unk>']) for c in target] + [output_vocab['<eos>']]\n",
    "                self.data.append((torch.tensor(src), torch.tensor(trg)))\n",
    "\n",
    "    def __len__(self):\n",
    "        return len(self.data)\n",
    "\n",
    "    def __getitem__(self, idx):\n",
    "        return self.data[idx]\n",
    "\n",
    "def pad_collate_fn(batch):\n",
    "    src_batch, trg_batch = zip(*batch)\n",
    "    src_lens = [len(seq) for seq in src_batch]\n",
    "    trg_lens = [len(seq) for seq in trg_batch]\n",
    "    max_src_len, max_trg_len = max(src_lens), max(trg_lens)\n",
    "\n",
    "    pad_src = [torch.cat([seq, torch.full((max_src_len - len(seq),), input_vocab['<pad>'])]) for seq in src_batch]\n",
    "    pad_trg = [torch.cat([seq, torch.full((max_trg_len - len(seq),), output_vocab['<pad>'])]) for seq in trg_batch]\n",
    "\n",
    "    return torch.stack(pad_src), torch.stack(pad_trg)\n",
    "\n",
    "# --------------------------\n",
    "# Model\n",
    "# --------------------------\n",
    "class Encoder(nn.Module):\n",
    "    def __init__(self, input_dim, emb_dim, hidden_dim, num_layers, dropout, bidirectional=False):\n",
    "        super().__init__()\n",
    "        self.embedding = nn.Embedding(input_dim, emb_dim)\n",
    "        self.bidirectional = bidirectional\n",
    "        self.num_directions = 2 if bidirectional else 1\n",
    "\n",
    "        self.rnn = nn.LSTM(\n",
    "            emb_dim, hidden_dim, num_layers,\n",
    "            dropout=dropout if num_layers > 1 else 0,\n",
    "            bidirectional=bidirectional, batch_first=True\n",
    "        )\n",
    "        self.dropout = nn.Dropout(dropout)\n",
    "\n",
    "    def forward(self, src):\n",
    "        # src: [batch_size, src_len]\n",
    "        embedded = self.dropout(self.embedding(src))\n",
    "        outputs, (hidden, cell) = self.rnn(embedded)\n",
    "        # outputs: [batch_size, src_len, hidden_dim * num_directions]\n",
    "        # hidden, cell: [num_layers * num_directions, batch_size, hidden_dim]\n",
    "        return outputs, hidden, cell\n",
    "\n",
    "class Decoder(nn.Module):\n",
    "    def __init__(self, output_dim, emb_dim, hidden_dim, num_layers, dropout, bidirectional_encoder=False):\n",
    "        super().__init__()\n",
    "        self.output_dim = output_dim  # <-- Add this line\n",
    "\n",
    "        self.embedding = nn.Embedding(output_dim, emb_dim)\n",
    "\n",
    "        input_hidden_dim = hidden_dim * 2 if bidirectional_encoder else hidden_dim\n",
    "\n",
    "        self.rnn = nn.LSTM(\n",
    "            emb_dim, hidden_dim, num_layers,\n",
    "            dropout=dropout if num_layers > 1 else 0,\n",
    "            batch_first=True\n",
    "        )\n",
    "        self.fc_out = nn.Linear(hidden_dim, output_dim)\n",
    "        self.dropout = nn.Dropout(dropout)\n",
    "\n",
    "    def forward(self, input, hidden, cell):\n",
    "        if input.dim() == 0:\n",
    "            input = input.unsqueeze(0)  # scalar to [1]\n",
    "        input = input.unsqueeze(1)      # add seq_len dim -> [batch_size, 1]\n",
    "        embedded = self.dropout(self.embedding(input))\n",
    "        output, (hidden, cell) = self.rnn(embedded, (hidden, cell))\n",
    "        prediction = self.fc_out(output.squeeze(1))\n",
    "        return prediction, hidden, cell\n",
    "\n",
    "class Seq2Seq(nn.Module):\n",
    "    def __init__(self, encoder, decoder, device, bidirectional_encoder=False):\n",
    "        super().__init__()\n",
    "        self.encoder = encoder\n",
    "        self.decoder = decoder\n",
    "        self.device = device\n",
    "        self.bidirectional_encoder = bidirectional_encoder\n",
    "\n",
    "\n",
    "    def forward(self, src, trg, teacher_forcing_ratio=0.5):\n",
    "        batch_size = src.shape[0]\n",
    "        trg_len = trg.shape[1]\n",
    "        trg_vocab_size = self.decoder.output_dim\n",
    "\n",
    "        outputs = torch.zeros(batch_size, trg_len, trg_vocab_size).to(self.device)\n",
    "\n",
    "        encoder_outputs, hidden, cell = self.encoder(src)\n",
    "\n",
    "        if self.bidirectional_encoder:\n",
    "            hidden = self._concat_directions(hidden)\n",
    "            cell = self._concat_directions(cell)\n",
    "\n",
    "        input = trg[:, 0]  # first input token is <sos>\n",
    "\n",
    "        for t in range(1, trg_len):\n",
    "            output, hidden, cell = self.decoder(input, hidden, cell)\n",
    "            outputs[:, t] = output\n",
    "            teacher_force = random.random() < teacher_forcing_ratio\n",
    "            top1 = output.argmax(1)\n",
    "            input = trg[:, t] if teacher_force else top1\n",
    "\n",
    "        return outputs\n",
    "\n",
    "    def _concat_directions(self, h):\n",
    "        # [num_layers * 2, batch_size, hidden_dim] → [num_layers, batch_size, hidden_dim * 2]\n",
    "        return torch.cat((h[0:h.size(0):2], h[1:h.size(0):2]), dim=2)\n",
    "\n",
    "        \n",
    "def beam_search_decode(model, src, input_vocab, output_vocab, beam_width=3, max_len=100):\n",
    "    model.eval()\n",
    "    src = src.unsqueeze(0).to(model.device)  # Add batch dimension\n",
    "\n",
    "    with torch.no_grad():\n",
    "        encoder_outputs, hidden, cell = model.encoder(src)\n",
    "\n",
    "        if model.bidirectional_encoder:\n",
    "            hidden = model._concat_directions(hidden)\n",
    "            cell = model._concat_directions(cell)\n",
    "\n",
    "        idx2char = {v: k for k, v in output_vocab.items()}\n",
    "        start_token = output_vocab['<sos>']\n",
    "        end_token = output_vocab['<eos>']\n",
    "\n",
    "        # Each beam holds (sequence, hidden, cell, score)\n",
    "        beams = [(torch.tensor([start_token], device=model.device), hidden, cell, 0.0)]\n",
    "        completed = []\n",
    "\n",
    "        for _ in range(max_len):\n",
    "            new_beams = []\n",
    "            for seq, hidden, cell, score in beams:\n",
    "                if seq[-1].item() == end_token:\n",
    "                    completed.append((seq, hidden, cell, score))\n",
    "                    continue\n",
    "\n",
    "                # Decoder forward step requires input token, hidden, cell\n",
    "                output, hidden_new, cell_new = model.decoder(seq[-1], hidden, cell)\n",
    "                log_probs = torch.log_softmax(output, dim=1).squeeze(0)  # shape: vocab_size\n",
    "                topk_probs, topk_idxs = log_probs.topk(beam_width)\n",
    "\n",
    "                for prob, idx in zip(topk_probs, topk_idxs):\n",
    "                    new_seq = torch.cat([seq, idx.unsqueeze(0)])\n",
    "                    new_beams.append((new_seq, hidden_new, cell_new, score + prob.item()))\n",
    "\n",
    "            # Keep top beam_width beams only\n",
    "            beams = sorted(new_beams, key=lambda x: x[3], reverse=True)[:beam_width]\n",
    "\n",
    "            # If all beams ended with <eos>, stop early\n",
    "            if all(seq[-1].item() == end_token for seq, _, _, _ in beams):\n",
    "                completed.extend(beams)\n",
    "                break\n",
    "\n",
    "        if not completed:\n",
    "            completed = beams\n",
    "\n",
    "        # Pick best scoring completed sequence\n",
    "        best_seq = max(completed, key=lambda x: x[3])[0]\n",
    "\n",
    "        # Decode to characters, skip special tokens\n",
    "        decoded = [idx2char[idx.item()] for idx in best_seq if idx.item() not in {start_token, end_token, output_vocab['<pad>']}]\n",
    "        return ''.join(decoded)\n",
    "\n",
    "def transliterate_test_set(model, test_loader, input_vocab, output_vocab, beam_width=3):\n",
    "    model.eval()\n",
    "    idx2input = {v: k for k, v in input_vocab.items()}\n",
    "    predictions = []\n",
    "\n",
    "    with torch.no_grad():\n",
    "        for src_batch, trg_batch in test_loader:\n",
    "            for i in range(src_batch.size(0)):\n",
    "                src_seq = src_batch[i]\n",
    "                input_str = ''.join([idx2input[idx.item()] for idx in src_seq if idx.item() not in {input_vocab['<pad>'], input_vocab['<sos>'], input_vocab['<eos>']}])\n",
    "                pred = beam_search_decode(model, src_seq, input_vocab, output_vocab, beam_width=beam_width)\n",
    "                predictions.append((input_str, pred))\n",
    "\n",
    "    return predictions\n",
    "\n",
    "# --------------------------\n",
    "# Evaluation\n",
    "# --------------------------\n",
    "def evaluate(model, data_loader, criterion, device):\n",
    "    model.eval()\n",
    "    total_loss, total_correct, total_tokens = 0, 0, 0\n",
    "\n",
    "    with torch.no_grad():\n",
    "        for src, trg in data_loader:\n",
    "            src, trg = src.to(device), trg.to(device)\n",
    "            output = model(src, trg, teacher_forcing_ratio=0)\n",
    "\n",
    "            output = output[:, 1:].reshape(-1, output.shape[-1])\n",
    "            trg = trg[:, 1:].reshape(-1)\n",
    "\n",
    "            loss = criterion(output, trg)\n",
    "            total_loss += loss.item()\n",
    "\n",
    "            pred = output.argmax(1)\n",
    "            non_pad = trg != PAD_IDX\n",
    "            total_correct += (pred == trg)[non_pad].sum().item()\n",
    "            total_tokens += non_pad.sum().item()\n",
    "\n",
    "    return total_loss / len(data_loader), total_correct / total_tokens\n",
    "\n",
    "# --------------------------\n",
    "# Run Evaluation\n",
    "# --------------------------\n",
    "data_path = \"/kaggle/input/dakshina-dataset/dakshina_dataset_v1.0/ta/lexicons\"\n",
    "train_path = os.path.join(data_path, \"ta.translit.sampled.train.tsv\")\n",
    "test_path = os.path.join(data_path, \"ta.translit.sampled.test.tsv\")\n",
    "\n",
    "input_vocab = build_vocab_from_data(train_path, column=1)\n",
    "output_vocab = build_vocab_from_data(train_path, column=0)\n",
    "PAD_IDX = output_vocab['<pad>']\n",
    "\n",
    "test_dataset = TransliterationDataset(test_path, input_vocab, output_vocab)\n",
    "test_loader = DataLoader(test_dataset, batch_size=64, shuffle=False, collate_fn=pad_collate_fn)\n",
    "\n",
    "device = torch.device('cuda' if torch.cuda.is_available() else 'cpu')\n",
    "\n",
    "embedding_dim = 256\n",
    "hidden_dim = 256\n",
    "num_layers = 3\n",
    "bidirectional = False  # MUST be unidirectional\n",
    "\n",
    "encoder = Encoder(input_dim=len(input_vocab), emb_dim=embedding_dim, hidden_dim=hidden_dim,\n",
    "                  num_layers=num_layers, dropout=0.3, bidirectional=bidirectional)\n",
    "decoder = Decoder(output_dim=len(output_vocab), emb_dim=embedding_dim, hidden_dim=hidden_dim,\n",
    "                  num_layers=num_layers, dropout=0.3)\n",
    "\n",
    "model = Seq2Seq(encoder, decoder, device, bidirectional_encoder=bidirectional).to(device)\n",
    "model.load_state_dict(torch.load(\"best_model.pt\", map_location=device))\n",
    "\n",
    "criterion = nn.CrossEntropyLoss(ignore_index=PAD_IDX)\n",
    "test_loss, test_acc = evaluate(model, test_loader, criterion, device)\n",
    "\n",
    "print(f\"✅ Test Loss: {test_loss:.4f}\")\n",
    "print(f\"✅ Test Accuracy: {test_acc * 100:.2f}%\")\n",
    "\n",
    "print(\"\\n🔍 Beam Search Transliteration Samples:\")\n",
    "beam_predictions = transliterate_test_set(model, test_loader, input_vocab, output_vocab, beam_width=5)\n",
    "\n",
    "for i, (input_str, pred_str) in enumerate(beam_predictions[:10]):\n",
    "    print(f\"Input: {input_str} → Predicted: {pred_str}\")\n"
   ]
  },
  {
   "cell_type": "code",
   "execution_count": null,
   "metadata": {
    "trusted": true
   },
   "outputs": [],
   "source": []
  }
 ],
 "metadata": {
  "kaggle": {
   "accelerator": "nvidiaTeslaT4",
   "dataSources": [
    {
     "datasetId": 7445151,
     "sourceId": 11849022,
     "sourceType": "datasetVersion"
    }
   ],
   "dockerImageVersionId": 31040,
   "isGpuEnabled": true,
   "isInternetEnabled": true,
   "language": "python",
   "sourceType": "notebook"
  },
  "kernelspec": {
   "display_name": "Python 3",
   "language": "python",
   "name": "python3"
  },
  "language_info": {
   "codemirror_mode": {
    "name": "ipython",
    "version": 3
   },
   "file_extension": ".py",
   "mimetype": "text/x-python",
   "name": "python",
   "nbconvert_exporter": "python",
   "pygments_lexer": "ipython3",
   "version": "3.11.11"
  }
 },
 "nbformat": 4,
 "nbformat_minor": 4
}
